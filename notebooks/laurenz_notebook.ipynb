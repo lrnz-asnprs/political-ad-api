{
 "cells": [
  {
   "cell_type": "markdown",
   "metadata": {},
   "source": [
    "# Basic setup for fetching data from the facebook api\n",
    "\n",
    "### Remember to add an active access token below and adjust the parameters and fields if necessary"
   ]
  },
  {
   "cell_type": "code",
   "execution_count": 216,
   "metadata": {},
   "outputs": [],
   "source": [
    "# must be specified to be able to use methods of package\n",
    "import sys\n",
    "sys.path.append('../src') \n",
    "# import packages\n",
    "import numpy as np\n",
    "import pandas as pd\n",
    "from political_ads.api_request import get_json_response\n",
    "from political_ads.helper import *\n",
    "\n",
    "# insert your access token here (expires every 2 hours)\n",
    "access_token = \"EAAHmCGvnrWoBAGF0nGZBMWcAWQLHaBkU44Rb45UR96oteiVeAwSPgoNYUSxdh58wHOZCQkB7q5AzUZA0GyzvvOi5LZCgOOkZBXBbLAHIU5eDHzfZCMsTHwdMZCKZCP83Ad1238TX8OFqwoh4x2ASC4sgRSRbL5He7y735vECdIsJzQMgnoTN81zwb7CadEt150yqgKxZC8oQ30HdNZCGiu02tr\"\n",
    "\n",
    "# PARAMETERS NECESSARY\n",
    "ad_type = \"POLITICAL_AND_ISSUE_ADS\"\n",
    "ad_reached_countries = ['US'] # Facebook delivered the ads in these countries. Provided as ISO country codes.\n",
    "search_terms = \"climate change\" # The terms to search for in your query. We treat a blank space as a logical AND and search for both terms and no other operators. The limit of your string is 100 characters or less.\n",
    "limit = 500\n",
    "\n",
    "# FIELDS to specify your results\n",
    "fields = [\"ad_creation_time\", \"ad_creative_body\",\"spend\", \"impressions\", \"delivery_by_region\", \"demographic_distribution\",\"page_id\", \"page_name\",\"bylines\",\"id\"]\n",
    "\n",
    "# see here for more parameters and fields: https://www.facebook.com/ads/library/api/?source=archive-landing-page \n",
    "\n",
    "input_url = f\"https://graph.facebook.com/v12.0/ads_archive?search_terms={search_terms}&ad_type={ad_type}&ad_reached_countries={ad_reached_countries}&fields={fields}&limit={limit}\"\n",
    "\n",
    "response = get_json_response(input_url, access_token)\n",
    "\n",
    "data = pd.DataFrame(response[\"data\"])\n"
   ]
  },
  {
   "cell_type": "code",
   "execution_count": 156,
   "metadata": {},
   "outputs": [
    {
     "name": "stdout",
     "output_type": "stream",
     "text": [
      "Iteration number 1\n",
      "Iteration number 2\n",
      "Iteration number 3\n",
      "Iteration number 4\n",
      "Iteration number 5\n",
      "Iteration number 6\n",
      "Iteration number 7\n",
      "Iteration number 8\n",
      "Iteration number 9\n",
      "Iteration number 10\n",
      "Iteration number 11\n",
      "Iteration number 12\n",
      "Iteration number 13\n",
      "Iteration number 14\n",
      "Iteration number 15\n",
      "Iteration number 16\n",
      "Iteration number 17\n",
      "Iteration number 18\n",
      "Iteration number 19\n",
      "Iteration number 20\n",
      "Iteration number 21\n",
      "Iteration number 22\n"
     ]
    },
    {
     "ename": "KeyboardInterrupt",
     "evalue": "",
     "output_type": "error",
     "traceback": [
      "\u001b[1;31m---------------------------------------------------------------------------\u001b[0m",
      "\u001b[1;31mKeyboardInterrupt\u001b[0m                         Traceback (most recent call last)",
      "\u001b[1;32m<ipython-input-156-699d2e12ad17>\u001b[0m in \u001b[0;36m<module>\u001b[1;34m\u001b[0m\n\u001b[0;32m     13\u001b[0m     \u001b[0mdata\u001b[0m \u001b[1;33m=\u001b[0m \u001b[0mdata\u001b[0m\u001b[1;33m.\u001b[0m\u001b[0mappend\u001b[0m\u001b[1;33m(\u001b[0m\u001b[0mnew_data\u001b[0m\u001b[1;33m,\u001b[0m \u001b[0mignore_index\u001b[0m\u001b[1;33m=\u001b[0m\u001b[1;32mTrue\u001b[0m\u001b[1;33m)\u001b[0m\u001b[1;33m\u001b[0m\u001b[1;33m\u001b[0m\u001b[0m\n\u001b[0;32m     14\u001b[0m     \u001b[0mcounter\u001b[0m \u001b[1;33m+=\u001b[0m \u001b[1;36m1\u001b[0m\u001b[1;33m\u001b[0m\u001b[1;33m\u001b[0m\u001b[0m\n\u001b[1;32m---> 15\u001b[1;33m     \u001b[0mtime\u001b[0m\u001b[1;33m.\u001b[0m\u001b[0msleep\u001b[0m\u001b[1;33m(\u001b[0m\u001b[1;36m10\u001b[0m\u001b[1;33m)\u001b[0m\u001b[1;33m\u001b[0m\u001b[1;33m\u001b[0m\u001b[0m\n\u001b[0m\u001b[0;32m     16\u001b[0m     \u001b[0mprint\u001b[0m\u001b[1;33m(\u001b[0m\u001b[1;34mf\"Iteration number {counter}\"\u001b[0m\u001b[1;33m)\u001b[0m\u001b[1;33m\u001b[0m\u001b[1;33m\u001b[0m\u001b[0m\n\u001b[0;32m     17\u001b[0m \u001b[1;33m\u001b[0m\u001b[0m\n",
      "\u001b[1;31mKeyboardInterrupt\u001b[0m: "
     ]
    }
   ],
   "source": [
    "'''\n",
    "Data Generation\n",
    "Loop to continuously fetch data, until there exists a next page\n",
    "'''\n",
    "import time\n",
    "\n",
    "counter = 0\n",
    "while \"next\" in response[\"paging\"]:\n",
    "    if counter == 50:\n",
    "        break\n",
    "    response = get_json_response(response[\"paging\"][\"next\"], access_token)\n",
    "    new_data = pd.DataFrame(response[\"data\"])\n",
    "    data = data.append(new_data, ignore_index=True)\n",
    "    counter += 1\n",
    "    time.sleep(10)\n",
    "    print(f\"Iteration number {counter}\")\n",
    "\n",
    "# Could go up to 70.000 entries\n",
    "# Reached iteration 140"
   ]
  },
  {
   "cell_type": "code",
   "execution_count": 157,
   "metadata": {},
   "outputs": [],
   "source": [
    "# Save data as csv\n",
    "data.to_csv(\"..\\\\data\\\\exported_df.csv\", index=False, header=True)"
   ]
  },
  {
   "cell_type": "code",
   "execution_count": 217,
   "metadata": {},
   "outputs": [],
   "source": [
    "# Read csv\n",
    "data = pd.read_csv(\"..\\\\data\\\\exported_df.csv\")"
   ]
  },
  {
   "cell_type": "code",
   "execution_count": 218,
   "metadata": {},
   "outputs": [
    {
     "data": {
      "text/plain": [
       "'1000'"
      ]
     },
     "execution_count": 218,
     "metadata": {},
     "output_type": "execute_result"
    }
   ],
   "source": [
    "\n",
    "def string_to_dict(dict_string):\n",
    "    import json \n",
    "    # Convert to proper json format\n",
    "    dict_string = dict_string.replace(\"'\", '\"')\n",
    "    return json.loads(dict_string)\n",
    "\n",
    "diction = string_to_dict(data[\"impressions\"][0])\n",
    "diction[\"lower_bound\"]"
   ]
  },
  {
   "cell_type": "code",
   "execution_count": 219,
   "metadata": {},
   "outputs": [],
   "source": [
    "# Apply transformations to dataset\n",
    "data[\"spend\"] = data[\"spend\"].apply(lambda x: string_to_dict(x))\n",
    "data[\"impressions\"] = data[\"impressions\"].apply(lambda x: string_to_dict(x))"
   ]
  },
  {
   "cell_type": "code",
   "execution_count": 211,
   "metadata": {},
   "outputs": [
    {
     "data": {
      "text/plain": [
       "{'lower_bound': '0', 'upper_bound': '99'}"
      ]
     },
     "execution_count": 211,
     "metadata": {},
     "output_type": "execute_result"
    }
   ],
   "source": []
  },
  {
   "cell_type": "code",
   "execution_count": 214,
   "metadata": {},
   "outputs": [],
   "source": [
    "# def transform_range(entry: dict):\n",
    "#     return int(int(entry[\"lower_bound\"]) + int(entry[\"upper_bound\"])) / 2"
   ]
  },
  {
   "cell_type": "code",
   "execution_count": 220,
   "metadata": {},
   "outputs": [],
   "source": [
    "# Apply transformations to dataset\n",
    "data[\"spend\"] = data[\"spend\"].apply(lambda x: transform_range(x))\n",
    "data[\"impressions\"] = data[\"impressions\"].apply(lambda x: transform_range(x))"
   ]
  },
  {
   "cell_type": "code",
   "execution_count": 221,
   "metadata": {},
   "outputs": [
    {
     "data": {
      "text/html": [
       "<div>\n",
       "<style scoped>\n",
       "    .dataframe tbody tr th:only-of-type {\n",
       "        vertical-align: middle;\n",
       "    }\n",
       "\n",
       "    .dataframe tbody tr th {\n",
       "        vertical-align: top;\n",
       "    }\n",
       "\n",
       "    .dataframe thead th {\n",
       "        text-align: right;\n",
       "    }\n",
       "</style>\n",
       "<table border=\"1\" class=\"dataframe\">\n",
       "  <thead>\n",
       "    <tr style=\"text-align: right;\">\n",
       "      <th></th>\n",
       "      <th>ad_creation_time</th>\n",
       "      <th>ad_creative_body</th>\n",
       "      <th>spend</th>\n",
       "      <th>impressions</th>\n",
       "      <th>delivery_by_region</th>\n",
       "      <th>demographic_distribution</th>\n",
       "      <th>page_id</th>\n",
       "      <th>page_name</th>\n",
       "      <th>bylines</th>\n",
       "      <th>id</th>\n",
       "    </tr>\n",
       "  </thead>\n",
       "  <tbody>\n",
       "    <tr>\n",
       "      <th>0</th>\n",
       "      <td>2021-08-27</td>\n",
       "      <td>🌎 Sierra Club's City Hike-A-Thon is a national...</td>\n",
       "      <td>49.5</td>\n",
       "      <td>1499.5</td>\n",
       "      <td>[{'percentage': '0.789011', 'region': 'Massach...</td>\n",
       "      <td>[{'percentage': '0.006508', 'age': '45-54', 'g...</td>\n",
       "      <td>6204742571</td>\n",
       "      <td>Sierra Club</td>\n",
       "      <td>SIERRA CLUB</td>\n",
       "      <td>161524832762330</td>\n",
       "    </tr>\n",
       "    <tr>\n",
       "      <th>1</th>\n",
       "      <td>2021-08-27</td>\n",
       "      <td>🌎 Sierra Club's City Hike-A-Thon is a national...</td>\n",
       "      <td>49.5</td>\n",
       "      <td>1499.5</td>\n",
       "      <td>[{'percentage': '0.001553', 'region': 'Connect...</td>\n",
       "      <td>[{'percentage': '0.00155', 'age': '18-24', 'ge...</td>\n",
       "      <td>6204742571</td>\n",
       "      <td>Sierra Club</td>\n",
       "      <td>SIERRA CLUB</td>\n",
       "      <td>317427000179234</td>\n",
       "    </tr>\n",
       "    <tr>\n",
       "      <th>2</th>\n",
       "      <td>2021-08-27</td>\n",
       "      <td>🌎 Sierra Club's City Hike-A-Thon is a national...</td>\n",
       "      <td>49.5</td>\n",
       "      <td>1499.5</td>\n",
       "      <td>[{'percentage': '0.003442', 'region': 'Connect...</td>\n",
       "      <td>[{'percentage': '0.001724', 'age': '35-44', 'g...</td>\n",
       "      <td>6204742571</td>\n",
       "      <td>Sierra Club</td>\n",
       "      <td>SIERRA CLUB</td>\n",
       "      <td>1033393710740228</td>\n",
       "    </tr>\n",
       "    <tr>\n",
       "      <th>3</th>\n",
       "      <td>2021-08-27</td>\n",
       "      <td>🌎 Sierra Club's City Hike-A-Thon is a national...</td>\n",
       "      <td>549.5</td>\n",
       "      <td>27499.5</td>\n",
       "      <td>[{'percentage': '0.002533', 'region': 'Connect...</td>\n",
       "      <td>[{'percentage': '0.004997', 'age': '35-44', 'g...</td>\n",
       "      <td>6204742571</td>\n",
       "      <td>Sierra Club</td>\n",
       "      <td>SIERRA CLUB</td>\n",
       "      <td>6504918652853309</td>\n",
       "    </tr>\n",
       "    <tr>\n",
       "      <th>4</th>\n",
       "      <td>2021-08-27</td>\n",
       "      <td>🌎 Sierra Club's City Hike-A-Thon is a national...</td>\n",
       "      <td>149.5</td>\n",
       "      <td>9499.5</td>\n",
       "      <td>[{'percentage': '1', 'region': 'California'}]</td>\n",
       "      <td>[{'percentage': '0.009098', 'age': '18-24', 'g...</td>\n",
       "      <td>6204742571</td>\n",
       "      <td>Sierra Club</td>\n",
       "      <td>SIERRA CLUB</td>\n",
       "      <td>144479121120381</td>\n",
       "    </tr>\n",
       "  </tbody>\n",
       "</table>\n",
       "</div>"
      ],
      "text/plain": [
       "  ad_creation_time                                   ad_creative_body  spend  \\\n",
       "0       2021-08-27  🌎 Sierra Club's City Hike-A-Thon is a national...   49.5   \n",
       "1       2021-08-27  🌎 Sierra Club's City Hike-A-Thon is a national...   49.5   \n",
       "2       2021-08-27  🌎 Sierra Club's City Hike-A-Thon is a national...   49.5   \n",
       "3       2021-08-27  🌎 Sierra Club's City Hike-A-Thon is a national...  549.5   \n",
       "4       2021-08-27  🌎 Sierra Club's City Hike-A-Thon is a national...  149.5   \n",
       "\n",
       "   impressions                                 delivery_by_region  \\\n",
       "0       1499.5  [{'percentage': '0.789011', 'region': 'Massach...   \n",
       "1       1499.5  [{'percentage': '0.001553', 'region': 'Connect...   \n",
       "2       1499.5  [{'percentage': '0.003442', 'region': 'Connect...   \n",
       "3      27499.5  [{'percentage': '0.002533', 'region': 'Connect...   \n",
       "4       9499.5      [{'percentage': '1', 'region': 'California'}]   \n",
       "\n",
       "                            demographic_distribution     page_id    page_name  \\\n",
       "0  [{'percentage': '0.006508', 'age': '45-54', 'g...  6204742571  Sierra Club   \n",
       "1  [{'percentage': '0.00155', 'age': '18-24', 'ge...  6204742571  Sierra Club   \n",
       "2  [{'percentage': '0.001724', 'age': '35-44', 'g...  6204742571  Sierra Club   \n",
       "3  [{'percentage': '0.004997', 'age': '35-44', 'g...  6204742571  Sierra Club   \n",
       "4  [{'percentage': '0.009098', 'age': '18-24', 'g...  6204742571  Sierra Club   \n",
       "\n",
       "       bylines                id  \n",
       "0  SIERRA CLUB   161524832762330  \n",
       "1  SIERRA CLUB   317427000179234  \n",
       "2  SIERRA CLUB  1033393710740228  \n",
       "3  SIERRA CLUB  6504918652853309  \n",
       "4  SIERRA CLUB   144479121120381  "
      ]
     },
     "execution_count": 221,
     "metadata": {},
     "output_type": "execute_result"
    }
   ],
   "source": [
    "data.head()"
   ]
  },
  {
   "cell_type": "code",
   "execution_count": 152,
   "metadata": {},
   "outputs": [
    {
     "data": {
      "text/plain": [
       "0     2021-08-27\n",
       "1     2021-08-27\n",
       "2     2021-08-27\n",
       "3     2021-08-27\n",
       "4     2021-08-27\n",
       "         ...    \n",
       "495   2021-10-12\n",
       "496   2021-10-12\n",
       "497   2021-10-12\n",
       "498   2021-10-12\n",
       "499   2021-10-12\n",
       "Name: ad_creation_time, Length: 500, dtype: datetime64[ns]"
      ]
     },
     "execution_count": 152,
     "metadata": {},
     "output_type": "execute_result"
    }
   ],
   "source": [
    "# Convert date to datetime timestamp object\n",
    "data[\"ad_creation_time\"] = pd.to_datetime(data[\"ad_creation_time\"])\n",
    "data[\"ad_creation_time\"]"
   ]
  },
  {
   "cell_type": "code",
   "execution_count": 148,
   "metadata": {},
   "outputs": [
    {
     "data": {
      "text/plain": [
       "<AxesSubplot:xlabel='ad_creation_time'>"
      ]
     },
     "execution_count": 148,
     "metadata": {},
     "output_type": "execute_result"
    },
    {
     "data": {
      "image/png": "[encoded data removed]",
      "text/plain": [
       "<Figure size 576x288 with 2 Axes>"
      ]
     },
     "metadata": {
      "needs_background": "light"
     },
     "output_type": "display_data"
    }
   ],
   "source": [
    "'''\n",
    "Visualization attempts\n",
    "https://pandas.pydata.org/pandas-docs/dev/getting_started/intro_tutorials/09_timeseries.html\n",
    "'''\n",
    "import matplotlib.pyplot as plt\n",
    "import seaborn as sns\n",
    "\n",
    "# Plotting spending over time and impressions over time \n",
    "fig, axes = plt.subplots(2,1,figsize=(8,4))\n",
    "data.plot(x=\"ad_creation_time\", y=\"impressions\", ax=axes[0])\n",
    "data.plot(x=\"ad_creation_time\", y=\"spend\", ax=axes[1])"
   ]
  },
  {
   "cell_type": "code",
   "execution_count": null,
   "metadata": {},
   "outputs": [],
   "source": []
  },
  {
   "cell_type": "code",
   "execution_count": 66,
   "metadata": {},
   "outputs": [
    {
     "ename": "KeyboardInterrupt",
     "evalue": "",
     "output_type": "error",
     "traceback": [
      "\u001b[1;31m---------------------------------------------------------------------------\u001b[0m",
      "\u001b[1;31mKeyboardInterrupt\u001b[0m                         Traceback (most recent call last)",
      "\u001b[1;32m<ipython-input-66-98a4f36115a7>\u001b[0m in \u001b[0;36m<module>\u001b[1;34m\u001b[0m\n\u001b[0;32m     11\u001b[0m     \u001b[0mdata\u001b[0m \u001b[1;33m=\u001b[0m \u001b[0mdata\u001b[0m\u001b[1;33m.\u001b[0m\u001b[0mappend\u001b[0m\u001b[1;33m(\u001b[0m\u001b[0mnew_data\u001b[0m\u001b[1;33m,\u001b[0m \u001b[0mignore_index\u001b[0m\u001b[1;33m=\u001b[0m\u001b[1;32mTrue\u001b[0m\u001b[1;33m)\u001b[0m\u001b[1;33m\u001b[0m\u001b[1;33m\u001b[0m\u001b[0m\n\u001b[0;32m     12\u001b[0m     \u001b[0mcounter\u001b[0m \u001b[1;33m+=\u001b[0m \u001b[1;36m1\u001b[0m\u001b[1;33m\u001b[0m\u001b[1;33m\u001b[0m\u001b[0m\n\u001b[1;32m---> 13\u001b[1;33m     \u001b[0mtime\u001b[0m\u001b[1;33m.\u001b[0m\u001b[0msleep\u001b[0m\u001b[1;33m(\u001b[0m\u001b[1;36m10\u001b[0m\u001b[1;33m)\u001b[0m\u001b[1;33m\u001b[0m\u001b[1;33m\u001b[0m\u001b[0m\n\u001b[0m\u001b[0;32m     14\u001b[0m     \u001b[0mprint\u001b[0m\u001b[1;33m(\u001b[0m\u001b[1;34mf\"Iteration number {counter}\"\u001b[0m\u001b[1;33m)\u001b[0m\u001b[1;33m\u001b[0m\u001b[1;33m\u001b[0m\u001b[0m\n\u001b[0;32m     15\u001b[0m \u001b[1;33m\u001b[0m\u001b[0m\n",
      "\u001b[1;31mKeyboardInterrupt\u001b[0m: "
     ]
    }
   ],
   "source": [
    "'''\n",
    "Data Generation\n",
    "Loop to continuously fetch data, until there exists a next page\n",
    "'''\n",
    "import time\n",
    "\n",
    "counter = 0\n",
    "while \"next\" in response[\"paging\"]:\n",
    "    response = get_json_response(response[\"paging\"][\"next\"], access_token)\n",
    "    new_data = pd.DataFrame(response[\"data\"])\n",
    "    data = data.append(new_data, ignore_index=True)\n",
    "    counter += 1\n",
    "    time.sleep(10)\n",
    "    print(f\"Iteration number {counter}\")\n",
    "\n",
    "# Could go up to 70.000 entries\n",
    "# Reached iteration 140"
   ]
  },
  {
   "cell_type": "code",
   "execution_count": null,
   "metadata": {},
   "outputs": [],
   "source": [
    "data.to_csv(\"..\\\\data\\\\exported_df.csv\", index=False, header=True)"
   ]
  },
  {
   "cell_type": "code",
   "execution_count": null,
   "metadata": {},
   "outputs": [],
   "source": [
    "'''\n",
    "Read data sample\n",
    "'''\n",
    "sample = pd.read_csv(\"..\\\\data\\\\exported_df.csv\")\n",
    "\n",
    "sample"
   ]
  }
 ],
 "metadata": {
  "interpreter": {
   "hash": "ecf98a633b3362dfdd0da0429a6156c4af256c2015ccd5dc6065039097b726a9"
  },
  "kernelspec": {
   "display_name": "Python 3.8.8 64-bit ('base': conda)",
   "name": "python3"
  },
  "language_info": {
   "codemirror_mode": {
    "name": "ipython",
    "version": 3
   },
   "file_extension": ".py",
   "mimetype": "text/x-python",
   "name": "python",
   "nbconvert_exporter": "python",
   "pygments_lexer": "ipython3",
   "version": "3.8.8"
  },
  "orig_nbformat": 4
 },
 "nbformat": 4,
 "nbformat_minor": 2
}
