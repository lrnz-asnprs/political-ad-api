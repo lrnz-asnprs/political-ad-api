{
 "cells": [
  {
   "cell_type": "markdown",
   "metadata": {},
   "source": [
    "# Basic setup for fetching data from the facebook api\n",
    "\n",
    "### Remember to add an active access token below and adjust the parameters and fields if necessary"
   ]
  },
  {
   "cell_type": "code",
   "execution_count": null,
   "metadata": {},
   "outputs": [],
   "source": [
    "# must be specified to be able to use methods of package\n",
    "import sys\n",
    "sys.path.append('../src') \n",
    "import numpy as np\n",
    "import pandas as pd\n",
    "from political_ads.api_request import API_request\n",
    "from political_ads.preprocessor import Preprocessor\n",
    "\n",
    "# Generates a dataset (in the data directory)\n",
    "requestor = API_request()\n",
    "# requestor.generate_dataset(500, \"climate\", \"EAAD3So8oorMBAMG0icdlft8e9Sjis7jSwoMsaLnsTadVrpysOaZA4H87Kay8eWHajacEfysxUqCkAIwKYD2jEfgy7ZBtmMtuZCRiwZBNyWpy7u0c7W2K2DtRELUyNXOv9ukN5M2Gum4DJ0FdDYffwiheYjI8VcbUJtFHPqaZBA9nCJaFw1lEXhDAMZCcEeyEAqJMKgzgEBRpH7RDI4YDngPmNzIf3UFIsI4qs0vNOv8j9CItNwNORQAiSM3zADXZBoZD\")\n"
   ]
  },
  {
   "cell_type": "code",
   "execution_count": null,
   "metadata": {},
   "outputs": [],
   "source": [
    "# Returns text file as dataframe with transformations\n",
    "preprocess = Preprocessor()\n",
    "data = preprocess.file_to_df(\"..\\\\data\\\\generated_dataset.txt\")"
   ]
  },
  {
   "cell_type": "code",
   "execution_count": null,
   "metadata": {},
   "outputs": [],
   "source": [
    "data.head(2)"
   ]
  },
  {
   "cell_type": "code",
   "execution_count": null,
   "metadata": {},
   "outputs": [],
   "source": [
    "'''\n",
    "Visualization attempts\n",
    "https://pandas.pydata.org/pandas-docs/dev/getting_started/intro_tutorials/09_timeseries.html\n",
    "'''\n",
    "import matplotlib.pyplot as plt\n",
    "import seaborn as sns\n",
    "\n",
    "# Plotting spending over time and impressions over time \n",
    "fig, axes = plt.subplots(2,1,figsize=(8,4))\n",
    "data.plot(x=\"ad_creation_time\", y=\"impressions\", ax=axes[0])\n",
    "data.plot(x=\"ad_creation_time\", y=\"spend\", ax=axes[1])"
   ]
  },
  {
   "cell_type": "code",
   "execution_count": null,
   "metadata": {},
   "outputs": [],
   "source": [
    "# Plot range of impressions\n",
    "plt.fill_between(x=data[\"ad_creation_time\"], y1=data[\"impressions_lo\"], y2=data[\"impressions_hi\"], alpha=1, color=\"green\")\n",
    "plt.plot(data[\"ad_creation_time\"], data[\"impressions\"])\n",
    "plt.show()"
   ]
  },
  {
   "cell_type": "code",
   "execution_count": null,
   "metadata": {},
   "outputs": [],
   "source": [
    "'''\n",
    "Amount spend by facebook page\n",
    "'''\n",
    "by_page = data.groupby(\"page_name\").agg(\n",
    "    # Aggregate no of ads\n",
    "    no_ads = ('id', 'count'),\n",
    "    # Aggregate sum of spend & total impressions generated\n",
    "    spend_lo = ('spend_lo', 'sum'),\n",
    "    spend_hi = ('spend_hi', 'sum'),\n",
    "    impressions_lo = ('impressions_lo', 'sum'),\n",
    "    impressions_hi = ('impressions_hi', 'sum'),\n",
    "    # Average number of impressions & spend per ad\n",
    "    avg_impressions = ('impressions', 'mean'),\n",
    "    avg_spend = ('spend', 'mean')\n",
    "\n",
    ").reset_index()\n",
    "\n",
    "by_page"
   ]
  },
  {
   "cell_type": "code",
   "execution_count": null,
   "metadata": {},
   "outputs": [],
   "source": [
    "# Display range of spend\n",
    "\n",
    "# Maybe normalize it\n",
    "plt.fill_between(x=by_page[\"page_name\"], y1=by_page[\"spend_lo\"], y2=by_page[\"spend_hi\"], alpha=1, color=\"green\")\n",
    "plt.plot(by_page[\"page_name\"], by_page[\"spend\"])\n",
    "plt.show()"
   ]
  },
  {
   "cell_type": "code",
   "execution_count": null,
   "metadata": {},
   "outputs": [],
   "source": [
    "'''\n",
    "Congress member filtering\n",
    "'''\n",
    "\n",
    "congress_members = pd.DataFrame(pd.read_csv(\"..\\\\src\\\\data_sets\\\\legislators-current.csv\"))"
   ]
  },
  {
   "cell_type": "code",
   "execution_count": null,
   "metadata": {},
   "outputs": [],
   "source": [
    "congress_members[\"facebook\"]"
   ]
  },
  {
   "cell_type": "code",
   "execution_count": null,
   "metadata": {},
   "outputs": [],
   "source": [
    "congress_members[\"facebook\"].isnull().sum()\n",
    "537-165"
   ]
  },
  {
   "cell_type": "code",
   "execution_count": null,
   "metadata": {},
   "outputs": [],
   "source": [
    "# Scraper experiement\n",
    "# https://github.com/kevinzg/facebook-scraper\n",
    "\n",
    "from facebook_scraper import get_page_info\n",
    "\n",
    "page = get_page_info(account=\"senatorcantwell\")\n",
    "\n",
    "page"
   ]
  },
  {
   "cell_type": "code",
   "execution_count": null,
   "metadata": {},
   "outputs": [],
   "source": [
    "import time\n",
    "\n",
    "members_fbNames = [] # list of tuples\n",
    "members_fbNames_test = [] # list of tuples\n",
    "\n",
    "for value in congress_members[\"facebook\"][:50].items():\n",
    "    if not pd.isnull(value[1]):\n",
    "        page = get_page_info(account=value[1])\n",
    "        print(page)\n",
    "        if \"name\" in page:\n",
    "            members_fbNames_test.append((value[1], page[\"name\"]))\n",
    "            print(page[\"name\"])\n",
    "    time.sleep(0.5)"
   ]
  },
  {
   "cell_type": "code",
   "execution_count": null,
   "metadata": {},
   "outputs": [],
   "source": [
    "members_names = pd.DataFrame(members_fbNames, columns=[\"facebook\", \"page_name\"])\n",
    "members_names.shape"
   ]
  },
  {
   "cell_type": "code",
   "execution_count": null,
   "metadata": {},
   "outputs": [],
   "source": [
    "members_fbNames_test"
   ]
  },
  {
   "cell_type": "code",
   "execution_count": null,
   "metadata": {},
   "outputs": [],
   "source": [
    "# Save data as csv\n",
    "members_names.to_csv(\"..\\\\src\\\\data_sets\\\\congress_fbNames.csv\", index=False, header=True)"
   ]
  }
 ],
 "metadata": {
  "interpreter": {
   "hash": "63fd5069d213b44bf678585dea6b12cceca9941eaf7f819626cde1f2670de90d"
  },
  "kernelspec": {
   "display_name": "Python 3.9.6 64-bit",
   "name": "python3"
  },
  "language_info": {
   "codemirror_mode": {
    "name": "ipython",
    "version": 3
   },
   "file_extension": ".py",
   "mimetype": "text/x-python",
   "name": "python",
   "nbconvert_exporter": "python",
   "pygments_lexer": "ipython3",
   "version": "3.9.6"
  },
  "orig_nbformat": 4
 },
 "nbformat": 4,
 "nbformat_minor": 2
}
