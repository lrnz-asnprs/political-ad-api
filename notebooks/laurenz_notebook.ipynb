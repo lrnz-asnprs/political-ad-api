{
 "cells": [
  {
   "cell_type": "markdown",
   "metadata": {},
   "source": [
    "# Basic setup for fetching data from the facebook api\n",
    "\n",
    "### Remember to add an active access token below and adjust the parameters and fields if necessary"
   ]
  },
  {
   "cell_type": "code",
   "execution_count": null,
   "metadata": {},
   "outputs": [],
   "source": [
    "# must be specified to be able to use methods of package\n",
    "import sys\n",
    "sys.path.append('../src') \n",
    "# import packages\n",
    "import numpy as np\n",
    "import pandas as pd\n",
    "from political_ads.api_request import get_json_response\n",
    "from political_ads.helper import *\n",
    "\n",
    "# insert your access token here (expires every 2 hours)\n",
    "access_token = \"EAAD3So8oorMBAJVZCxzID8UzfsJ5N4lSBtvXyQy3HJv7mgdb8QfL223XlF1gwCeY628gyKFuZC2ttI5SrYZA41eLuPGqzIWcsXyOXrhTF8nkrZBLUP6PqwlAp2Glqe4QYhObaUB8X5BBjCx8Lagu64wFz5yCcH6oJHlosEgCW2k69EZBadiMG6dmTJ9uVxZB5zYss0U0ulzGVlBQealWYcO6XIeXsdENCEmxL8BkfXw99QieOPcz2WydTHZAdvvZBAMZD\"\n",
    "\n",
    "# PARAMETERS NECESSARY\n",
    "ad_type = \"POLITICAL_AND_ISSUE_ADS\"\n",
    "ad_reached_countries = ['US'] # Facebook delivered the ads in these countries. Provided as ISO country codes.\n",
    "search_terms = \"climate\" # The terms to search for in your query. We treat a blank space as a logical AND and search for both terms and no other operators. The limit of your string is 100 characters or less.\n",
    "limit = 500\n",
    "\n",
    "# FIELDS to specify your results\n",
    "fields = [\"ad_creation_time\", \"ad_creative_body\",\"spend\", \"impressions\", \"delivery_by_region\", \"demographic_distribution\",\"page_id\", \"page_name\",\"bylines\",\"id\"]\n",
    "\n",
    "# see here for more parameters and fields: https://www.facebook.com/ads/library/api/?source=archive-landing-page \n",
    "\n",
    "input_url = f\"https://graph.facebook.com/v12.0/ads_archive?search_terms={search_terms}&ad_type={ad_type}&ad_reached_countries={ad_reached_countries}&fields={fields}&limit={limit}\"\n",
    "\n",
    "response = get_json_response(input_url, access_token)\n",
    "\n",
    "data = pd.DataFrame(response[\"data\"])\n"
   ]
  },
  {
   "cell_type": "code",
   "execution_count": null,
   "metadata": {},
   "outputs": [],
   "source": [
    "data"
   ]
  },
  {
   "cell_type": "code",
   "execution_count": null,
   "metadata": {},
   "outputs": [],
   "source": [
    "'''\n",
    "Data Generation\n",
    "Loop to continuously fetch data, until there exists a next page\n",
    "'''\n",
    "import time\n",
    "\n",
    "counter = 0\n",
    "while \"next\" in response[\"paging\"]:\n",
    "    if counter == 50:\n",
    "        break\n",
    "    response = get_json_response(response[\"paging\"][\"next\"], access_token)\n",
    "    new_data = pd.DataFrame(response[\"data\"])\n",
    "    data = data.append(new_data, ignore_index=True)\n",
    "    counter += 1\n",
    "    time.sleep(10)\n",
    "    print(f\"Iteration number {counter}\")\n",
    "\n",
    "# Could go up to 70.000 entries\n",
    "# Reached iteration 140"
   ]
  },
  {
   "cell_type": "code",
   "execution_count": null,
   "metadata": {},
   "outputs": [],
   "source": [
    "# Save data as csv\n",
    "data.to_csv(\"..\\\\data\\\\exported_df.csv\", index=False, header=True)"
   ]
  },
  {
   "cell_type": "code",
   "execution_count": null,
   "metadata": {},
   "outputs": [],
   "source": [
    "# Read csv\n",
    "data = pd.read_csv(\"..\\\\data\\\\exported_df.csv\")"
   ]
  },
  {
   "cell_type": "code",
   "execution_count": null,
   "metadata": {},
   "outputs": [],
   "source": []
  },
  {
   "cell_type": "code",
   "execution_count": null,
   "metadata": {},
   "outputs": [],
   "source": [
    "print(\"count before removing duplicates: \" + str(data.count()[\"id\"]))\n",
    "\n",
    "data.drop_duplicates(subset=[\"ad_creative_body\"], inplace=True)\n",
    "\n",
    "print(\"count after removing duplicates: \" + str(data.count()[\"id\"]))\n"
   ]
  },
  {
   "cell_type": "code",
   "execution_count": null,
   "metadata": {},
   "outputs": [],
   "source": []
  },
  {
   "cell_type": "code",
   "execution_count": null,
   "metadata": {},
   "outputs": [],
   "source": [
    "\n",
    "def string_to_dict(dict_string):\n",
    "    import json \n",
    "    # Convert to proper json format\n",
    "    dict_string = dict_string.replace(\"'\", '\"')\n",
    "    return json.loads(dict_string)\n",
    "\n",
    "diction = string_to_dict(data[\"impressions\"][0])\n",
    "diction[\"lower_bound\"]"
   ]
  },
  {
   "cell_type": "code",
   "execution_count": null,
   "metadata": {},
   "outputs": [],
   "source": [
    "# Apply transformations to dataset\n",
    "data[\"spend\"] = data[\"spend\"].apply(lambda x: string_to_dict(x))\n",
    "data[\"impressions\"] = data[\"impressions\"].apply(lambda x: string_to_dict(x))"
   ]
  },
  {
   "cell_type": "code",
   "execution_count": null,
   "metadata": {},
   "outputs": [],
   "source": [
    "# def transform_range(entry: dict):\n",
    "#     return int(int(entry[\"lower_bound\"]) + int(entry[\"upper_bound\"])) / 2"
   ]
  },
  {
   "cell_type": "code",
   "execution_count": null,
   "metadata": {},
   "outputs": [],
   "source": [
    "# Apply transformations to dataset\n",
    "data[\"spend\"] = data[\"spend\"].apply(lambda x: transform_range(x))\n",
    "data[\"impressions\"] = data[\"impressions\"].apply(lambda x: transform_range(x))"
   ]
  },
  {
   "cell_type": "code",
   "execution_count": null,
   "metadata": {},
   "outputs": [],
   "source": [
    "data[\"demographic_distribution\"][0]"
   ]
  },
  {
   "cell_type": "code",
   "execution_count": null,
   "metadata": {},
   "outputs": [],
   "source": [
    "# Convert date to datetime timestamp object\n",
    "data[\"ad_creation_time\"] = pd.to_datetime(data[\"ad_creation_time\"])\n",
    "data[\"ad_creation_time\"]"
   ]
  },
  {
   "cell_type": "code",
   "execution_count": null,
   "metadata": {},
   "outputs": [],
   "source": [
    "'''\n",
    "Visualization attempts\n",
    "https://pandas.pydata.org/pandas-docs/dev/getting_started/intro_tutorials/09_timeseries.html\n",
    "'''\n",
    "import matplotlib.pyplot as plt\n",
    "import seaborn as sns\n",
    "\n",
    "# Plotting spending over time and impressions over time \n",
    "fig, axes = plt.subplots(2,1,figsize=(8,4))\n",
    "data.plot(x=\"ad_creation_time\", y=\"impressions\", ax=axes[0])\n",
    "data.plot(x=\"ad_creation_time\", y=\"spend\", ax=axes[1])"
   ]
  },
  {
   "cell_type": "code",
   "execution_count": null,
   "metadata": {},
   "outputs": [],
   "source": [
    "'''\n",
    "Amount spend by facebook page\n",
    "'''\n",
    "by_page = data.groupby(\"page_name\").agg(\n",
    "    # Aggregate no of ads\n",
    "    no_ads = ('id', 'count'),\n",
    "    # Aggregate sum of spend\n",
    "    sum_spend = ('spend', 'sum'),\n",
    "    # Average number of impressions per ad\n",
    "    avg_impressions = ('impressions', 'mean')\n",
    "\n",
    ").reset_index()\n",
    "\n",
    "by_page[by_page[\"page_name\"] == \"Sierra Club\"]\n"
   ]
  },
  {
   "cell_type": "code",
   "execution_count": null,
   "metadata": {},
   "outputs": [],
   "source": [
    "data[data[\"page_name\"] == \"Sierra Club\"]"
   ]
  },
  {
   "cell_type": "code",
   "execution_count": null,
   "metadata": {},
   "outputs": [],
   "source": [
    "'''\n",
    "Data Generation\n",
    "Loop to continuously fetch data, until there exists a next page\n",
    "'''\n",
    "import time\n",
    "\n",
    "counter = 0\n",
    "while \"next\" in response[\"paging\"]:\n",
    "    response = get_json_response(response[\"paging\"][\"next\"], access_token)\n",
    "    new_data = pd.DataFrame(response[\"data\"])\n",
    "    data = data.append(new_data, ignore_index=True)\n",
    "    counter += 1\n",
    "    time.sleep(10)\n",
    "    print(f\"Iteration number {counter}\")\n",
    "\n",
    "# Could go up to 70.000 entries\n",
    "# Reached iteration 140"
   ]
  },
  {
   "cell_type": "code",
   "execution_count": null,
   "metadata": {},
   "outputs": [],
   "source": [
    "data.to_csv(\"..\\\\data\\\\exported_df.csv\", index=False, header=True)"
   ]
  },
  {
   "cell_type": "code",
   "execution_count": null,
   "metadata": {},
   "outputs": [],
   "source": [
    "'''\n",
    "Read data sample\n",
    "'''\n",
    "sample = pd.read_csv(\"..\\\\data\\\\exported_df.csv\")\n",
    "\n",
    "sample"
   ]
  },
  {
   "cell_type": "code",
   "execution_count": 10,
   "metadata": {},
   "outputs": [
    {
     "data": {
      "text/plain": [
       "{'name': 'Senator Tom Carper',\n",
       " 'identifier': 100044593172202,\n",
       " 'url': 'https://www.facebook.com/tomcarper',\n",
       " 'image': 'https://scontent.ffra2-1.fna.fbcdn.net/v/t1.6435-1/fr/cp0/e15/q65/243163270_413515513478218_1995978801116196960_n.jpg?_nc_cat=109&ccb=1-5&_nc_sid=a12de3&_nc_ohc=b_fBITUPV_MAX99J8MD&_nc_ht=scontent.ffra2-1.fna&oh=21f6aa609db9f54d3171eb9eebe6a6d6&oe=6198ED3F',\n",
       " 'sameAs': 'http://carper.senate.gov http://youtube.com/SenatorCarper http://flickr.com/SenatorTomCarper http://twitter.com/#!/SenatorCarper',\n",
       " 'type': 'Person',\n",
       " 'likes': 17074}"
      ]
     },
     "execution_count": 10,
     "metadata": {},
     "output_type": "execute_result"
    }
   ],
   "source": [
    "# Scraper experiement\n",
    "# https://github.com/kevinzg/facebook-scraper\n",
    "\n",
    "from facebook_scraper import get_page_info\n",
    "\n",
    "page = get_page_info(account=\"tomcarper\")\n",
    "\n",
    "page\n"
   ]
  }
 ],
 "metadata": {
  "interpreter": {
   "hash": "63fd5069d213b44bf678585dea6b12cceca9941eaf7f819626cde1f2670de90d"
  },
  "kernelspec": {
   "display_name": "Python 3.9.6 64-bit",
   "name": "python3"
  },
  "language_info": {
   "codemirror_mode": {
    "name": "ipython",
    "version": 3
   },
   "file_extension": ".py",
   "mimetype": "text/x-python",
   "name": "python",
   "nbconvert_exporter": "python",
   "pygments_lexer": "ipython3",
   "version": "3.9.6"
  },
  "orig_nbformat": 4
 },
 "nbformat": 4,
 "nbformat_minor": 2
}
