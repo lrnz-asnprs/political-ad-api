{
 "cells": [
  {
   "cell_type": "markdown",
   "metadata": {},
   "source": [
    "# Basic setup for fetching data from the facebook api\n",
    "\n",
    "### Remember to add an active access token below and adjust the parameters and fields if necessary"
   ]
  },
  {
   "cell_type": "code",
   "execution_count": null,
   "metadata": {},
   "outputs": [],
   "source": [
    "# must be specified to be able to use methods of package\n",
    "import sys\n",
    "sys.path.append('../src') \n",
    "# import packages\n",
    "import numpy as np\n",
    "import pandas as pd\n",
    "from political_ads.api_request import get_json_response\n",
    "from political_ads.helper import *\n",
    "\n",
    "# insert your access token here (expires every 2 hours)\n",
    "access_token = \"EAAD3So8oorMBAJVZCxzID8UzfsJ5N4lSBtvXyQy3HJv7mgdb8QfL223XlF1gwCeY628gyKFuZC2ttI5SrYZA41eLuPGqzIWcsXyOXrhTF8nkrZBLUP6PqwlAp2Glqe4QYhObaUB8X5BBjCx8Lagu64wFz5yCcH6oJHlosEgCW2k69EZBadiMG6dmTJ9uVxZB5zYss0U0ulzGVlBQealWYcO6XIeXsdENCEmxL8BkfXw99QieOPcz2WydTHZAdvvZBAMZD\"\n",
    "\n",
    "# PARAMETERS NECESSARY\n",
    "ad_type = \"POLITICAL_AND_ISSUE_ADS\"\n",
    "ad_reached_countries = ['US'] # Facebook delivered the ads in these countries. Provided as ISO country codes.\n",
    "search_terms = \"climate\" # The terms to search for in your query. We treat a blank space as a logical AND and search for both terms and no other operators. The limit of your string is 100 characters or less.\n",
    "limit = 500\n",
    "\n",
    "# FIELDS to specify your results\n",
    "fields = [\"ad_creation_time\", \"ad_creative_body\",\"spend\", \"impressions\", \"delivery_by_region\", \"demographic_distribution\",\"page_id\", \"page_name\",\"bylines\",\"id\"]\n",
    "\n",
    "# see here for more parameters and fields: https://www.facebook.com/ads/library/api/?source=archive-landing-page \n",
    "\n",
    "input_url = f\"https://graph.facebook.com/v12.0/ads_archive?search_terms={search_terms}&ad_type={ad_type}&ad_reached_countries={ad_reached_countries}&fields={fields}&limit={limit}\"\n",
    "\n",
    "response = get_json_response(input_url, access_token)\n",
    "\n",
    "data = pd.DataFrame(response[\"data\"])\n"
   ]
  },
  {
   "cell_type": "code",
   "execution_count": null,
   "metadata": {},
   "outputs": [],
   "source": [
    "data"
   ]
  },
  {
   "cell_type": "code",
   "execution_count": null,
   "metadata": {},
   "outputs": [],
   "source": [
    "'''\n",
    "Data Generation\n",
    "Loop to continuously fetch data, until there exists a next page\n",
    "'''\n",
    "import time\n",
    "\n",
    "counter = 0\n",
    "while \"next\" in response[\"paging\"]:\n",
    "    # if counter == 50:\n",
    "    #     break\n",
    "    response = get_json_response(response[\"paging\"][\"next\"], access_token)\n",
    "    new_data = pd.DataFrame(response[\"data\"])\n",
    "    data = data.append(new_data, ignore_index=True)\n",
    "    counter += 1\n",
    "    time.sleep(10)\n",
    "    print(f\"Iteration number {counter}\")\n",
    "\n",
    "# Could go up to 70.000 entries\n",
    "# Reached iteration 140"
   ]
  },
  {
   "cell_type": "code",
   "execution_count": null,
   "metadata": {},
   "outputs": [],
   "source": [
    "# Save data as csv\n",
    "data.to_csv(\"..\\\\data\\\\exported_df.csv\", index=False, header=True)"
   ]
  },
  {
   "cell_type": "code",
   "execution_count": null,
   "metadata": {},
   "outputs": [],
   "source": [
    "# Read csv\n",
    "data = pd.read_csv(\"..\\\\data\\\\exported_df.csv\")"
   ]
  },
  {
   "cell_type": "code",
   "execution_count": null,
   "metadata": {},
   "outputs": [],
   "source": [
    "print(\"count before removing duplicates: \" + str(data.count()[\"id\"]))\n",
    "\n",
    "data.drop_duplicates(subset=[\"ad_creative_body\"], inplace=True)\n",
    "\n",
    "print(\"count after removing duplicates: \" + str(data.count()[\"id\"]))\n"
   ]
  },
  {
   "cell_type": "code",
   "execution_count": null,
   "metadata": {},
   "outputs": [],
   "source": []
  },
  {
   "cell_type": "code",
   "execution_count": null,
   "metadata": {},
   "outputs": [],
   "source": [
    "\n",
    "def string_to_dict(dict_string):\n",
    "    import json \n",
    "    # Convert to proper json format\n",
    "    dict_string = dict_string.replace(\"'\", '\"')\n",
    "    return json.loads(dict_string)\n",
    "\n",
    "diction = string_to_dict(data[\"impressions\"][0])\n",
    "diction[\"lower_bound\"]"
   ]
  },
  {
   "cell_type": "code",
   "execution_count": null,
   "metadata": {},
   "outputs": [],
   "source": [
    "# Apply transformations to dataset\n",
    "data[\"spend\"] = data[\"spend\"].apply(lambda x: string_to_dict(x))\n",
    "data[\"impressions\"] = data[\"impressions\"].apply(lambda x: string_to_dict(x))"
   ]
  },
  {
   "cell_type": "code",
   "execution_count": null,
   "metadata": {},
   "outputs": [],
   "source": [
    "# def transform_range(entry: dict):\n",
    "#     return int(int(entry[\"lower_bound\"]) + int(entry[\"upper_bound\"])) / 2"
   ]
  },
  {
   "cell_type": "code",
   "execution_count": null,
   "metadata": {},
   "outputs": [],
   "source": [
    "# Apply transformations to dataset\n",
    "data[\"spend\"] = data[\"spend\"].apply(lambda x: transform_range(x))\n",
    "data[\"impressions\"] = data[\"impressions\"].apply(lambda x: transform_range(x))"
   ]
  },
  {
   "cell_type": "code",
   "execution_count": null,
   "metadata": {},
   "outputs": [],
   "source": [
    "data[\"demographic_distribution\"][0]"
   ]
  },
  {
   "cell_type": "code",
   "execution_count": 115,
   "metadata": {},
   "outputs": [
    {
     "ename": "NameError",
     "evalue": "name 'data' is not defined",
     "output_type": "error",
     "traceback": [
      "\u001b[1;31m---------------------------------------------------------------------------\u001b[0m",
      "\u001b[1;31mNameError\u001b[0m                                 Traceback (most recent call last)",
      "\u001b[1;32m~\\AppData\\Local\\Temp/ipykernel_17388/2320221842.py\u001b[0m in \u001b[0;36m<module>\u001b[1;34m\u001b[0m\n\u001b[0;32m      1\u001b[0m \u001b[1;31m# Convert date to datetime timestamp object\u001b[0m\u001b[1;33m\u001b[0m\u001b[1;33m\u001b[0m\u001b[1;33m\u001b[0m\u001b[0m\n\u001b[1;32m----> 2\u001b[1;33m \u001b[0mdata\u001b[0m\u001b[1;33m[\u001b[0m\u001b[1;34m\"ad_creation_time\"\u001b[0m\u001b[1;33m]\u001b[0m \u001b[1;33m=\u001b[0m \u001b[0mpd\u001b[0m\u001b[1;33m.\u001b[0m\u001b[0mto_datetime\u001b[0m\u001b[1;33m(\u001b[0m\u001b[0mdata\u001b[0m\u001b[1;33m[\u001b[0m\u001b[1;34m\"ad_creation_time\"\u001b[0m\u001b[1;33m]\u001b[0m\u001b[1;33m)\u001b[0m\u001b[1;33m\u001b[0m\u001b[1;33m\u001b[0m\u001b[0m\n\u001b[0m\u001b[0;32m      3\u001b[0m \u001b[0mdata\u001b[0m\u001b[1;33m[\u001b[0m\u001b[1;34m\"ad_creation_time\"\u001b[0m\u001b[1;33m]\u001b[0m\u001b[1;33m\u001b[0m\u001b[1;33m\u001b[0m\u001b[0m\n",
      "\u001b[1;31mNameError\u001b[0m: name 'data' is not defined"
     ]
    }
   ],
   "source": [
    "# Convert date to datetime timestamp object\n",
    "data[\"ad_creation_time\"] = pd.to_datetime(data[\"ad_creation_time\"])\n",
    "data[\"ad_creation_time\"]"
   ]
  },
  {
   "cell_type": "code",
   "execution_count": null,
   "metadata": {},
   "outputs": [],
   "source": [
    "'''\n",
    "Visualization attempts\n",
    "https://pandas.pydata.org/pandas-docs/dev/getting_started/intro_tutorials/09_timeseries.html\n",
    "'''\n",
    "import matplotlib.pyplot as plt\n",
    "import seaborn as sns\n",
    "\n",
    "# Plotting spending over time and impressions over time \n",
    "fig, axes = plt.subplots(2,1,figsize=(8,4))\n",
    "data.plot(x=\"ad_creation_time\", y=\"impressions\", ax=axes[0])\n",
    "data.plot(x=\"ad_creation_time\", y=\"spend\", ax=axes[1])"
   ]
  },
  {
   "cell_type": "code",
   "execution_count": null,
   "metadata": {},
   "outputs": [],
   "source": [
    "'''\n",
    "Amount spend by facebook page\n",
    "'''\n",
    "by_page = data.groupby(\"page_name\").agg(\n",
    "    # Aggregate no of ads\n",
    "    no_ads = ('id', 'count'),\n",
    "    # Aggregate sum of spend\n",
    "    sum_spend = ('spend', 'sum'),\n",
    "    # Average number of impressions per ad\n",
    "    avg_impressions = ('impressions', 'mean')\n",
    "\n",
    ").reset_index()\n",
    "\n",
    "by_page[by_page[\"page_name\"] == \"Sierra Club\"]\n"
   ]
  },
  {
   "cell_type": "code",
   "execution_count": null,
   "metadata": {},
   "outputs": [],
   "source": [
    "data[data[\"page_name\"] == \"Sierra Club\"]"
   ]
  },
  {
   "cell_type": "code",
   "execution_count": null,
   "metadata": {},
   "outputs": [],
   "source": [
    "'''\n",
    "Data Generation\n",
    "Loop to continuously fetch data, until there exists a next page\n",
    "'''\n",
    "import time\n",
    "\n",
    "counter = 0\n",
    "while \"next\" in response[\"paging\"]:\n",
    "    response = get_json_response(response[\"paging\"][\"next\"], access_token)\n",
    "    new_data = pd.DataFrame(response[\"data\"])\n",
    "    data = data.append(new_data, ignore_index=True)\n",
    "    counter += 1\n",
    "    time.sleep(10)\n",
    "    print(f\"Iteration number {counter}\")\n",
    "\n",
    "# Could go up to 70.000 entries\n",
    "# Reached iteration 140"
   ]
  },
  {
   "cell_type": "code",
   "execution_count": null,
   "metadata": {},
   "outputs": [],
   "source": [
    "data.to_csv(\"..\\\\data\\\\exported_df.csv\", index=False, header=True)"
   ]
  },
  {
   "cell_type": "code",
   "execution_count": 12,
   "metadata": {},
   "outputs": [
    {
     "data": {
      "text/plain": [
       "12000"
      ]
     },
     "execution_count": 12,
     "metadata": {},
     "output_type": "execute_result"
    }
   ],
   "source": [
    "test = pd.read_csv(\"..\\\\data\\\\exported_df.csv\")\n",
    "\n",
    "test[\"delivery_by_region\"].isnull().count()"
   ]
  },
  {
   "cell_type": "code",
   "execution_count": 16,
   "metadata": {},
   "outputs": [],
   "source": [
    "import sys\n",
    "sys.path.append('../src') \n",
    "\n",
    "from political_ads.Preprocessor import Preprocessor"
   ]
  },
  {
   "cell_type": "code",
   "execution_count": 116,
   "metadata": {},
   "outputs": [
    {
     "data": {
      "text/plain": [
       "str"
      ]
     },
     "execution_count": 116,
     "metadata": {},
     "output_type": "execute_result"
    }
   ],
   "source": [
    "'''\n",
    "Read data sample\n",
    "'''\n",
    "\n",
    "import json\n",
    "\n",
    "sample = pd.read_csv(\"..\\\\data\\\\exported_df.csv\")\n",
    "\n",
    "type(sample[\"ad_creation_time\"][0])"
   ]
  },
  {
   "cell_type": "code",
   "execution_count": 85,
   "metadata": {},
   "outputs": [
    {
     "data": {
      "text/plain": [
       "0          49.5\n",
       "1          49.5\n",
       "2          49.5\n",
       "3         549.5\n",
       "4         149.5\n",
       "          ...  \n",
       "11995     249.5\n",
       "11996     349.5\n",
       "11997    2249.5\n",
       "11998      49.5\n",
       "11999     249.5\n",
       "Name: spend, Length: 12000, dtype: float64"
      ]
     },
     "execution_count": 85,
     "metadata": {},
     "output_type": "execute_result"
    }
   ],
   "source": [
    "sample[\"spend\"] = sample[\"spend\"].apply(lambda x: string_to_dict(x)).apply(lambda x: transform_range(x))"
   ]
  },
  {
   "cell_type": "code",
   "execution_count": 80,
   "metadata": {},
   "outputs": [],
   "source": [
    "sample[\"spend\"] = sample[\"spend\"].apply(lambda x: string_to_dict(x))\n",
    "sample[\"impressions\"] = sample[\"impressions\"].apply(lambda x: string_to_dict(x))"
   ]
  },
  {
   "cell_type": "code",
   "execution_count": 82,
   "metadata": {},
   "outputs": [],
   "source": [
    "sample[\"spend\"] = sample[\"spend\"].apply(lambda x: transform_range(x))"
   ]
  },
  {
   "cell_type": "code",
   "execution_count": 83,
   "metadata": {},
   "outputs": [
    {
     "data": {
      "text/plain": [
       "0          49.5\n",
       "1          49.5\n",
       "2          49.5\n",
       "3         549.5\n",
       "4         149.5\n",
       "          ...  \n",
       "11995     249.5\n",
       "11996     349.5\n",
       "11997    2249.5\n",
       "11998      49.5\n",
       "11999     249.5\n",
       "Name: spend, Length: 12000, dtype: float64"
      ]
     },
     "execution_count": 83,
     "metadata": {},
     "output_type": "execute_result"
    }
   ],
   "source": []
  },
  {
   "cell_type": "code",
   "execution_count": null,
   "metadata": {},
   "outputs": [],
   "source": [
    "'''\n",
    "Congress member filtering\n",
    "'''\n",
    "\n",
    "congress_members = pd.DataFrame(pd.read_csv(\"..\\\\src\\\\data_sets\\\\legislators-current.csv\"))"
   ]
  },
  {
   "cell_type": "code",
   "execution_count": null,
   "metadata": {},
   "outputs": [],
   "source": [
    "congress_members[\"facebook\"]"
   ]
  },
  {
   "cell_type": "code",
   "execution_count": null,
   "metadata": {},
   "outputs": [],
   "source": [
    "congress_members[\"facebook\"].isnull().sum()\n",
    "537-165"
   ]
  },
  {
   "cell_type": "code",
   "execution_count": null,
   "metadata": {},
   "outputs": [],
   "source": [
    "# Scraper experiement\n",
    "# https://github.com/kevinzg/facebook-scraper\n",
    "\n",
    "from facebook_scraper import get_page_info\n",
    "\n",
    "page = get_page_info(account=\"senatorcantwell\")\n",
    "\n",
    "page"
   ]
  },
  {
   "cell_type": "code",
   "execution_count": null,
   "metadata": {},
   "outputs": [],
   "source": [
    "import time\n",
    "\n",
    "members_fbNames = [] # list of tuples\n",
    "members_fbNames_test = [] # list of tuples\n",
    "\n",
    "for value in congress_members[\"facebook\"][:50].items():\n",
    "    if not pd.isnull(value[1]):\n",
    "        page = get_page_info(account=value[1])\n",
    "        print(page)\n",
    "        if \"name\" in page:\n",
    "            members_fbNames_test.append((value[1], page[\"name\"]))\n",
    "            print(page[\"name\"])\n",
    "    time.sleep(0.5)"
   ]
  },
  {
   "cell_type": "code",
   "execution_count": null,
   "metadata": {},
   "outputs": [],
   "source": [
    "members_names = pd.DataFrame(members_fbNames, columns=[\"facebook\", \"page_name\"])\n",
    "members_names.shape"
   ]
  },
  {
   "cell_type": "code",
   "execution_count": 1,
   "metadata": {},
   "outputs": [
    {
     "ename": "NameError",
     "evalue": "name 'members_fbNames_test' is not defined",
     "output_type": "error",
     "traceback": [
      "\u001b[1;31m---------------------------------------------------------------------------\u001b[0m",
      "\u001b[1;31mNameError\u001b[0m                                 Traceback (most recent call last)",
      "\u001b[1;32m~\\AppData\\Local\\Temp/ipykernel_17080/266821715.py\u001b[0m in \u001b[0;36m<module>\u001b[1;34m\u001b[0m\n\u001b[1;32m----> 1\u001b[1;33m \u001b[0mmembers_fbNames_test\u001b[0m\u001b[1;33m\u001b[0m\u001b[1;33m\u001b[0m\u001b[0m\n\u001b[0m",
      "\u001b[1;31mNameError\u001b[0m: name 'members_fbNames_test' is not defined"
     ]
    }
   ],
   "source": [
    "members_fbNames_test"
   ]
  },
  {
   "cell_type": "code",
   "execution_count": null,
   "metadata": {},
   "outputs": [],
   "source": [
    "# Save data as csv\n",
    "members_names.to_csv(\"..\\\\src\\\\data_sets\\\\congress_fbNames.csv\", index=False, header=True)"
   ]
  }
 ],
 "metadata": {
  "interpreter": {
   "hash": "63fd5069d213b44bf678585dea6b12cceca9941eaf7f819626cde1f2670de90d"
  },
  "kernelspec": {
   "display_name": "Python 3.9.6 64-bit",
   "name": "python3"
  },
  "language_info": {
   "codemirror_mode": {
    "name": "ipython",
    "version": 3
   },
   "file_extension": ".py",
   "mimetype": "text/x-python",
   "name": "python",
   "nbconvert_exporter": "python",
   "pygments_lexer": "ipython3",
   "version": "3.9.6"
  },
  "orig_nbformat": 4
 },
 "nbformat": 4,
 "nbformat_minor": 2
}
