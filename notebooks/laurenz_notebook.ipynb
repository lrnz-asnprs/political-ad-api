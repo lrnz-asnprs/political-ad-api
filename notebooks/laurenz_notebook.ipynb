{
 "cells": [
  {
   "cell_type": "markdown",
   "metadata": {},
   "source": [
    "# Basic setup for fetching data from the facebook api\n",
    "\n",
    "### Remember to add an active access token below and adjust the parameters and fields if necessary"
   ]
  },
  {
   "cell_type": "code",
   "execution_count": null,
   "metadata": {},
   "outputs": [],
   "source": [
    "# must be specified to be able to use methods of package\n",
    "import sys\n",
    "sys.path.append('../src') \n",
    "import numpy as np\n",
    "import pandas as pd\n",
    "from political_ads.api_request import API_request\n",
    "from political_ads.preprocessor import Preprocessor\n",
    "\n",
    "# Generates a dataset (in the data directory)\n",
    "requestor = API_request()\n",
    "requestor.generate_dataset(500, \"climate\", \"EAAD3So8oorMBAMG0icdlft8e9Sjis7jSwoMsaLnsTadVrpysOaZA4H87Kay8eWHajacEfysxUqCkAIwKYD2jEfgy7ZBtmMtuZCRiwZBNyWpy7u0c7W2K2DtRELUyNXOv9ukN5M2Gum4DJ0FdDYffwiheYjI8VcbUJtFHPqaZBA9nCJaFw1lEXhDAMZCcEeyEAqJMKgzgEBRpH7RDI4YDngPmNzIf3UFIsI4qs0vNOv8j9CItNwNORQAiSM3zADXZBoZD\")\n"
   ]
  },
  {
   "cell_type": "code",
   "execution_count": 4,
   "metadata": {},
   "outputs": [],
   "source": [
    "# Returns text file as dataframe with transformations\n",
    "preprocess = Preprocessor()\n",
    "data = preprocess.file_to_df(\"..\\\\data\\\\generated_dataset.txt\")"
   ]
  },
  {
   "cell_type": "code",
   "execution_count": 6,
   "metadata": {},
   "outputs": [
    {
     "data": {
      "text/html": [
       "<div>\n",
       "<style scoped>\n",
       "    .dataframe tbody tr th:only-of-type {\n",
       "        vertical-align: middle;\n",
       "    }\n",
       "\n",
       "    .dataframe tbody tr th {\n",
       "        vertical-align: top;\n",
       "    }\n",
       "\n",
       "    .dataframe thead th {\n",
       "        text-align: right;\n",
       "    }\n",
       "</style>\n",
       "<table border=\"1\" class=\"dataframe\">\n",
       "  <thead>\n",
       "    <tr style=\"text-align: right;\">\n",
       "      <th></th>\n",
       "      <th>ad_creation_time</th>\n",
       "      <th>ad_creative_body</th>\n",
       "      <th>spend</th>\n",
       "      <th>impressions</th>\n",
       "      <th>delivery_by_region</th>\n",
       "      <th>demographic_distribution</th>\n",
       "      <th>page_id</th>\n",
       "      <th>page_name</th>\n",
       "      <th>bylines</th>\n",
       "      <th>id</th>\n",
       "    </tr>\n",
       "  </thead>\n",
       "  <tbody>\n",
       "    <tr>\n",
       "      <th>0</th>\n",
       "      <td>2021-07-01</td>\n",
       "      <td>It's a vibe. We’re excited to announce that Dr...</td>\n",
       "      <td>2749.5</td>\n",
       "      <td>849999.5</td>\n",
       "      <td>[{'percentage': '3.0E-6', 'region': 'Yangon'},...</td>\n",
       "      <td>[{'percentage': '1.8E-5', 'age': '55-64', 'gen...</td>\n",
       "      <td>653079394725698</td>\n",
       "      <td>Aspiration</td>\n",
       "      <td>Aspiration</td>\n",
       "      <td>2883391761877521</td>\n",
       "    </tr>\n",
       "    <tr>\n",
       "      <th>1</th>\n",
       "      <td>2021-08-27</td>\n",
       "      <td>🌎 Sierra Club's City Hike-A-Thon is a national...</td>\n",
       "      <td>49.5</td>\n",
       "      <td>1499.5</td>\n",
       "      <td>[{'percentage': '0.789011', 'region': 'Massach...</td>\n",
       "      <td>[{'percentage': '0.006508', 'age': '45-54', 'g...</td>\n",
       "      <td>6204742571</td>\n",
       "      <td>Sierra Club</td>\n",
       "      <td>SIERRA CLUB</td>\n",
       "      <td>161524832762330</td>\n",
       "    </tr>\n",
       "  </tbody>\n",
       "</table>\n",
       "</div>"
      ],
      "text/plain": [
       "  ad_creation_time                                   ad_creative_body   spend  \\\n",
       "0       2021-07-01  It's a vibe. We’re excited to announce that Dr...  2749.5   \n",
       "1       2021-08-27  🌎 Sierra Club's City Hike-A-Thon is a national...    49.5   \n",
       "\n",
       "   impressions                                 delivery_by_region  \\\n",
       "0     849999.5  [{'percentage': '3.0E-6', 'region': 'Yangon'},...   \n",
       "1       1499.5  [{'percentage': '0.789011', 'region': 'Massach...   \n",
       "\n",
       "                            demographic_distribution          page_id  \\\n",
       "0  [{'percentage': '1.8E-5', 'age': '55-64', 'gen...  653079394725698   \n",
       "1  [{'percentage': '0.006508', 'age': '45-54', 'g...       6204742571   \n",
       "\n",
       "     page_name      bylines                id  \n",
       "0   Aspiration   Aspiration  2883391761877521  \n",
       "1  Sierra Club  SIERRA CLUB   161524832762330  "
      ]
     },
     "execution_count": 6,
     "metadata": {},
     "output_type": "execute_result"
    }
   ],
   "source": [
    "data.head(2)"
   ]
  },
  {
   "cell_type": "code",
   "execution_count": 7,
   "metadata": {},
   "outputs": [
    {
     "data": {
      "text/plain": [
       "<AxesSubplot:xlabel='ad_creation_time'>"
      ]
     },
     "execution_count": 7,
     "metadata": {},
     "output_type": "execute_result"
    },
    {
     "data": {
      "image/png": "[encoded data removed]",
      "text/plain": [
       "<Figure size 576x288 with 2 Axes>"
      ]
     },
     "metadata": {
      "needs_background": "light"
     },
     "output_type": "display_data"
    }
   ],
   "source": [
    "'''\n",
    "Visualization attempts\n",
    "https://pandas.pydata.org/pandas-docs/dev/getting_started/intro_tutorials/09_timeseries.html\n",
    "'''\n",
    "import matplotlib.pyplot as plt\n",
    "import seaborn as sns\n",
    "\n",
    "# Plotting spending over time and impressions over time \n",
    "fig, axes = plt.subplots(2,1,figsize=(8,4))\n",
    "data.plot(x=\"ad_creation_time\", y=\"impressions\", ax=axes[0])\n",
    "data.plot(x=\"ad_creation_time\", y=\"spend\", ax=axes[1])"
   ]
  },
  {
   "cell_type": "code",
   "execution_count": 9,
   "metadata": {},
   "outputs": [
    {
     "data": {
      "text/html": [
       "<div>\n",
       "<style scoped>\n",
       "    .dataframe tbody tr th:only-of-type {\n",
       "        vertical-align: middle;\n",
       "    }\n",
       "\n",
       "    .dataframe tbody tr th {\n",
       "        vertical-align: top;\n",
       "    }\n",
       "\n",
       "    .dataframe thead th {\n",
       "        text-align: right;\n",
       "    }\n",
       "</style>\n",
       "<table border=\"1\" class=\"dataframe\">\n",
       "  <thead>\n",
       "    <tr style=\"text-align: right;\">\n",
       "      <th></th>\n",
       "      <th>page_name</th>\n",
       "      <th>no_ads</th>\n",
       "      <th>sum_spend</th>\n",
       "      <th>avg_impressions</th>\n",
       "    </tr>\n",
       "  </thead>\n",
       "  <tbody>\n",
       "    <tr>\n",
       "      <th>0</th>\n",
       "      <td>100 Percent Campaign</td>\n",
       "      <td>1</td>\n",
       "      <td>149.5</td>\n",
       "      <td>7499.500000</td>\n",
       "    </tr>\n",
       "    <tr>\n",
       "      <th>1</th>\n",
       "      <td>198 Methods</td>\n",
       "      <td>2</td>\n",
       "      <td>99.0</td>\n",
       "      <td>999.500000</td>\n",
       "    </tr>\n",
       "    <tr>\n",
       "      <th>2</th>\n",
       "      <td>2020Vision4Election2022</td>\n",
       "      <td>1</td>\n",
       "      <td>49.5</td>\n",
       "      <td>499.500000</td>\n",
       "    </tr>\n",
       "    <tr>\n",
       "      <th>3</th>\n",
       "      <td>350 Seattle</td>\n",
       "      <td>5</td>\n",
       "      <td>247.5</td>\n",
       "      <td>1899.500000</td>\n",
       "    </tr>\n",
       "    <tr>\n",
       "      <th>4</th>\n",
       "      <td>350.org</td>\n",
       "      <td>125</td>\n",
       "      <td>7587.5</td>\n",
       "      <td>1603.500000</td>\n",
       "    </tr>\n",
       "    <tr>\n",
       "      <th>...</th>\n",
       "      <td>...</td>\n",
       "      <td>...</td>\n",
       "      <td>...</td>\n",
       "      <td>...</td>\n",
       "    </tr>\n",
       "    <tr>\n",
       "      <th>412</th>\n",
       "      <td>World Bank</td>\n",
       "      <td>1</td>\n",
       "      <td>49.5</td>\n",
       "      <td>17499.500000</td>\n",
       "    </tr>\n",
       "    <tr>\n",
       "      <th>413</th>\n",
       "      <td>Yale Climate Connections</td>\n",
       "      <td>11</td>\n",
       "      <td>544.5</td>\n",
       "      <td>3135.863636</td>\n",
       "    </tr>\n",
       "    <tr>\n",
       "      <th>414</th>\n",
       "      <td>ZF Group</td>\n",
       "      <td>1</td>\n",
       "      <td>449.5</td>\n",
       "      <td>22499.500000</td>\n",
       "    </tr>\n",
       "    <tr>\n",
       "      <th>415</th>\n",
       "      <td>Zac Bears for Medford City Council</td>\n",
       "      <td>5</td>\n",
       "      <td>247.5</td>\n",
       "      <td>499.500000</td>\n",
       "    </tr>\n",
       "    <tr>\n",
       "      <th>416</th>\n",
       "      <td>dashboard.earth</td>\n",
       "      <td>1</td>\n",
       "      <td>49.5</td>\n",
       "      <td>6499.500000</td>\n",
       "    </tr>\n",
       "  </tbody>\n",
       "</table>\n",
       "<p>417 rows × 4 columns</p>\n",
       "</div>"
      ],
      "text/plain": [
       "                              page_name  no_ads  sum_spend  avg_impressions\n",
       "0                  100 Percent Campaign       1      149.5      7499.500000\n",
       "1                           198 Methods       2       99.0       999.500000\n",
       "2               2020Vision4Election2022       1       49.5       499.500000\n",
       "3                           350 Seattle       5      247.5      1899.500000\n",
       "4                               350.org     125     7587.5      1603.500000\n",
       "..                                  ...     ...        ...              ...\n",
       "412                          World Bank       1       49.5     17499.500000\n",
       "413            Yale Climate Connections      11      544.5      3135.863636\n",
       "414                            ZF Group       1      449.5     22499.500000\n",
       "415  Zac Bears for Medford City Council       5      247.5       499.500000\n",
       "416                     dashboard.earth       1       49.5      6499.500000\n",
       "\n",
       "[417 rows x 4 columns]"
      ]
     },
     "execution_count": 9,
     "metadata": {},
     "output_type": "execute_result"
    }
   ],
   "source": [
    "'''\n",
    "Amount spend by facebook page\n",
    "Calculate as lower range and upper range!\n",
    "'''\n",
    "by_page = data.groupby(\"page_name\").agg(\n",
    "    # Aggregate no of ads\n",
    "    no_ads = ('id', 'count'),\n",
    "    # Aggregate sum of spend\n",
    "    sum_spend = ('spend', 'sum'),\n",
    "    # Average number of impressions per ad\n",
    "    avg_impressions = ('impressions', 'mean')\n",
    "\n",
    ").reset_index()\n",
    "\n",
    "by_page"
   ]
  },
  {
   "cell_type": "code",
   "execution_count": null,
   "metadata": {},
   "outputs": [],
   "source": [
    "data[data[\"page_name\"] == \"Sierra Club\"]"
   ]
  },
  {
   "cell_type": "code",
   "execution_count": null,
   "metadata": {},
   "outputs": [],
   "source": [
    "'''\n",
    "Data Generation\n",
    "Loop to continuously fetch data, until there exists a next page\n",
    "'''\n",
    "import time\n",
    "\n",
    "counter = 0\n",
    "while \"next\" in response[\"paging\"]:\n",
    "    response = get_json_response(response[\"paging\"][\"next\"], access_token)\n",
    "    new_data = pd.DataFrame(response[\"data\"])\n",
    "    data = data.append(new_data, ignore_index=True)\n",
    "    counter += 1\n",
    "    time.sleep(10)\n",
    "    print(f\"Iteration number {counter}\")\n",
    "\n",
    "# Could go up to 70.000 entries\n",
    "# Reached iteration 140"
   ]
  },
  {
   "cell_type": "code",
   "execution_count": null,
   "metadata": {},
   "outputs": [],
   "source": [
    "data.to_csv(\"..\\\\data\\\\exported_df.csv\", index=False, header=True)"
   ]
  },
  {
   "cell_type": "code",
   "execution_count": null,
   "metadata": {},
   "outputs": [],
   "source": [
    "test = pd.read_csv(\"..\\\\data\\\\exported_df.csv\")\n",
    "\n",
    "test[\"delivery_by_region\"].isnull().count()"
   ]
  },
  {
   "cell_type": "code",
   "execution_count": null,
   "metadata": {},
   "outputs": [],
   "source": [
    "import sys\n",
    "sys.path.append('../src') \n",
    "\n",
    "from political_ads.Preprocessor import Preprocessor"
   ]
  },
  {
   "cell_type": "code",
   "execution_count": null,
   "metadata": {},
   "outputs": [],
   "source": [
    "'''\n",
    "Read data sample\n",
    "'''\n",
    "\n",
    "import json\n",
    "\n",
    "sample = pd.read_csv(\"..\\\\data\\\\exported_df.csv\")\n",
    "\n",
    "type(sample[\"ad_creation_time\"][0])"
   ]
  },
  {
   "cell_type": "code",
   "execution_count": null,
   "metadata": {},
   "outputs": [],
   "source": [
    "sample[\"spend\"] = sample[\"spend\"].apply(lambda x: string_to_dict(x)).apply(lambda x: transform_range(x))"
   ]
  },
  {
   "cell_type": "code",
   "execution_count": null,
   "metadata": {},
   "outputs": [],
   "source": [
    "sample[\"spend\"] = sample[\"spend\"].apply(lambda x: string_to_dict(x))\n",
    "sample[\"impressions\"] = sample[\"impressions\"].apply(lambda x: string_to_dict(x))"
   ]
  },
  {
   "cell_type": "code",
   "execution_count": null,
   "metadata": {},
   "outputs": [],
   "source": [
    "sample[\"spend\"] = sample[\"spend\"].apply(lambda x: transform_range(x))"
   ]
  },
  {
   "cell_type": "code",
   "execution_count": null,
   "metadata": {},
   "outputs": [],
   "source": []
  },
  {
   "cell_type": "code",
   "execution_count": null,
   "metadata": {},
   "outputs": [],
   "source": [
    "'''\n",
    "Congress member filtering\n",
    "'''\n",
    "\n",
    "congress_members = pd.DataFrame(pd.read_csv(\"..\\\\src\\\\data_sets\\\\legislators-current.csv\"))"
   ]
  },
  {
   "cell_type": "code",
   "execution_count": null,
   "metadata": {},
   "outputs": [],
   "source": [
    "congress_members[\"facebook\"]"
   ]
  },
  {
   "cell_type": "code",
   "execution_count": null,
   "metadata": {},
   "outputs": [],
   "source": [
    "congress_members[\"facebook\"].isnull().sum()\n",
    "537-165"
   ]
  },
  {
   "cell_type": "code",
   "execution_count": null,
   "metadata": {},
   "outputs": [],
   "source": [
    "# Scraper experiement\n",
    "# https://github.com/kevinzg/facebook-scraper\n",
    "\n",
    "from facebook_scraper import get_page_info\n",
    "\n",
    "page = get_page_info(account=\"senatorcantwell\")\n",
    "\n",
    "page"
   ]
  },
  {
   "cell_type": "code",
   "execution_count": null,
   "metadata": {},
   "outputs": [],
   "source": [
    "import time\n",
    "\n",
    "members_fbNames = [] # list of tuples\n",
    "members_fbNames_test = [] # list of tuples\n",
    "\n",
    "for value in congress_members[\"facebook\"][:50].items():\n",
    "    if not pd.isnull(value[1]):\n",
    "        page = get_page_info(account=value[1])\n",
    "        print(page)\n",
    "        if \"name\" in page:\n",
    "            members_fbNames_test.append((value[1], page[\"name\"]))\n",
    "            print(page[\"name\"])\n",
    "    time.sleep(0.5)"
   ]
  },
  {
   "cell_type": "code",
   "execution_count": null,
   "metadata": {},
   "outputs": [],
   "source": [
    "members_names = pd.DataFrame(members_fbNames, columns=[\"facebook\", \"page_name\"])\n",
    "members_names.shape"
   ]
  },
  {
   "cell_type": "code",
   "execution_count": null,
   "metadata": {},
   "outputs": [],
   "source": [
    "members_fbNames_test"
   ]
  },
  {
   "cell_type": "code",
   "execution_count": null,
   "metadata": {},
   "outputs": [],
   "source": [
    "# Save data as csv\n",
    "members_names.to_csv(\"..\\\\src\\\\data_sets\\\\congress_fbNames.csv\", index=False, header=True)"
   ]
  }
 ],
 "metadata": {
  "interpreter": {
   "hash": "63fd5069d213b44bf678585dea6b12cceca9941eaf7f819626cde1f2670de90d"
  },
  "kernelspec": {
   "display_name": "Python 3.9.6 64-bit",
   "name": "python3"
  },
  "language_info": {
   "codemirror_mode": {
    "name": "ipython",
    "version": 3
   },
   "file_extension": ".py",
   "mimetype": "text/x-python",
   "name": "python",
   "nbconvert_exporter": "python",
   "pygments_lexer": "ipython3",
   "version": "3.9.6"
  },
  "orig_nbformat": 4
 },
 "nbformat": 4,
 "nbformat_minor": 2
}
