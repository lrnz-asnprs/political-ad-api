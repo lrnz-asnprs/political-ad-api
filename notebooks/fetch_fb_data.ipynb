{
 "cells": [
  {
   "cell_type": "markdown",
   "metadata": {},
   "source": [
    "# Basic setup for fetching data from the facebook api\n",
    "\n",
    "### Remember to add an active access token below and adjust the parameters and fields if necessary"
   ]
  },
  {
   "cell_type": "code",
   "execution_count": null,
   "metadata": {},
   "outputs": [],
   "source": [
    "# must be specified to be able to use methods of package\n",
    "import sys\n",
    "sys.path.append('../src') \n",
    "# import packages\n",
    "import pandas as pd\n",
    "from political_ads.api_request import get_json_response \n",
    "\n",
    "# insert your access token here (expires every 2 hours)\n",
    "access_token = \"EAAHmCGvnrWoBAMeoD1NyV8iOPIVVQ4owsRyPWzDW9Dng5hzegSOroRZBrOqYZCmqlHZA33jgonoLyDYxsc3ooMWUZCFFkJYvUuGGiq8cQLsyDKVUZAPDzT6YcnpxsQuNsyi501J3cvAIPc336JglGhr1ZCPWRUviMA8W0CrosCvRiCxU29HUnPILU10padaWzLd0Jw0E6kdtbKZBHeFV8K5\"\n",
    "\n",
    "# PARAMETERS NECESSARY\n",
    "ad_type = \"POLITICAL_AND_ISSUE_ADS\"\n",
    "ad_reached_countries = ['US', 'DE'] # Facebook delivered the ads in these countries. Provided as ISO country codes.\n",
    "search_terms = \"climate change\" # The terms to search for in your query. We treat a blank space as a logical AND and search for both terms and no other operators. The limit of your string is 100 characters or less.\n",
    "limit = 500\n",
    "\n",
    "# FIELDS to specify your results\n",
    "fields = [\"id\", \"ad_creative_body\", \"impressions\", \"delivery_by_region\", \"demographic_distribution\", \"funding_entity\"]\n",
    "\n",
    "# see here for more parameters and fields: https://www.facebook.com/ads/library/api/?source=archive-landing-page \n",
    "\n",
    "input_url = f\"https://graph.facebook.com/v12.0/ads_archive?search_terms={search_terms}&ad_type={ad_type}&ad_reached_countries={ad_reached_countries}&fields={fields}&limit={limit}\"\n",
    "\n",
    "response = get_json_response(input_url, access_token)\n",
    "\n",
    "data = pd.DataFrame(response[\"data\"])\n"
   ]
  },
  {
   "cell_type": "code",
   "execution_count": null,
   "metadata": {},
   "outputs": [],
   "source": [
    "import time\n",
    "\n",
    "counter = 0\n",
    "while \"next\" in response[\"paging\"]:\n",
    "    response = get_json_response(response[\"paging\"][\"next\"], access_token)\n",
    "    new_data = pd.DataFrame(response[\"data\"])\n",
    "    data = data.append(new_data, ignore_index=True)\n",
    "    counter += 1\n",
    "    time.sleep(10)\n",
    "    print(f\"Iteration number {counter}\")\n",
    "\n",
    "# Could go up to 70.000 entries\n",
    "# Reached iteration 140"
   ]
  },
  {
   "cell_type": "code",
   "execution_count": null,
   "metadata": {},
   "outputs": [],
   "source": [
    "# Save results as csv\n",
    "data.to_csv(\"..\\\\data\\\\exported_df.csv\", index=False, header=True)"
   ]
  },
  {
   "cell_type": "code",
   "execution_count": null,
   "metadata": {},
   "outputs": [],
   "source": [
    "'''\n",
    "Read data sample\n",
    "'''\n",
    "sample = pd.read_csv(\"..\\\\data\\\\exported_df.csv\")\n",
    "\n",
    "sample"
   ]
  }
 ],
 "metadata": {
  "interpreter": {
   "hash": "63fd5069d213b44bf678585dea6b12cceca9941eaf7f819626cde1f2670de90d"
  },
  "kernelspec": {
   "display_name": "Python 3.9.6 64-bit",
   "name": "python3"
  },
  "language_info": {
   "codemirror_mode": {
    "name": "ipython",
    "version": 3
   },
   "file_extension": ".py",
   "mimetype": "text/x-python",
   "name": "python",
   "nbconvert_exporter": "python",
   "pygments_lexer": "ipython3",
   "version": "3.9.6"
  },
  "orig_nbformat": 4
 },
 "nbformat": 4,
 "nbformat_minor": 2
}
