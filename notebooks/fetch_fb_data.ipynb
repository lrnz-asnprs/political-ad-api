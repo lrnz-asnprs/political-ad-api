{
 "cells": [
  {
   "cell_type": "markdown",
   "source": [
    "# Basic setup for fetching data from the facebook api\r\n",
    "\r\n",
    "### Remember to add an active access token below and adjust the parameters and fields if necessary"
   ],
   "metadata": {}
  },
  {
   "cell_type": "code",
   "execution_count": 1,
   "source": [
    "# must be specified to be able to use methods of package\r\n",
    "import sys\r\n",
    "sys.path.append('../src') \r\n",
    "# import packages\r\n",
    "import pandas as pd\r\n",
    "from political_ads.api_request import get_json_response \r\n",
    "\r\n",
    "# insert your access token here (expires every 2 hours)\r\n",
    "access_token = \"EAAHmCGvnrWoBAJsYL98OhZAyLAwwqbeBh6IjIgOo6MefZCEwKMi8nBzrSdgLzMFFU0OjtSNPvZBCz2bjVmbJmuRmZARYbZAZCQlvByimceTyWnS3DKr7OJUxqv7Br0ZAjJn3GJfvuYZANYyujqNeJURIe69oQ2jnjxZB4xK1aVZBRUR6g5ZA1AlUlWN3ZBSrmmWZBZCZAAlCuIGZBfh9fxwucMmautag\"\r\n",
    "\r\n",
    "# PARAMETERS NECESSARY\r\n",
    "ad_type = \"POLITICAL_AND_ISSUE_ADS\"\r\n",
    "ad_reached_countries = ['US', 'DE'] # Facebook delivered the ads in these countries. Provided as ISO country codes.\r\n",
    "search_terms = \"climate\" # The terms to search for in your query. We treat a blank space as a logical AND and search for both terms and no other operators. The limit of your string is 100 characters or less.\r\n",
    "\r\n",
    "# FIELDS to specify your results\r\n",
    "fields = [\"id\", \"ad_creative_body\", \"impressions\", \"delivery_by_region\", \"demographic_distribution\"]\r\n",
    "\r\n",
    "# see here for more parameters and fields: https://www.facebook.com/ads/library/api/?source=archive-landing-page \r\n",
    "\r\n",
    "input_url = f\"https://graph.facebook.com/v12.0/ads_archive?search_terms={search_terms}&ad_type={ad_type}&ad_reached_countries={ad_reached_countries}&fields={fields}\"\r\n",
    "\r\n",
    "response = get_json_response(input_url, access_token)\r\n",
    "\r\n",
    "data = pd.DataFrame(response[\"data\"])\r\n"
   ],
   "outputs": [
    {
     "output_type": "error",
     "ename": "Exception",
     "evalue": "(401, '{\"error\":{\"message\":\"Error validating access token: Session has expired on Wednesday, 22-Sep-21 13:00:00 PDT. The current time is Thursday, 23-Sep-21 03:06:38 PDT.\",\"type\":\"OAuthException\",\"code\":190,\"error_subcode\":463,\"fbtrace_id\":\"AROitX1fyDl6DXE9SLZ8rxZ\"}}')",
     "traceback": [
      "\u001b[1;31m---------------------------------------------------------------------------\u001b[0m",
      "\u001b[1;31mException\u001b[0m                                 Traceback (most recent call last)",
      "\u001b[1;32m~\\AppData\\Local\\Temp/ipykernel_26004/2003012068.py\u001b[0m in \u001b[0;36m<module>\u001b[1;34m\u001b[0m\n\u001b[0;32m     21\u001b[0m \u001b[0minput_url\u001b[0m \u001b[1;33m=\u001b[0m \u001b[1;34mf\"https://graph.facebook.com/v12.0/ads_archive?search_terms={search_terms}&ad_type={ad_type}&ad_reached_countries={ad_reached_countries}&fields={fields}\"\u001b[0m\u001b[1;33m\u001b[0m\u001b[1;33m\u001b[0m\u001b[0m\n\u001b[0;32m     22\u001b[0m \u001b[1;33m\u001b[0m\u001b[0m\n\u001b[1;32m---> 23\u001b[1;33m \u001b[0mresponse\u001b[0m \u001b[1;33m=\u001b[0m \u001b[0mget_json_response\u001b[0m\u001b[1;33m(\u001b[0m\u001b[0minput_url\u001b[0m\u001b[1;33m,\u001b[0m \u001b[0maccess_token\u001b[0m\u001b[1;33m)\u001b[0m\u001b[1;33m\u001b[0m\u001b[1;33m\u001b[0m\u001b[0m\n\u001b[0m\u001b[0;32m     24\u001b[0m \u001b[1;33m\u001b[0m\u001b[0m\n\u001b[0;32m     25\u001b[0m \u001b[0mdata\u001b[0m \u001b[1;33m=\u001b[0m \u001b[0mpd\u001b[0m\u001b[1;33m.\u001b[0m\u001b[0mDataFrame\u001b[0m\u001b[1;33m(\u001b[0m\u001b[0mresponse\u001b[0m\u001b[1;33m[\u001b[0m\u001b[1;34m\"data\"\u001b[0m\u001b[1;33m]\u001b[0m\u001b[1;33m)\u001b[0m\u001b[1;33m\u001b[0m\u001b[1;33m\u001b[0m\u001b[0m\n",
      "\u001b[1;32mc:\\Users\\laise\\Desktop\\Uni\\Semester 3\\Research Project\\political-ad-api\\notebooks\\../src\\political_ads\\api_request.py\u001b[0m in \u001b[0;36mget_json_response\u001b[1;34m(url, token)\u001b[0m\n\u001b[0;32m     20\u001b[0m     \u001b[0mresponse\u001b[0m \u001b[1;33m=\u001b[0m \u001b[0mrequests\u001b[0m\u001b[1;33m.\u001b[0m\u001b[0mget\u001b[0m\u001b[1;33m(\u001b[0m\u001b[0murl\u001b[0m\u001b[1;33m,\u001b[0m \u001b[0mheaders\u001b[0m\u001b[1;33m=\u001b[0m\u001b[0mheaders\u001b[0m\u001b[1;33m)\u001b[0m\u001b[1;33m\u001b[0m\u001b[1;33m\u001b[0m\u001b[0m\n\u001b[0;32m     21\u001b[0m     \u001b[1;32mif\u001b[0m \u001b[0mresponse\u001b[0m\u001b[1;33m.\u001b[0m\u001b[0mstatus_code\u001b[0m \u001b[1;33m!=\u001b[0m \u001b[1;36m200\u001b[0m\u001b[1;33m:\u001b[0m\u001b[1;33m\u001b[0m\u001b[1;33m\u001b[0m\u001b[0m\n\u001b[1;32m---> 22\u001b[1;33m         \u001b[1;32mraise\u001b[0m \u001b[0mException\u001b[0m\u001b[1;33m(\u001b[0m\u001b[0mresponse\u001b[0m\u001b[1;33m.\u001b[0m\u001b[0mstatus_code\u001b[0m\u001b[1;33m,\u001b[0m \u001b[0mresponse\u001b[0m\u001b[1;33m.\u001b[0m\u001b[0mtext\u001b[0m\u001b[1;33m)\u001b[0m\u001b[1;33m\u001b[0m\u001b[1;33m\u001b[0m\u001b[0m\n\u001b[0m\u001b[0;32m     23\u001b[0m     \u001b[1;32mreturn\u001b[0m \u001b[0mresponse\u001b[0m\u001b[1;33m.\u001b[0m\u001b[0mjson\u001b[0m\u001b[1;33m(\u001b[0m\u001b[1;33m)\u001b[0m\u001b[1;33m\u001b[0m\u001b[1;33m\u001b[0m\u001b[0m\n\u001b[0;32m     24\u001b[0m \u001b[1;33m\u001b[0m\u001b[0m\n",
      "\u001b[1;31mException\u001b[0m: (401, '{\"error\":{\"message\":\"Error validating access token: Session has expired on Wednesday, 22-Sep-21 13:00:00 PDT. The current time is Thursday, 23-Sep-21 03:06:38 PDT.\",\"type\":\"OAuthException\",\"code\":190,\"error_subcode\":463,\"fbtrace_id\":\"AROitX1fyDl6DXE9SLZ8rxZ\"}}')"
     ]
    }
   ],
   "metadata": {}
  },
  {
   "cell_type": "code",
   "execution_count": 7,
   "source": [
    "data.head()"
   ],
   "outputs": [
    {
     "output_type": "execute_result",
     "data": {
      "text/html": [
       "<div>\n",
       "<style scoped>\n",
       "    .dataframe tbody tr th:only-of-type {\n",
       "        vertical-align: middle;\n",
       "    }\n",
       "\n",
       "    .dataframe tbody tr th {\n",
       "        vertical-align: top;\n",
       "    }\n",
       "\n",
       "    .dataframe thead th {\n",
       "        text-align: right;\n",
       "    }\n",
       "</style>\n",
       "<table border=\"1\" class=\"dataframe\">\n",
       "  <thead>\n",
       "    <tr style=\"text-align: right;\">\n",
       "      <th></th>\n",
       "      <th>id</th>\n",
       "      <th>ad_creative_body</th>\n",
       "      <th>impressions</th>\n",
       "      <th>delivery_by_region</th>\n",
       "      <th>demographic_distribution</th>\n",
       "    </tr>\n",
       "  </thead>\n",
       "  <tbody>\n",
       "    <tr>\n",
       "      <th>0</th>\n",
       "      <td>878708576362819</td>\n",
       "      <td>Transport affects climate change and our urban...</td>\n",
       "      <td>{'lower_bound': '1000000'}</td>\n",
       "      <td>[{'percentage': '2.0E-6', 'region': 'Jämtland ...</td>\n",
       "      <td>[{'percentage': '0.000114', 'age': '55-64', 'g...</td>\n",
       "    </tr>\n",
       "    <tr>\n",
       "      <th>1</th>\n",
       "      <td>345860090520766</td>\n",
       "      <td>Climate change, environmental degradation and ...</td>\n",
       "      <td>{'lower_bound': '1000000'}</td>\n",
       "      <td>[{'percentage': '7.0E-6', 'region': 'Hiiu Coun...</td>\n",
       "      <td>[{'percentage': '0.001705', 'age': '25-34', 'g...</td>\n",
       "    </tr>\n",
       "    <tr>\n",
       "      <th>2</th>\n",
       "      <td>1074678253022683</td>\n",
       "      <td>How could EU rules on climate, health, environ...</td>\n",
       "      <td>{'lower_bound': '1000000'}</td>\n",
       "      <td>[{'percentage': '4.0E-6', 'region': 'Jõgeva Co...</td>\n",
       "      <td>[{'percentage': '0.000167', 'age': '55-64', 'g...</td>\n",
       "    </tr>\n",
       "    <tr>\n",
       "      <th>3</th>\n",
       "      <td>2883391761877521</td>\n",
       "      <td>It's a vibe. We’re excited to announce that Dr...</td>\n",
       "      <td>{'lower_bound': '800000', 'upper_bound': '8999...</td>\n",
       "      <td>[{'percentage': '3.0E-6', 'region': 'Yangon'},...</td>\n",
       "      <td>[{'percentage': '1.8E-5', 'age': '55-64', 'gen...</td>\n",
       "    </tr>\n",
       "    <tr>\n",
       "      <th>4</th>\n",
       "      <td>161524832762330</td>\n",
       "      <td>🌎 Sierra Club's City Hike-A-Thon is a national...</td>\n",
       "      <td>{'lower_bound': '0', 'upper_bound': '999'}</td>\n",
       "      <td>[{'percentage': '0.8', 'region': 'Massachusett...</td>\n",
       "      <td>[{'percentage': '0.0125', 'age': '18-24', 'gen...</td>\n",
       "    </tr>\n",
       "  </tbody>\n",
       "</table>\n",
       "</div>"
      ],
      "text/plain": [
       "                 id                                   ad_creative_body  \\\n",
       "0   878708576362819  Transport affects climate change and our urban...   \n",
       "1   345860090520766  Climate change, environmental degradation and ...   \n",
       "2  1074678253022683  How could EU rules on climate, health, environ...   \n",
       "3  2883391761877521  It's a vibe. We’re excited to announce that Dr...   \n",
       "4   161524832762330  🌎 Sierra Club's City Hike-A-Thon is a national...   \n",
       "\n",
       "                                         impressions  \\\n",
       "0                         {'lower_bound': '1000000'}   \n",
       "1                         {'lower_bound': '1000000'}   \n",
       "2                         {'lower_bound': '1000000'}   \n",
       "3  {'lower_bound': '800000', 'upper_bound': '8999...   \n",
       "4         {'lower_bound': '0', 'upper_bound': '999'}   \n",
       "\n",
       "                                  delivery_by_region  \\\n",
       "0  [{'percentage': '2.0E-6', 'region': 'Jämtland ...   \n",
       "1  [{'percentage': '7.0E-6', 'region': 'Hiiu Coun...   \n",
       "2  [{'percentage': '4.0E-6', 'region': 'Jõgeva Co...   \n",
       "3  [{'percentage': '3.0E-6', 'region': 'Yangon'},...   \n",
       "4  [{'percentage': '0.8', 'region': 'Massachusett...   \n",
       "\n",
       "                            demographic_distribution  \n",
       "0  [{'percentage': '0.000114', 'age': '55-64', 'g...  \n",
       "1  [{'percentage': '0.001705', 'age': '25-34', 'g...  \n",
       "2  [{'percentage': '0.000167', 'age': '55-64', 'g...  \n",
       "3  [{'percentage': '1.8E-5', 'age': '55-64', 'gen...  \n",
       "4  [{'percentage': '0.0125', 'age': '18-24', 'gen...  "
      ]
     },
     "metadata": {},
     "execution_count": 7
    }
   ],
   "metadata": {}
  },
  {
   "cell_type": "code",
   "execution_count": 11,
   "source": [
    "data.describe()"
   ],
   "outputs": [
    {
     "output_type": "execute_result",
     "data": {
      "text/html": [
       "<div>\n",
       "<style scoped>\n",
       "    .dataframe tbody tr th:only-of-type {\n",
       "        vertical-align: middle;\n",
       "    }\n",
       "\n",
       "    .dataframe tbody tr th {\n",
       "        vertical-align: top;\n",
       "    }\n",
       "\n",
       "    .dataframe thead th {\n",
       "        text-align: right;\n",
       "    }\n",
       "</style>\n",
       "<table border=\"1\" class=\"dataframe\">\n",
       "  <thead>\n",
       "    <tr style=\"text-align: right;\">\n",
       "      <th></th>\n",
       "      <th>id</th>\n",
       "      <th>ad_creative_body</th>\n",
       "      <th>impressions</th>\n",
       "      <th>delivery_by_region</th>\n",
       "      <th>demographic_distribution</th>\n",
       "    </tr>\n",
       "  </thead>\n",
       "  <tbody>\n",
       "    <tr>\n",
       "      <th>count</th>\n",
       "      <td>25</td>\n",
       "      <td>25</td>\n",
       "      <td>25</td>\n",
       "      <td>19</td>\n",
       "      <td>19</td>\n",
       "    </tr>\n",
       "    <tr>\n",
       "      <th>unique</th>\n",
       "      <td>25</td>\n",
       "      <td>15</td>\n",
       "      <td>8</td>\n",
       "      <td>14</td>\n",
       "      <td>19</td>\n",
       "    </tr>\n",
       "    <tr>\n",
       "      <th>top</th>\n",
       "      <td>878708576362819</td>\n",
       "      <td>🌎 Sierra Club's City Hike-A-Thon is a national...</td>\n",
       "      <td>{'lower_bound': '0', 'upper_bound': '999'}</td>\n",
       "      <td>[{'percentage': '1', 'region': 'California'}]</td>\n",
       "      <td>[{'percentage': '0.000114', 'age': '55-64', 'g...</td>\n",
       "    </tr>\n",
       "    <tr>\n",
       "      <th>freq</th>\n",
       "      <td>1</td>\n",
       "      <td>4</td>\n",
       "      <td>14</td>\n",
       "      <td>6</td>\n",
       "      <td>1</td>\n",
       "    </tr>\n",
       "  </tbody>\n",
       "</table>\n",
       "</div>"
      ],
      "text/plain": [
       "                     id                                   ad_creative_body  \\\n",
       "count                25                                                 25   \n",
       "unique               25                                                 15   \n",
       "top     878708576362819  🌎 Sierra Club's City Hike-A-Thon is a national...   \n",
       "freq                  1                                                  4   \n",
       "\n",
       "                                       impressions  \\\n",
       "count                                           25   \n",
       "unique                                           8   \n",
       "top     {'lower_bound': '0', 'upper_bound': '999'}   \n",
       "freq                                            14   \n",
       "\n",
       "                                   delivery_by_region  \\\n",
       "count                                              19   \n",
       "unique                                             14   \n",
       "top     [{'percentage': '1', 'region': 'California'}]   \n",
       "freq                                                6   \n",
       "\n",
       "                                 demographic_distribution  \n",
       "count                                                  19  \n",
       "unique                                                 19  \n",
       "top     [{'percentage': '0.000114', 'age': '55-64', 'g...  \n",
       "freq                                                    1  "
      ]
     },
     "metadata": {},
     "execution_count": 11
    }
   ],
   "metadata": {}
  },
  {
   "cell_type": "code",
   "execution_count": 22,
   "source": [
    "data.loc[[0]][\"delivery_by_region\"]\r\n"
   ],
   "outputs": [
    {
     "output_type": "execute_result",
     "data": {
      "text/plain": [
       "0    [{'percentage': '2.0E-6', 'region': 'Jämtland ...\n",
       "Name: delivery_by_region, dtype: object"
      ]
     },
     "metadata": {},
     "execution_count": 22
    }
   ],
   "metadata": {}
  }
 ],
 "metadata": {
  "orig_nbformat": 4,
  "language_info": {
   "name": "python",
   "version": "3.9.6",
   "mimetype": "text/x-python",
   "codemirror_mode": {
    "name": "ipython",
    "version": 3
   },
   "pygments_lexer": "ipython3",
   "nbconvert_exporter": "python",
   "file_extension": ".py"
  },
  "kernelspec": {
   "name": "python3",
   "display_name": "Python 3.9.6 64-bit"
  },
  "interpreter": {
   "hash": "63fd5069d213b44bf678585dea6b12cceca9941eaf7f819626cde1f2670de90d"
  }
 },
 "nbformat": 4,
 "nbformat_minor": 2
}