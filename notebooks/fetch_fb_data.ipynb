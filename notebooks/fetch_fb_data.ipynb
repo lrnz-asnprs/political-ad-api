{
 "cells": [
  {
   "cell_type": "code",
   "execution_count": 2,
   "source": [
    "# must be specified to be able to use methods of package\r\n",
    "import sys\r\n",
    "sys.path.append('../src') \r\n",
    "# import packages\r\n",
    "import pandas as pd\r\n",
    "from political_ads.api_request import get_json_response \r\n",
    "\r\n",
    "# insert your access token here (expires every 2 hours)\r\n",
    "access_token = \"EAAHmCGvnrWoBAJsYL98OhZAyLAwwqbeBh6IjIgOo6MefZCEwKMi8nBzrSdgLzMFFU0OjtSNPvZBCz2bjVmbJmuRmZARYbZAZCQlvByimceTyWnS3DKr7OJUxqv7Br0ZAjJn3GJfvuYZANYyujqNeJURIe69oQ2jnjxZB4xK1aVZBRUR6g5ZA1AlUlWN3ZBSrmmWZBZCZAAlCuIGZBfh9fxwucMmautag\"\r\n",
    "\r\n",
    "# PARAMETERS NECESSARY\r\n",
    "ad_type = \"POLITICAL_AND_ISSUE_ADS\"\r\n",
    "ad_reached_countries = ['US', 'DE'] # Facebook delivered the ads in these countries. Provided as ISO country codes.\r\n",
    "search_terms = \"climate\" # The terms to search for in your query. We treat a blank space as a logical AND and search for both terms and no other operators. The limit of your string is 100 characters or less.\r\n",
    "\r\n",
    "# FIELDS to specify your results\r\n",
    "fields = [\"id\", \"ad_creative_body\", \"impressions\", \"delivery_by_region\", \"demographic_distribution\"]\r\n",
    "\r\n",
    "# see here for more parameters and fields: https://www.facebook.com/ads/library/api/?source=archive-landing-page \r\n",
    "\r\n",
    "input_url = f\"https://graph.facebook.com/v12.0/ads_archive?search_terms={search_terms}&ad_type={ad_type}&ad_reached_countries={ad_reached_countries}&fields={fields}\"\r\n",
    "\r\n",
    "response = get_json_response(input_url, access_token)\r\n",
    "\r\n",
    "data = pd.DataFrame(response[\"data\"])\r\n"
   ],
   "outputs": [],
   "metadata": {}
  },
  {
   "cell_type": "code",
   "execution_count": 4,
   "source": [
    "data.head()"
   ],
   "outputs": [
    {
     "output_type": "execute_result",
     "data": {
      "text/html": [
       "<div>\n",
       "<style scoped>\n",
       "    .dataframe tbody tr th:only-of-type {\n",
       "        vertical-align: middle;\n",
       "    }\n",
       "\n",
       "    .dataframe tbody tr th {\n",
       "        vertical-align: top;\n",
       "    }\n",
       "\n",
       "    .dataframe thead th {\n",
       "        text-align: right;\n",
       "    }\n",
       "</style>\n",
       "<table border=\"1\" class=\"dataframe\">\n",
       "  <thead>\n",
       "    <tr style=\"text-align: right;\">\n",
       "      <th></th>\n",
       "      <th>id</th>\n",
       "      <th>ad_creative_body</th>\n",
       "      <th>delivery_by_region</th>\n",
       "      <th>demographic_distribution</th>\n",
       "    </tr>\n",
       "  </thead>\n",
       "  <tbody>\n",
       "    <tr>\n",
       "      <th>0</th>\n",
       "      <td>878708576362819</td>\n",
       "      <td>Transport affects climate change and our urban...</td>\n",
       "      <td>[{'percentage': '2.0E-6', 'region': 'Jämtland ...</td>\n",
       "      <td>[{'percentage': '0.000114', 'age': '55-64', 'g...</td>\n",
       "    </tr>\n",
       "    <tr>\n",
       "      <th>1</th>\n",
       "      <td>345860090520766</td>\n",
       "      <td>Climate change, environmental degradation and ...</td>\n",
       "      <td>[{'percentage': '7.0E-6', 'region': 'Hiiu Coun...</td>\n",
       "      <td>[{'percentage': '0.001705', 'age': '25-34', 'g...</td>\n",
       "    </tr>\n",
       "    <tr>\n",
       "      <th>2</th>\n",
       "      <td>1074678253022683</td>\n",
       "      <td>How could EU rules on climate, health, environ...</td>\n",
       "      <td>[{'percentage': '4.0E-6', 'region': 'Jõgeva Co...</td>\n",
       "      <td>[{'percentage': '0.000167', 'age': '55-64', 'g...</td>\n",
       "    </tr>\n",
       "    <tr>\n",
       "      <th>3</th>\n",
       "      <td>2883391761877521</td>\n",
       "      <td>It's a vibe. We’re excited to announce that Dr...</td>\n",
       "      <td>[{'percentage': '3.0E-6', 'region': 'Yangon'},...</td>\n",
       "      <td>[{'percentage': '1.8E-5', 'age': '55-64', 'gen...</td>\n",
       "    </tr>\n",
       "    <tr>\n",
       "      <th>4</th>\n",
       "      <td>161524832762330</td>\n",
       "      <td>🌎 Sierra Club's City Hike-A-Thon is a national...</td>\n",
       "      <td>[{'percentage': '0.80083', 'region': 'Massachu...</td>\n",
       "      <td>[{'percentage': '0.0125', 'age': '18-24', 'gen...</td>\n",
       "    </tr>\n",
       "  </tbody>\n",
       "</table>\n",
       "</div>"
      ],
      "text/plain": [
       "                 id                                   ad_creative_body  \\\n",
       "0   878708576362819  Transport affects climate change and our urban...   \n",
       "1   345860090520766  Climate change, environmental degradation and ...   \n",
       "2  1074678253022683  How could EU rules on climate, health, environ...   \n",
       "3  2883391761877521  It's a vibe. We’re excited to announce that Dr...   \n",
       "4   161524832762330  🌎 Sierra Club's City Hike-A-Thon is a national...   \n",
       "\n",
       "                                  delivery_by_region  \\\n",
       "0  [{'percentage': '2.0E-6', 'region': 'Jämtland ...   \n",
       "1  [{'percentage': '7.0E-6', 'region': 'Hiiu Coun...   \n",
       "2  [{'percentage': '4.0E-6', 'region': 'Jõgeva Co...   \n",
       "3  [{'percentage': '3.0E-6', 'region': 'Yangon'},...   \n",
       "4  [{'percentage': '0.80083', 'region': 'Massachu...   \n",
       "\n",
       "                            demographic_distribution  \n",
       "0  [{'percentage': '0.000114', 'age': '55-64', 'g...  \n",
       "1  [{'percentage': '0.001705', 'age': '25-34', 'g...  \n",
       "2  [{'percentage': '0.000167', 'age': '55-64', 'g...  \n",
       "3  [{'percentage': '1.8E-5', 'age': '55-64', 'gen...  \n",
       "4  [{'percentage': '0.0125', 'age': '18-24', 'gen...  "
      ]
     },
     "metadata": {},
     "execution_count": 4
    }
   ],
   "metadata": {}
  }
 ],
 "metadata": {
  "orig_nbformat": 4,
  "language_info": {
   "name": "python",
   "version": "3.9.6",
   "mimetype": "text/x-python",
   "codemirror_mode": {
    "name": "ipython",
    "version": 3
   },
   "pygments_lexer": "ipython3",
   "nbconvert_exporter": "python",
   "file_extension": ".py"
  },
  "kernelspec": {
   "name": "python3",
   "display_name": "Python 3.9.6 64-bit"
  },
  "interpreter": {
   "hash": "63fd5069d213b44bf678585dea6b12cceca9941eaf7f819626cde1f2670de90d"
  }
 },
 "nbformat": 4,
 "nbformat_minor": 2
}