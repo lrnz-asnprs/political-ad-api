{
 "cells": [
  {
   "cell_type": "code",
   "execution_count": 1,
   "source": [
    "# must be specified to be able to use methods of package\r\n",
    "import sys\r\n",
    "sys.path.append('../src') \r\n",
    "# import packages\r\n",
    "import pandas as pd\r\n",
    "from political_ads.api_request import get_json_response \r\n",
    "\r\n",
    "# insert your access token here (expires every 2 hours)\r\n",
    "access_token = \"EAAHmCGvnrWoBAFkOXPbvZAH2z78VK5Yw1d9IC3icI8YIUZBksSpnqRrxkpAi5j4PG6SDqGh6ZA4zo0F8of5SA3t3HqQ77lzWpr2pSLLUyznD9WOOrZCVudiDSzbK6ey3MIEZASZAJiRmv474G1ZBvwdTgQ9nhS74vYEefvR8pPeEDmeZC5VSBpxZCUK28jLn3utI0ZA7yURdjOMQR5P1kzWlwAZA2TFG89wzZCvxCwZB9OBwu4Yf127n8rvZBqyXrJCiu7wlkZD\"\r\n",
    "\r\n",
    "# PARAMETERS NECESSARY\r\n",
    "ad_type = \"POLITICAL_AND_ISSUE_ADS\"\r\n",
    "ad_reached_countries = ['US', 'DE'] # Facebook delivered the ads in these countries. Provided as ISO country codes.\r\n",
    "search_terms = \"climate\" # The terms to search for in your query. We treat a blank space as a logical AND and search for both terms and no other operators. The limit of your string is 100 characters or less.\r\n",
    "\r\n",
    "# FIELDS to specify your results\r\n",
    "fields = [\"id\", \"ad_creative_body\", \"delivery_by_region\", \"demographic_distribution\"]\r\n",
    "\r\n",
    "# see here for more parameters and fields: https://www.facebook.com/ads/library/api/?source=archive-landing-page \r\n",
    "\r\n",
    "input_url = f\"https://graph.facebook.com/v12.0/ads_archive?search_terms={search_terms}&ad_type={ad_type}&ad_reached_countries={ad_reached_countries}&fields={fields}\"\r\n",
    "\r\n",
    "# response = get_json_resonse(input_url)\r\n",
    "\r\n",
    "# data = pd.DataFrame(response[\"data\"])\r\n"
   ],
   "outputs": [],
   "metadata": {}
  },
  {
   "cell_type": "code",
   "execution_count": null,
   "source": [
    "# data.head()"
   ],
   "outputs": [],
   "metadata": {}
  }
 ],
 "metadata": {
  "orig_nbformat": 4,
  "language_info": {
   "name": "python",
   "version": "3.9.6",
   "mimetype": "text/x-python",
   "codemirror_mode": {
    "name": "ipython",
    "version": 3
   },
   "pygments_lexer": "ipython3",
   "nbconvert_exporter": "python",
   "file_extension": ".py"
  },
  "kernelspec": {
   "name": "python3",
   "display_name": "Python 3.9.6 64-bit"
  },
  "interpreter": {
   "hash": "63fd5069d213b44bf678585dea6b12cceca9941eaf7f819626cde1f2670de90d"
  }
 },
 "nbformat": 4,
 "nbformat_minor": 2
}