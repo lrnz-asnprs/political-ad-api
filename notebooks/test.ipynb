{
 "cells": [
  {
   "cell_type": "code",
   "execution_count": null,
   "metadata": {},
   "outputs": [],
   "source": [
    "import sys\n",
    "import pandas as pd\n",
    "sys.path.append('../src') \n",
    "\n",
    "from political_ads.Preprocessor import Preprocessor"
   ]
  },
  {
   "cell_type": "code",
   "execution_count": null,
   "metadata": {},
   "outputs": [],
   "source": [
    "def json_to_py(dict_string): # Transoforms spend and impressions back to dictionnaries when reading from csv\n",
    "        # Convert to proper json \n",
    "        js_string = \"\"\n",
    "        \n",
    "        if \"Côte\" or \"Smith\" or \"Sana'a\" or \"M'Sila\" in dict_string:\n",
    "                temp_string = dict_string.replace(\"d'Azur\", \"dAzur\")\n",
    "                temp_string = temp_string.replace(\"Smith's\", \"Smiths\")\n",
    "                temp_string = temp_string.replace(\"Sana'a\", \"Sanaa\")\n",
    "                temp_string = temp_string.replace(\"Grand'Anse\", \"GrandAnse\")\n",
    "                temp_string = temp_string.replace(\"M'Sila\", \"MSila\")\n",
    "                js_string = temp_string.replace(\"'\", '\"')\n",
    "        else:\n",
    "                js_string = dict_string.replace(\"'\", '\"')\n",
    "        print()\n",
    "        print(\"Next\")\n",
    "        print(js_string)\n",
    "        if len(js_string) > 7759:\n",
    "                print()\n",
    "                print(\"Character: 4152\"  + js_string[6270 :6280])\n",
    "        return json.loads(js_string)"
   ]
  },
  {
   "cell_type": "code",
   "execution_count": null,
   "metadata": {},
   "outputs": [],
   "source": [
    "\n",
    "# fix the regex\n",
    "import re\n",
    "\n",
    "def remove_apostrophe(match_obj):\n",
    "    if match_obj.group(2) is not None:\n",
    "        return \"\"\n",
    "\n",
    "test_string = \"{'percentage': '0.00349', 'region': 'M'Sila Province'}\"\n",
    "\n",
    "result = re.search(r\"([\\w]+(['])[\\w]+)\", test_string)\n",
    "\n",
    "replaced = re.sub(r\"([a-zA-Z](['])[a-zA-Z])\", remove_apostrophe, test_string)\n",
    "\n",
    "print(result.group(1))\n",
    "print(result.group(2))\n",
    "\n",
    "replaced\n"
   ]
  },
  {
   "cell_type": "code",
   "execution_count": null,
   "metadata": {},
   "outputs": [],
   "source": [
    "prepro = Preprocessor()\n",
    "\n",
    "import json\n",
    "import numpy as np\n",
    "\n",
    "# prepro.transform_csv(\"..\\\\data\\\\exported_df.csv\")\n",
    "\n",
    "f = pd.read_csv(\"..\\\\data\\\\exported_df.csv\")\n",
    "\n",
    "# # transform spend & impression into ranges\n",
    "f[\"spend\"] = f[\"spend\"].apply(lambda x: prepro.json_to_python(x)).apply(lambda x: prepro.transform_range(x))\n",
    "\n",
    "f[\"impressions\"] = f[\"impressions\"].apply(lambda x: prepro.json_to_python(x)).apply(lambda x: prepro.transform_range(x))\n",
    "\n",
    "f[\"delivery_by_region\"] = f[\"delivery_by_region\"].apply(lambda x: json_to_py(x) if not pd.isnull(x) else np.nan)"
   ]
  },
  {
   "cell_type": "code",
   "execution_count": null,
   "metadata": {},
   "outputs": [],
   "source": [
    "\"Côte\" in f[\"delivery_by_region\"][3]"
   ]
  },
  {
   "cell_type": "code",
   "execution_count": null,
   "metadata": {},
   "outputs": [],
   "source": [
    "prepro = Preprocessor()\n",
    "s = prepro.transform_csv(\"..\\\\data\\\\exported_df.csv\")\n",
    "\n",
    "s"
   ]
  }
 ],
 "metadata": {
  "interpreter": {
   "hash": "ecf98a633b3362dfdd0da0429a6156c4af256c2015ccd5dc6065039097b726a9"
  },
  "kernelspec": {
   "display_name": "Python 3.8.8 64-bit ('base': conda)",
   "name": "python3"
  },
  "language_info": {
   "codemirror_mode": {
    "name": "ipython",
    "version": 3
   },
   "file_extension": ".py",
   "mimetype": "text/x-python",
   "name": "python",
   "nbconvert_exporter": "python",
   "pygments_lexer": "ipython3",
   "version": "3.8.8"
  },
  "orig_nbformat": 4
 },
 "nbformat": 4,
 "nbformat_minor": 2
}
