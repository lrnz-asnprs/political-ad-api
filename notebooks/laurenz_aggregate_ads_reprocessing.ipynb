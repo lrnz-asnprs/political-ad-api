{
 "cells": [
  {
   "cell_type": "code",
   "execution_count": 43,
   "metadata": {},
   "outputs": [],
   "source": [
    "import pandas as pd\n",
    "import numpy as np\n",
    "import sys\n",
    "\n",
    "sys.path.append('../src') \n",
    "\n",
    "data = pd.read_csv('..\\\\data\\\\all_politicians_aggregated_final.csv')"
   ]
  },
  {
   "cell_type": "code",
   "execution_count": 47,
   "metadata": {},
   "outputs": [
    {
     "data": {
      "text/plain": [
       "'\\nThere +100.000 ads without delivery_by_region because they have really low impressions\\n'"
      ]
     },
     "execution_count": 47,
     "metadata": {},
     "output_type": "execute_result"
    }
   ],
   "source": [
    "# remove all rows with NaN delivery_by_region\n",
    "data = data[pd.notnull(data['delivery_by_region'])]\n",
    "\n",
    "'''\n",
    "There +100.000 ads without delivery_by_region because they have really low impressions\n",
    "'''"
   ]
  },
  {
   "cell_type": "code",
   "execution_count": 50,
   "metadata": {},
   "outputs": [],
   "source": [
    "geo = data.iloc[0].delivery_by_region\n",
    "# turn str into lst\n",
    "geo = eval(geo)\n",
    "# add new key to point\n",
    "impressions = float(data.iloc[0].impressions)\n",
    "geo[0]['impressions'] = round(float(geo[0][\"percentage\"]) * impressions)\n",
    "\n",
    "def calc_impressions_per_state(df):\n",
    "    geo = df[\"delivery_by_region\"]\n",
    "    geo = eval(geo) #turn into obj\n",
    "    impressions = df[\"impressions\"]\n",
    "    for region in geo:\n",
    "        region[\"impressions\"] = round(float(region[\"percentage\"]) * impressions)\n",
    "    return geo"
   ]
  },
  {
   "cell_type": "code",
   "execution_count": 54,
   "metadata": {},
   "outputs": [
    {
     "name": "stderr",
     "output_type": "stream",
     "text": [
      "100%|██████████| 463403/463403 [01:52<00:00, 4121.30it/s] \n"
     ]
    }
   ],
   "source": [
    "from tqdm import tqdm \n",
    "tqdm.pandas()\n",
    "\n",
    "# apply the transformation to all advertisements\n",
    "data[\"geo_transf\"] = data.progress_apply(calc_impressions_per_state, axis=1)"
   ]
  },
  {
   "cell_type": "code",
   "execution_count": 58,
   "metadata": {},
   "outputs": [
    {
     "data": {
      "text/html": [
       "<div>\n",
       "<style scoped>\n",
       "    .dataframe tbody tr th:only-of-type {\n",
       "        vertical-align: middle;\n",
       "    }\n",
       "\n",
       "    .dataframe tbody tr th {\n",
       "        vertical-align: top;\n",
       "    }\n",
       "\n",
       "    .dataframe thead th {\n",
       "        text-align: right;\n",
       "    }\n",
       "</style>\n",
       "<table border=\"1\" class=\"dataframe\">\n",
       "  <thead>\n",
       "    <tr style=\"text-align: right;\">\n",
       "      <th></th>\n",
       "      <th>ad_creation_time</th>\n",
       "      <th>ad_creative_body</th>\n",
       "      <th>spend</th>\n",
       "      <th>impressions</th>\n",
       "      <th>delivery_by_region</th>\n",
       "      <th>demographic_distribution</th>\n",
       "      <th>page_id</th>\n",
       "      <th>page_name</th>\n",
       "      <th>bylines</th>\n",
       "      <th>id</th>\n",
       "      <th>spend_lo</th>\n",
       "      <th>spend_hi</th>\n",
       "      <th>impressions_lo</th>\n",
       "      <th>impressions_hi</th>\n",
       "      <th>geo_transf</th>\n",
       "    </tr>\n",
       "  </thead>\n",
       "  <tbody>\n",
       "    <tr>\n",
       "      <th>456186</th>\n",
       "      <td>2020-09-24</td>\n",
       "      <td>“He shows up. He’s not just a politician. He’s...</td>\n",
       "      <td>1249.5</td>\n",
       "      <td>112499.5</td>\n",
       "      <td>[{'percentage': '0.000185', 'region': 'Indiana...</td>\n",
       "      <td>[{'percentage': '0.000268', 'age': '18-24', 'g...</td>\n",
       "      <td>68563629337</td>\n",
       "      <td>Fred Upton</td>\n",
       "      <td>Upton for All of Us</td>\n",
       "      <td>638752283478441</td>\n",
       "      <td>1000</td>\n",
       "      <td>1499</td>\n",
       "      <td>100000</td>\n",
       "      <td>124999</td>\n",
       "      <td>[{'percentage': '0.000185', 'region': 'Indiana...</td>\n",
       "    </tr>\n",
       "    <tr>\n",
       "      <th>139401</th>\n",
       "      <td>2018-10-12</td>\n",
       "      <td>ALL DONATIONS MATCHED! A group of generous don...</td>\n",
       "      <td>149.5</td>\n",
       "      <td>3499.5</td>\n",
       "      <td>[{'percentage': '0.000533', 'region': 'Alabama...</td>\n",
       "      <td>[{'percentage': '0.000533', 'age': '18-24', 'g...</td>\n",
       "      <td>1413682351987764</td>\n",
       "      <td>Andy Kim for Congress</td>\n",
       "      <td>Andy Kim for Congress</td>\n",
       "      <td>2178300565775654</td>\n",
       "      <td>100</td>\n",
       "      <td>199</td>\n",
       "      <td>3000</td>\n",
       "      <td>3999</td>\n",
       "      <td>[{'percentage': '0.000533', 'region': 'Alabama...</td>\n",
       "    </tr>\n",
       "    <tr>\n",
       "      <th>453938</th>\n",
       "      <td>2018-07-26</td>\n",
       "      <td>We have an important fundraising deadline comi...</td>\n",
       "      <td>49.5</td>\n",
       "      <td>499.5</td>\n",
       "      <td>[{'percentage': '1', 'region': 'Wisconsin'}]</td>\n",
       "      <td>[{'percentage': '0.015873', 'age': '18-24', 'g...</td>\n",
       "      <td>7357041101</td>\n",
       "      <td>Tammy Baldwin</td>\n",
       "      <td>Tammy Baldwin for Senate</td>\n",
       "      <td>235255143963843</td>\n",
       "      <td>0</td>\n",
       "      <td>99</td>\n",
       "      <td>0</td>\n",
       "      <td>999</td>\n",
       "      <td>[{'percentage': '1', 'region': 'Wisconsin', 'i...</td>\n",
       "    </tr>\n",
       "  </tbody>\n",
       "</table>\n",
       "</div>"
      ],
      "text/plain": [
       "       ad_creation_time                                   ad_creative_body  \\\n",
       "456186       2020-09-24  “He shows up. He’s not just a politician. He’s...   \n",
       "139401       2018-10-12  ALL DONATIONS MATCHED! A group of generous don...   \n",
       "453938       2018-07-26  We have an important fundraising deadline comi...   \n",
       "\n",
       "         spend  impressions  \\\n",
       "456186  1249.5     112499.5   \n",
       "139401   149.5       3499.5   \n",
       "453938    49.5        499.5   \n",
       "\n",
       "                                       delivery_by_region  \\\n",
       "456186  [{'percentage': '0.000185', 'region': 'Indiana...   \n",
       "139401  [{'percentage': '0.000533', 'region': 'Alabama...   \n",
       "453938       [{'percentage': '1', 'region': 'Wisconsin'}]   \n",
       "\n",
       "                                 demographic_distribution           page_id  \\\n",
       "456186  [{'percentage': '0.000268', 'age': '18-24', 'g...       68563629337   \n",
       "139401  [{'percentage': '0.000533', 'age': '18-24', 'g...  1413682351987764   \n",
       "453938  [{'percentage': '0.015873', 'age': '18-24', 'g...        7357041101   \n",
       "\n",
       "                    page_name                   bylines                id  \\\n",
       "456186             Fred Upton       Upton for All of Us   638752283478441   \n",
       "139401  Andy Kim for Congress     Andy Kim for Congress  2178300565775654   \n",
       "453938          Tammy Baldwin  Tammy Baldwin for Senate   235255143963843   \n",
       "\n",
       "        spend_lo  spend_hi  impressions_lo  impressions_hi  \\\n",
       "456186      1000      1499          100000          124999   \n",
       "139401       100       199            3000            3999   \n",
       "453938         0        99               0             999   \n",
       "\n",
       "                                               geo_transf  \n",
       "456186  [{'percentage': '0.000185', 'region': 'Indiana...  \n",
       "139401  [{'percentage': '0.000533', 'region': 'Alabama...  \n",
       "453938  [{'percentage': '1', 'region': 'Wisconsin', 'i...  "
      ]
     },
     "execution_count": 58,
     "metadata": {},
     "output_type": "execute_result"
    }
   ],
   "source": [
    "# now we need to aggregate the impressions per state for unique advertisement\n",
    "\n",
    "#https://stackoverflow.com/questions/44348426/pandas-groupby-custom-function-to-each-series\n",
    "\n",
    "test = data.sample(3, random_state=42)\n",
    "\n",
    "test"
   ]
  },
  {
   "cell_type": "code",
   "execution_count": 90,
   "metadata": {},
   "outputs": [
    {
     "ename": "KeyError",
     "evalue": "'region'",
     "output_type": "error",
     "traceback": [
      "\u001b[1;31m---------------------------------------------------------------------------\u001b[0m",
      "\u001b[1;31mKeyError\u001b[0m                                  Traceback (most recent call last)",
      "File \u001b[1;32mc:\\Users\\laise\\Desktop\\Uni\\Semester 4\\Natural Language Processing and Text Mining\\Final_Exam_Venv\\env\\lib\\site-packages\\pandas\\core\\groupby\\generic.py:287\u001b[0m, in \u001b[0;36mSeriesGroupBy.aggregate\u001b[1;34m(self, func, engine, engine_kwargs, *args, **kwargs)\u001b[0m\n\u001b[0;32m    <a href='file:///c%3A/Users/laise/Desktop/Uni/Semester%204/Natural%20Language%20Processing%20and%20Text%20Mining/Final_Exam_Venv/env/lib/site-packages/pandas/core/groupby/generic.py?line=285'>286</a>\u001b[0m \u001b[39mtry\u001b[39;00m:\n\u001b[1;32m--> <a href='file:///c%3A/Users/laise/Desktop/Uni/Semester%204/Natural%20Language%20Processing%20and%20Text%20Mining/Final_Exam_Venv/env/lib/site-packages/pandas/core/groupby/generic.py?line=286'>287</a>\u001b[0m     \u001b[39mreturn\u001b[39;00m \u001b[39mself\u001b[39m\u001b[39m.\u001b[39m_python_agg_general(func, \u001b[39m*\u001b[39margs, \u001b[39m*\u001b[39m\u001b[39m*\u001b[39mkwargs)\n\u001b[0;32m    <a href='file:///c%3A/Users/laise/Desktop/Uni/Semester%204/Natural%20Language%20Processing%20and%20Text%20Mining/Final_Exam_Venv/env/lib/site-packages/pandas/core/groupby/generic.py?line=287'>288</a>\u001b[0m \u001b[39mexcept\u001b[39;00m \u001b[39mKeyError\u001b[39;00m:\n\u001b[0;32m    <a href='file:///c%3A/Users/laise/Desktop/Uni/Semester%204/Natural%20Language%20Processing%20and%20Text%20Mining/Final_Exam_Venv/env/lib/site-packages/pandas/core/groupby/generic.py?line=288'>289</a>\u001b[0m     \u001b[39m# TODO: KeyError is raised in _python_agg_general,\u001b[39;00m\n\u001b[0;32m    <a href='file:///c%3A/Users/laise/Desktop/Uni/Semester%204/Natural%20Language%20Processing%20and%20Text%20Mining/Final_Exam_Venv/env/lib/site-packages/pandas/core/groupby/generic.py?line=289'>290</a>\u001b[0m     \u001b[39m#  see test_groupby.test_basic\u001b[39;00m\n",
      "File \u001b[1;32mc:\\Users\\laise\\Desktop\\Uni\\Semester 4\\Natural Language Processing and Text Mining\\Final_Exam_Venv\\env\\lib\\site-packages\\pandas\\core\\groupby\\groupby.py:1481\u001b[0m, in \u001b[0;36mGroupBy._python_agg_general\u001b[1;34m(self, func, *args, **kwargs)\u001b[0m\n\u001b[0;32m   <a href='file:///c%3A/Users/laise/Desktop/Uni/Semester%204/Natural%20Language%20Processing%20and%20Text%20Mining/Final_Exam_Venv/env/lib/site-packages/pandas/core/groupby/groupby.py?line=1478'>1479</a>\u001b[0m \u001b[39mtry\u001b[39;00m:\n\u001b[0;32m   <a href='file:///c%3A/Users/laise/Desktop/Uni/Semester%204/Natural%20Language%20Processing%20and%20Text%20Mining/Final_Exam_Venv/env/lib/site-packages/pandas/core/groupby/groupby.py?line=1479'>1480</a>\u001b[0m     \u001b[39m# if this function is invalid for this dtype, we will ignore it.\u001b[39;00m\n\u001b[1;32m-> <a href='file:///c%3A/Users/laise/Desktop/Uni/Semester%204/Natural%20Language%20Processing%20and%20Text%20Mining/Final_Exam_Venv/env/lib/site-packages/pandas/core/groupby/groupby.py?line=1480'>1481</a>\u001b[0m     result \u001b[39m=\u001b[39m \u001b[39mself\u001b[39;49m\u001b[39m.\u001b[39;49mgrouper\u001b[39m.\u001b[39;49magg_series(obj, f)\n\u001b[0;32m   <a href='file:///c%3A/Users/laise/Desktop/Uni/Semester%204/Natural%20Language%20Processing%20and%20Text%20Mining/Final_Exam_Venv/env/lib/site-packages/pandas/core/groupby/groupby.py?line=1481'>1482</a>\u001b[0m \u001b[39mexcept\u001b[39;00m \u001b[39mTypeError\u001b[39;00m:\n",
      "File \u001b[1;32mc:\\Users\\laise\\Desktop\\Uni\\Semester 4\\Natural Language Processing and Text Mining\\Final_Exam_Venv\\env\\lib\\site-packages\\pandas\\core\\groupby\\ops.py:981\u001b[0m, in \u001b[0;36mBaseGrouper.agg_series\u001b[1;34m(self, obj, func, preserve_dtype)\u001b[0m\n\u001b[0;32m    <a href='file:///c%3A/Users/laise/Desktop/Uni/Semester%204/Natural%20Language%20Processing%20and%20Text%20Mining/Final_Exam_Venv/env/lib/site-packages/pandas/core/groupby/ops.py?line=979'>980</a>\u001b[0m \u001b[39melse\u001b[39;00m:\n\u001b[1;32m--> <a href='file:///c%3A/Users/laise/Desktop/Uni/Semester%204/Natural%20Language%20Processing%20and%20Text%20Mining/Final_Exam_Venv/env/lib/site-packages/pandas/core/groupby/ops.py?line=980'>981</a>\u001b[0m     result \u001b[39m=\u001b[39m \u001b[39mself\u001b[39;49m\u001b[39m.\u001b[39;49m_aggregate_series_pure_python(obj, func)\n\u001b[0;32m    <a href='file:///c%3A/Users/laise/Desktop/Uni/Semester%204/Natural%20Language%20Processing%20and%20Text%20Mining/Final_Exam_Venv/env/lib/site-packages/pandas/core/groupby/ops.py?line=982'>983</a>\u001b[0m npvalues \u001b[39m=\u001b[39m lib\u001b[39m.\u001b[39mmaybe_convert_objects(result, try_float\u001b[39m=\u001b[39m\u001b[39mFalse\u001b[39;00m)\n",
      "File \u001b[1;32mc:\\Users\\laise\\Desktop\\Uni\\Semester 4\\Natural Language Processing and Text Mining\\Final_Exam_Venv\\env\\lib\\site-packages\\pandas\\core\\groupby\\ops.py:1005\u001b[0m, in \u001b[0;36mBaseGrouper._aggregate_series_pure_python\u001b[1;34m(self, obj, func)\u001b[0m\n\u001b[0;32m   <a href='file:///c%3A/Users/laise/Desktop/Uni/Semester%204/Natural%20Language%20Processing%20and%20Text%20Mining/Final_Exam_Venv/env/lib/site-packages/pandas/core/groupby/ops.py?line=1003'>1004</a>\u001b[0m group \u001b[39m=\u001b[39m group\u001b[39m.\u001b[39m__finalize__(obj, method\u001b[39m=\u001b[39m\u001b[39m\"\u001b[39m\u001b[39mgroupby\u001b[39m\u001b[39m\"\u001b[39m)\n\u001b[1;32m-> <a href='file:///c%3A/Users/laise/Desktop/Uni/Semester%204/Natural%20Language%20Processing%20and%20Text%20Mining/Final_Exam_Venv/env/lib/site-packages/pandas/core/groupby/ops.py?line=1004'>1005</a>\u001b[0m res \u001b[39m=\u001b[39m func(group)\n\u001b[0;32m   <a href='file:///c%3A/Users/laise/Desktop/Uni/Semester%204/Natural%20Language%20Processing%20and%20Text%20Mining/Final_Exam_Venv/env/lib/site-packages/pandas/core/groupby/ops.py?line=1005'>1006</a>\u001b[0m res \u001b[39m=\u001b[39m libreduction\u001b[39m.\u001b[39mextract_result(res)\n",
      "File \u001b[1;32mc:\\Users\\laise\\Desktop\\Uni\\Semester 4\\Natural Language Processing and Text Mining\\Final_Exam_Venv\\env\\lib\\site-packages\\pandas\\core\\groupby\\groupby.py:1467\u001b[0m, in \u001b[0;36mGroupBy._python_agg_general.<locals>.<lambda>\u001b[1;34m(x)\u001b[0m\n\u001b[0;32m   <a href='file:///c%3A/Users/laise/Desktop/Uni/Semester%204/Natural%20Language%20Processing%20and%20Text%20Mining/Final_Exam_Venv/env/lib/site-packages/pandas/core/groupby/groupby.py?line=1465'>1466</a>\u001b[0m func \u001b[39m=\u001b[39m com\u001b[39m.\u001b[39mis_builtin_func(func)\n\u001b[1;32m-> <a href='file:///c%3A/Users/laise/Desktop/Uni/Semester%204/Natural%20Language%20Processing%20and%20Text%20Mining/Final_Exam_Venv/env/lib/site-packages/pandas/core/groupby/groupby.py?line=1466'>1467</a>\u001b[0m f \u001b[39m=\u001b[39m \u001b[39mlambda\u001b[39;00m x: func(x, \u001b[39m*\u001b[39margs, \u001b[39m*\u001b[39m\u001b[39m*\u001b[39mkwargs)\n\u001b[0;32m   <a href='file:///c%3A/Users/laise/Desktop/Uni/Semester%204/Natural%20Language%20Processing%20and%20Text%20Mining/Final_Exam_Venv/env/lib/site-packages/pandas/core/groupby/groupby.py?line=1468'>1469</a>\u001b[0m \u001b[39m# iterate through \"columns\" ex exclusions to populate output dict\u001b[39;00m\n",
      "\u001b[1;32mc:\\Users\\laise\\Desktop\\Uni\\Semester 4\\Natural Language Processing and Text Mining\\Final_Exam_Venv\\nlp-final-project\\notebooks\\laurenz_aggregate_ads_reprocessing.ipynb Cell 6'\u001b[0m in \u001b[0;36maggregate_impressions_per_state\u001b[1;34m(geographic_lists)\u001b[0m\n\u001b[0;32m      <a href='vscode-notebook-cell:/c%3A/Users/laise/Desktop/Uni/Semester%204/Natural%20Language%20Processing%20and%20Text%20Mining/Final_Exam_Venv/nlp-final-project/notebooks/laurenz_aggregate_ads_reprocessing.ipynb#ch0000010?line=4'>5</a>\u001b[0m \u001b[39mfor\u001b[39;00m region \u001b[39min\u001b[39;00m geo:\n\u001b[1;32m----> <a href='vscode-notebook-cell:/c%3A/Users/laise/Desktop/Uni/Semester%204/Natural%20Language%20Processing%20and%20Text%20Mining/Final_Exam_Venv/nlp-final-project/notebooks/laurenz_aggregate_ads_reprocessing.ipynb#ch0000010?line=5'>6</a>\u001b[0m     state \u001b[39m=\u001b[39m region[\u001b[39m\"\u001b[39;49m\u001b[39mregion\u001b[39;49m\u001b[39m\"\u001b[39;49m]\n\u001b[0;32m      <a href='vscode-notebook-cell:/c%3A/Users/laise/Desktop/Uni/Semester%204/Natural%20Language%20Processing%20and%20Text%20Mining/Final_Exam_Venv/nlp-final-project/notebooks/laurenz_aggregate_ads_reprocessing.ipynb#ch0000010?line=6'>7</a>\u001b[0m     \u001b[39mif\u001b[39;00m state \u001b[39min\u001b[39;00m res:\n",
      "\u001b[1;31mKeyError\u001b[0m: 'region'",
      "\nDuring handling of the above exception, another exception occurred:\n",
      "\u001b[1;31mKeyError\u001b[0m                                  Traceback (most recent call last)",
      "\u001b[1;32mc:\\Users\\laise\\Desktop\\Uni\\Semester 4\\Natural Language Processing and Text Mining\\Final_Exam_Venv\\nlp-final-project\\notebooks\\laurenz_aggregate_ads_reprocessing.ipynb Cell 6'\u001b[0m in \u001b[0;36m<cell line: 13>\u001b[1;34m()\u001b[0m\n\u001b[0;32m     <a href='vscode-notebook-cell:/c%3A/Users/laise/Desktop/Uni/Semester%204/Natural%20Language%20Processing%20and%20Text%20Mining/Final_Exam_Venv/nlp-final-project/notebooks/laurenz_aggregate_ads_reprocessing.ipynb#ch0000010?line=9'>10</a>\u001b[0m                 res[state] \u001b[39m=\u001b[39m region[\u001b[39m\"\u001b[39m\u001b[39mimpressions\u001b[39m\u001b[39m\"\u001b[39m]\n\u001b[0;32m     <a href='vscode-notebook-cell:/c%3A/Users/laise/Desktop/Uni/Semester%204/Natural%20Language%20Processing%20and%20Text%20Mining/Final_Exam_Venv/nlp-final-project/notebooks/laurenz_aggregate_ads_reprocessing.ipynb#ch0000010?line=10'>11</a>\u001b[0m     \u001b[39mreturn\u001b[39;00m res\n\u001b[1;32m---> <a href='vscode-notebook-cell:/c%3A/Users/laise/Desktop/Uni/Semester%204/Natural%20Language%20Processing%20and%20Text%20Mining/Final_Exam_Venv/nlp-final-project/notebooks/laurenz_aggregate_ads_reprocessing.ipynb#ch0000010?line=12'>13</a>\u001b[0m grouped \u001b[39m=\u001b[39m data\u001b[39m.\u001b[39;49mgroupby(\u001b[39m\"\u001b[39;49m\u001b[39mad_creative_body\u001b[39;49m\u001b[39m\"\u001b[39;49m)[\u001b[39m\"\u001b[39;49m\u001b[39mgeo_transf\u001b[39;49m\u001b[39m\"\u001b[39;49m]\u001b[39m.\u001b[39;49magg(aggregate_impressions_per_state)\n\u001b[0;32m     <a href='vscode-notebook-cell:/c%3A/Users/laise/Desktop/Uni/Semester%204/Natural%20Language%20Processing%20and%20Text%20Mining/Final_Exam_Venv/nlp-final-project/notebooks/laurenz_aggregate_ads_reprocessing.ipynb#ch0000010?line=13'>14</a>\u001b[0m grouped \u001b[39m=\u001b[39m pd\u001b[39m.\u001b[39mDataFrame(grouped)\u001b[39m.\u001b[39mreset_index()\n",
      "File \u001b[1;32mc:\\Users\\laise\\Desktop\\Uni\\Semester 4\\Natural Language Processing and Text Mining\\Final_Exam_Venv\\env\\lib\\site-packages\\pandas\\core\\groupby\\generic.py:291\u001b[0m, in \u001b[0;36mSeriesGroupBy.aggregate\u001b[1;34m(self, func, engine, engine_kwargs, *args, **kwargs)\u001b[0m\n\u001b[0;32m    <a href='file:///c%3A/Users/laise/Desktop/Uni/Semester%204/Natural%20Language%20Processing%20and%20Text%20Mining/Final_Exam_Venv/env/lib/site-packages/pandas/core/groupby/generic.py?line=286'>287</a>\u001b[0m     \u001b[39mreturn\u001b[39;00m \u001b[39mself\u001b[39m\u001b[39m.\u001b[39m_python_agg_general(func, \u001b[39m*\u001b[39margs, \u001b[39m*\u001b[39m\u001b[39m*\u001b[39mkwargs)\n\u001b[0;32m    <a href='file:///c%3A/Users/laise/Desktop/Uni/Semester%204/Natural%20Language%20Processing%20and%20Text%20Mining/Final_Exam_Venv/env/lib/site-packages/pandas/core/groupby/generic.py?line=287'>288</a>\u001b[0m \u001b[39mexcept\u001b[39;00m \u001b[39mKeyError\u001b[39;00m:\n\u001b[0;32m    <a href='file:///c%3A/Users/laise/Desktop/Uni/Semester%204/Natural%20Language%20Processing%20and%20Text%20Mining/Final_Exam_Venv/env/lib/site-packages/pandas/core/groupby/generic.py?line=288'>289</a>\u001b[0m     \u001b[39m# TODO: KeyError is raised in _python_agg_general,\u001b[39;00m\n\u001b[0;32m    <a href='file:///c%3A/Users/laise/Desktop/Uni/Semester%204/Natural%20Language%20Processing%20and%20Text%20Mining/Final_Exam_Venv/env/lib/site-packages/pandas/core/groupby/generic.py?line=289'>290</a>\u001b[0m     \u001b[39m#  see test_groupby.test_basic\u001b[39;00m\n\u001b[1;32m--> <a href='file:///c%3A/Users/laise/Desktop/Uni/Semester%204/Natural%20Language%20Processing%20and%20Text%20Mining/Final_Exam_Venv/env/lib/site-packages/pandas/core/groupby/generic.py?line=290'>291</a>\u001b[0m     result \u001b[39m=\u001b[39m \u001b[39mself\u001b[39m\u001b[39m.\u001b[39m_aggregate_named(func, \u001b[39m*\u001b[39margs, \u001b[39m*\u001b[39m\u001b[39m*\u001b[39mkwargs)\n\u001b[0;32m    <a href='file:///c%3A/Users/laise/Desktop/Uni/Semester%204/Natural%20Language%20Processing%20and%20Text%20Mining/Final_Exam_Venv/env/lib/site-packages/pandas/core/groupby/generic.py?line=292'>293</a>\u001b[0m     \u001b[39m# result is a dict whose keys are the elements of result_index\u001b[39;00m\n\u001b[0;32m    <a href='file:///c%3A/Users/laise/Desktop/Uni/Semester%204/Natural%20Language%20Processing%20and%20Text%20Mining/Final_Exam_Venv/env/lib/site-packages/pandas/core/groupby/generic.py?line=293'>294</a>\u001b[0m     index \u001b[39m=\u001b[39m \u001b[39mself\u001b[39m\u001b[39m.\u001b[39mgrouper\u001b[39m.\u001b[39mresult_index\n",
      "File \u001b[1;32mc:\\Users\\laise\\Desktop\\Uni\\Semester 4\\Natural Language Processing and Text Mining\\Final_Exam_Venv\\env\\lib\\site-packages\\pandas\\core\\groupby\\generic.py:415\u001b[0m, in \u001b[0;36mSeriesGroupBy._aggregate_named\u001b[1;34m(self, func, *args, **kwargs)\u001b[0m\n\u001b[0;32m    <a href='file:///c%3A/Users/laise/Desktop/Uni/Semester%204/Natural%20Language%20Processing%20and%20Text%20Mining/Final_Exam_Venv/env/lib/site-packages/pandas/core/groupby/generic.py?line=411'>412</a>\u001b[0m \u001b[39mfor\u001b[39;00m name, group \u001b[39min\u001b[39;00m \u001b[39mself\u001b[39m:\n\u001b[0;32m    <a href='file:///c%3A/Users/laise/Desktop/Uni/Semester%204/Natural%20Language%20Processing%20and%20Text%20Mining/Final_Exam_Venv/env/lib/site-packages/pandas/core/groupby/generic.py?line=412'>413</a>\u001b[0m     \u001b[39mobject\u001b[39m\u001b[39m.\u001b[39m\u001b[39m__setattr__\u001b[39m(group, \u001b[39m\"\u001b[39m\u001b[39mname\u001b[39m\u001b[39m\"\u001b[39m, name)\n\u001b[1;32m--> <a href='file:///c%3A/Users/laise/Desktop/Uni/Semester%204/Natural%20Language%20Processing%20and%20Text%20Mining/Final_Exam_Venv/env/lib/site-packages/pandas/core/groupby/generic.py?line=414'>415</a>\u001b[0m     output \u001b[39m=\u001b[39m func(group, \u001b[39m*\u001b[39margs, \u001b[39m*\u001b[39m\u001b[39m*\u001b[39mkwargs)\n\u001b[0;32m    <a href='file:///c%3A/Users/laise/Desktop/Uni/Semester%204/Natural%20Language%20Processing%20and%20Text%20Mining/Final_Exam_Venv/env/lib/site-packages/pandas/core/groupby/generic.py?line=415'>416</a>\u001b[0m     output \u001b[39m=\u001b[39m libreduction\u001b[39m.\u001b[39mextract_result(output)\n\u001b[0;32m    <a href='file:///c%3A/Users/laise/Desktop/Uni/Semester%204/Natural%20Language%20Processing%20and%20Text%20Mining/Final_Exam_Venv/env/lib/site-packages/pandas/core/groupby/generic.py?line=416'>417</a>\u001b[0m     \u001b[39mif\u001b[39;00m \u001b[39mnot\u001b[39;00m initialized:\n\u001b[0;32m    <a href='file:///c%3A/Users/laise/Desktop/Uni/Semester%204/Natural%20Language%20Processing%20and%20Text%20Mining/Final_Exam_Venv/env/lib/site-packages/pandas/core/groupby/generic.py?line=417'>418</a>\u001b[0m         \u001b[39m# We only do this validation on the first iteration\u001b[39;00m\n",
      "\u001b[1;32mc:\\Users\\laise\\Desktop\\Uni\\Semester 4\\Natural Language Processing and Text Mining\\Final_Exam_Venv\\nlp-final-project\\notebooks\\laurenz_aggregate_ads_reprocessing.ipynb Cell 6'\u001b[0m in \u001b[0;36maggregate_impressions_per_state\u001b[1;34m(geographic_lists)\u001b[0m\n\u001b[0;32m      <a href='vscode-notebook-cell:/c%3A/Users/laise/Desktop/Uni/Semester%204/Natural%20Language%20Processing%20and%20Text%20Mining/Final_Exam_Venv/nlp-final-project/notebooks/laurenz_aggregate_ads_reprocessing.ipynb#ch0000010?line=3'>4</a>\u001b[0m \u001b[39mfor\u001b[39;00m geo \u001b[39min\u001b[39;00m geographic_data:\n\u001b[0;32m      <a href='vscode-notebook-cell:/c%3A/Users/laise/Desktop/Uni/Semester%204/Natural%20Language%20Processing%20and%20Text%20Mining/Final_Exam_Venv/nlp-final-project/notebooks/laurenz_aggregate_ads_reprocessing.ipynb#ch0000010?line=4'>5</a>\u001b[0m     \u001b[39mfor\u001b[39;00m region \u001b[39min\u001b[39;00m geo:\n\u001b[1;32m----> <a href='vscode-notebook-cell:/c%3A/Users/laise/Desktop/Uni/Semester%204/Natural%20Language%20Processing%20and%20Text%20Mining/Final_Exam_Venv/nlp-final-project/notebooks/laurenz_aggregate_ads_reprocessing.ipynb#ch0000010?line=5'>6</a>\u001b[0m         state \u001b[39m=\u001b[39m region[\u001b[39m\"\u001b[39;49m\u001b[39mregion\u001b[39;49m\u001b[39m\"\u001b[39;49m]\n\u001b[0;32m      <a href='vscode-notebook-cell:/c%3A/Users/laise/Desktop/Uni/Semester%204/Natural%20Language%20Processing%20and%20Text%20Mining/Final_Exam_Venv/nlp-final-project/notebooks/laurenz_aggregate_ads_reprocessing.ipynb#ch0000010?line=6'>7</a>\u001b[0m         \u001b[39mif\u001b[39;00m state \u001b[39min\u001b[39;00m res:\n\u001b[0;32m      <a href='vscode-notebook-cell:/c%3A/Users/laise/Desktop/Uni/Semester%204/Natural%20Language%20Processing%20and%20Text%20Mining/Final_Exam_Venv/nlp-final-project/notebooks/laurenz_aggregate_ads_reprocessing.ipynb#ch0000010?line=7'>8</a>\u001b[0m             res[state] \u001b[39m+\u001b[39m\u001b[39m=\u001b[39m region[\u001b[39m\"\u001b[39m\u001b[39mimpressions\u001b[39m\u001b[39m\"\u001b[39m]\n",
      "\u001b[1;31mKeyError\u001b[0m: 'region'"
     ]
    }
   ],
   "source": [
    "def aggregate_impressions_per_state(geographic_lists):\n",
    "    res = {}\n",
    "    geographic_data = np.asanyarray(geographic_lists)\n",
    "    for geo in geographic_data:\n",
    "        for region in geo:\n",
    "            print(region)\n",
    "            state = region[\"region\"]\n",
    "            if state in res:\n",
    "                res[state] += region[\"impressions\"]\n",
    "            else:\n",
    "                res[state] = region[\"impressions\"]\n",
    "    return res\n",
    "\n",
    "grouped = data.groupby(\"ad_creative_body\")[\"geo_transf\"].agg(aggregate_impressions_per_state)\n",
    "grouped = pd.DataFrame(grouped).reset_index()"
   ]
  },
  {
   "cell_type": "code",
   "execution_count": 88,
   "metadata": {},
   "outputs": [
    {
     "data": {
      "text/plain": [
       "{'Alabama': 2,\n",
       " 'Oklahoma': 7,\n",
       " 'Montana': 2,\n",
       " 'Nevada': 4,\n",
       " 'New Hampshire': 4,\n",
       " 'New Jersey': 1562,\n",
       " 'New Mexico': 9,\n",
       " 'New York': 323,\n",
       " 'North Carolina': 30,\n",
       " 'Ohio': 13,\n",
       " 'Oregon': 34,\n",
       " 'Mississippi': 4,\n",
       " 'Pennsylvania': 173,\n",
       " 'Rhode Island': 7,\n",
       " 'South Carolina': 17,\n",
       " 'Tennessee': 2,\n",
       " 'Texas': 21,\n",
       " 'Utah': 9,\n",
       " 'Vermont': 6,\n",
       " 'Virginia': 67,\n",
       " 'Washington': 54,\n",
       " 'Missouri': 17,\n",
       " 'Minnesota': 19,\n",
       " 'Arizona': 17,\n",
       " 'Hawaii': 15,\n",
       " 'Arkansas': 4,\n",
       " 'California': 349,\n",
       " 'Colorado': 22,\n",
       " 'Connecticut': 22,\n",
       " 'Delaware': 11,\n",
       " 'District of Columbia': 214,\n",
       " 'Florida': 45,\n",
       " 'Georgia': 19,\n",
       " 'Idaho': 4,\n",
       " 'Michigan': 19,\n",
       " 'Illinois': 86,\n",
       " 'Indiana': 6,\n",
       " 'Iowa': 6,\n",
       " 'Kansas': 4,\n",
       " 'Kentucky': 9,\n",
       " 'Louisiana': 7,\n",
       " 'Maine': 7,\n",
       " 'Maryland': 91,\n",
       " 'Massachusetts': 142,\n",
       " 'Wisconsin': 17}"
      ]
     },
     "execution_count": 88,
     "metadata": {},
     "output_type": "execute_result"
    }
   ],
   "source": [
    "grouped[\"geo_transf\"][0]"
   ]
  }
 ],
 "metadata": {
  "interpreter": {
   "hash": "1471b608e2a7559dfe4acf35b90d904c5a7144cf90e81ff4e5b9fbc3e2b57374"
  },
  "kernelspec": {
   "display_name": "Python 3.10.4 ('env': venv)",
   "language": "python",
   "name": "python3"
  },
  "language_info": {
   "codemirror_mode": {
    "name": "ipython",
    "version": 3
   },
   "file_extension": ".py",
   "mimetype": "text/x-python",
   "name": "python",
   "nbconvert_exporter": "python",
   "pygments_lexer": "ipython3",
   "version": "3.10.4"
  },
  "orig_nbformat": 4
 },
 "nbformat": 4,
 "nbformat_minor": 2
}
