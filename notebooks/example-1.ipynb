{
 "cells": [
  {
   "cell_type": "code",
   "execution_count": 10,
   "source": [
    "# must be specified to be able to use methods of package\r\n",
    "import sys\r\n",
    "sys.path.append('../src') \r\n",
    "# ex using function\r\n",
    "from political_ads.utils import greeter\r\n",
    "# ex using variable\r\n",
    "from political_ads.config import data_sample\r\n",
    "\r\n",
    "\r\n",
    "\r\n",
    "\r\n",
    "\r\n"
   ],
   "outputs": [],
   "metadata": {}
  },
  {
   "cell_type": "code",
   "execution_count": 8,
   "source": [
    "greeter(\"test\")"
   ],
   "outputs": [
    {
     "output_type": "stream",
     "name": "stdout",
     "text": [
      "test\n"
     ]
    }
   ],
   "metadata": {}
  }
 ],
 "metadata": {
  "orig_nbformat": 4,
  "language_info": {
   "name": "python",
   "version": "3.8.8",
   "mimetype": "text/x-python",
   "codemirror_mode": {
    "name": "ipython",
    "version": 3
   },
   "pygments_lexer": "ipython3",
   "nbconvert_exporter": "python",
   "file_extension": ".py"
  },
  "kernelspec": {
   "name": "python3",
   "display_name": "Python 3.8.8 64-bit ('base': conda)"
  },
  "interpreter": {
   "hash": "ecf98a633b3362dfdd0da0429a6156c4af256c2015ccd5dc6065039097b726a9"
  }
 },
 "nbformat": 4,
 "nbformat_minor": 2
}