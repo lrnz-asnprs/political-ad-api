{
 "cells": [
  {
   "cell_type": "code",
   "execution_count": 1,
   "metadata": {},
   "outputs": [],
   "source": [
    "# must be specified to be able to use methods of package\n",
    "import sys\n",
    "sys.path.append('../src') \n",
    "# import packages\n",
    "import pandas as pd\n",
    "from political_ads.Preprocessor import *\n",
    "from political_ads.helper import *"
   ]
  },
  {
   "cell_type": "code",
   "execution_count": 2,
   "metadata": {},
   "outputs": [
    {
     "data": {
      "text/html": [
       "<div>\n",
       "<style scoped>\n",
       "    .dataframe tbody tr th:only-of-type {\n",
       "        vertical-align: middle;\n",
       "    }\n",
       "\n",
       "    .dataframe tbody tr th {\n",
       "        vertical-align: top;\n",
       "    }\n",
       "\n",
       "    .dataframe thead th {\n",
       "        text-align: right;\n",
       "    }\n",
       "</style>\n",
       "<table border=\"1\" class=\"dataframe\">\n",
       "  <thead>\n",
       "    <tr style=\"text-align: right;\">\n",
       "      <th></th>\n",
       "      <th>ad_creation_time</th>\n",
       "      <th>ad_creative_body</th>\n",
       "      <th>spend</th>\n",
       "      <th>impressions</th>\n",
       "      <th>delivery_by_region</th>\n",
       "      <th>demographic_distribution</th>\n",
       "      <th>page_id</th>\n",
       "      <th>page_name</th>\n",
       "      <th>bylines</th>\n",
       "      <th>id</th>\n",
       "      <th>spend_lo</th>\n",
       "      <th>spend_hi</th>\n",
       "      <th>impressions_lo</th>\n",
       "      <th>impressions_hi</th>\n",
       "    </tr>\n",
       "  </thead>\n",
       "  <tbody>\n",
       "    <tr>\n",
       "      <th>0</th>\n",
       "      <td>2019-05-20</td>\n",
       "      <td>CONFIRMATION NEEDED: Do you want to save Socia...</td>\n",
       "      <td>149.5</td>\n",
       "      <td>3499.5</td>\n",
       "      <td>[{'percentage': '0.002362', 'region': 'Mississ...</td>\n",
       "      <td>[{'percentage': '0.000476', 'age': '35-44', 'g...</td>\n",
       "      <td>283932788322459</td>\n",
       "      <td>Pete Aguilar for Congress</td>\n",
       "      <td>Pete Aguilar for Congress</td>\n",
       "      <td>186686335555403</td>\n",
       "      <td>100</td>\n",
       "      <td>199</td>\n",
       "      <td>3000</td>\n",
       "      <td>3999</td>\n",
       "    </tr>\n",
       "    <tr>\n",
       "      <th>1</th>\n",
       "      <td>2019-05-20</td>\n",
       "      <td>CALLING ALL DEMOCRATS! Congressman Pete Aguila...</td>\n",
       "      <td>49.5</td>\n",
       "      <td>499.5</td>\n",
       "      <td>[{'percentage': '0.008929', 'region': 'Marylan...</td>\n",
       "      <td>[{'percentage': '0.008929', 'age': '25-34', 'g...</td>\n",
       "      <td>283932788322459</td>\n",
       "      <td>Pete Aguilar for Congress</td>\n",
       "      <td>Pete Aguilar for Congress</td>\n",
       "      <td>291841175036406</td>\n",
       "      <td>0</td>\n",
       "      <td>99</td>\n",
       "      <td>0</td>\n",
       "      <td>999</td>\n",
       "    </tr>\n",
       "    <tr>\n",
       "      <th>2</th>\n",
       "      <td>2019-05-20</td>\n",
       "      <td>CALLING ALL DEMOCRATS! Congressman Pete Aguila...</td>\n",
       "      <td>49.5</td>\n",
       "      <td>499.5</td>\n",
       "      <td>[{'percentage': '0.009346', 'region': 'New Mex...</td>\n",
       "      <td>[{'percentage': '0.476636', 'age': '65+', 'gen...</td>\n",
       "      <td>283932788322459</td>\n",
       "      <td>Pete Aguilar for Congress</td>\n",
       "      <td>Pete Aguilar for Congress</td>\n",
       "      <td>297843221168257</td>\n",
       "      <td>0</td>\n",
       "      <td>99</td>\n",
       "      <td>0</td>\n",
       "      <td>999</td>\n",
       "    </tr>\n",
       "  </tbody>\n",
       "</table>\n",
       "</div>"
      ],
      "text/plain": [
       "  ad_creation_time                                   ad_creative_body  spend  \\\n",
       "0       2019-05-20  CONFIRMATION NEEDED: Do you want to save Socia...  149.5   \n",
       "1       2019-05-20  CALLING ALL DEMOCRATS! Congressman Pete Aguila...   49.5   \n",
       "2       2019-05-20  CALLING ALL DEMOCRATS! Congressman Pete Aguila...   49.5   \n",
       "\n",
       "   impressions                                 delivery_by_region  \\\n",
       "0       3499.5  [{'percentage': '0.002362', 'region': 'Mississ...   \n",
       "1        499.5  [{'percentage': '0.008929', 'region': 'Marylan...   \n",
       "2        499.5  [{'percentage': '0.009346', 'region': 'New Mex...   \n",
       "\n",
       "                            demographic_distribution          page_id  \\\n",
       "0  [{'percentage': '0.000476', 'age': '35-44', 'g...  283932788322459   \n",
       "1  [{'percentage': '0.008929', 'age': '25-34', 'g...  283932788322459   \n",
       "2  [{'percentage': '0.476636', 'age': '65+', 'gen...  283932788322459   \n",
       "\n",
       "                   page_name                    bylines               id  \\\n",
       "0  Pete Aguilar for Congress  Pete Aguilar for Congress  186686335555403   \n",
       "1  Pete Aguilar for Congress  Pete Aguilar for Congress  291841175036406   \n",
       "2  Pete Aguilar for Congress  Pete Aguilar for Congress  297843221168257   \n",
       "\n",
       "   spend_lo  spend_hi  impressions_lo  impressions_hi  \n",
       "0       100       199            3000            3999  \n",
       "1         0        99               0             999  \n",
       "2         0        99               0             999  "
      ]
     },
     "execution_count": 2,
     "metadata": {},
     "output_type": "execute_result"
    }
   ],
   "source": [
    "#Code to read from our full dataset:\n",
    "preprocess = Preprocessor()\n",
    "df = preprocess.file_to_df('/home/gustavgyrst/Desktop/Research Project/political-ad-api/data/all_politicians_aggregated.txt')\n",
    "df.head(3)"
   ]
  },
  {
   "cell_type": "code",
   "execution_count": 3,
   "metadata": {},
   "outputs": [
    {
     "name": "stdout",
     "output_type": "stream",
     "text": [
      "There are 605 ads with spending of $1,000,000 or above in the data-set\n",
      "602663 ads in total\n"
     ]
    }
   ],
   "source": [
    "#General stats\n",
    "print(\"There are\", len(df[df.impressions_lo == 1000000]), \"ads with spending of $1,000,000 or above in the data-set\")\n",
    "print(len(df), \"ads in total\")\n",
    "\n"
   ]
  },
  {
   "cell_type": "markdown",
   "metadata": {},
   "source": [
    "# 1. Demographic Distribution\n"
   ]
  },
  {
   "cell_type": "code",
   "execution_count": 4,
   "metadata": {},
   "outputs": [],
   "source": [
    "#lst of failed attempts\n",
    "lst_of_failed = []\n",
    "#The list that will be returned\n",
    "lst  = []\n",
    "\n",
    "#Get age distribution\n",
    "def get_age_distribution(row):\n",
    "    #The list that will be returned\n",
    "    lst  = []\n",
    "\n",
    "    #The map of age_dist\n",
    "    age_dist = {'13-17': 0.0, '18-24': 0.0, '25-34':0.0, '35-44':0.0, '45-54':0.0, '55-64':0.0, '65+':0.0, 'Unknown': 0.0} #important that Unknown is with capital U\n",
    "    \n",
    "    for item in row.demographic_distribution:\n",
    "        try:\n",
    "            age = item['age']\n",
    "            percentage = float(item['percentage'])\n",
    "            age_dist[age] = age_dist.get(age) + percentage\n",
    "            \n",
    "        except:\n",
    "            lst_of_failed.append(row[['page_name', 'demographic_distribution']])\n",
    "            pass\n",
    "            \n",
    "    \n",
    "    for key, value in age_dist.items():\n",
    "        lst.append(value*row['impressions_hi']) # CHANGED SOMETHING HERE NOT TESTED\n",
    "\n",
    "    return pd.Series(lst)"
   ]
  },
  {
   "cell_type": "code",
   "execution_count": 5,
   "metadata": {},
   "outputs": [
    {
     "name": "stdout",
     "output_type": "stream",
     "text": [
      "Amount of NaNs values in the demographic_distribution field: 139144\n"
     ]
    },
    {
     "data": {
      "text/html": [
       "<div>\n",
       "<style scoped>\n",
       "    .dataframe tbody tr th:only-of-type {\n",
       "        vertical-align: middle;\n",
       "    }\n",
       "\n",
       "    .dataframe tbody tr th {\n",
       "        vertical-align: top;\n",
       "    }\n",
       "\n",
       "    .dataframe thead th {\n",
       "        text-align: right;\n",
       "    }\n",
       "</style>\n",
       "<table border=\"1\" class=\"dataframe\">\n",
       "  <thead>\n",
       "    <tr style=\"text-align: right;\">\n",
       "      <th></th>\n",
       "      <th>ad_creation_time</th>\n",
       "      <th>ad_creative_body</th>\n",
       "      <th>spend</th>\n",
       "      <th>impressions</th>\n",
       "      <th>delivery_by_region</th>\n",
       "      <th>demographic_distribution</th>\n",
       "      <th>page_id</th>\n",
       "      <th>page_name</th>\n",
       "      <th>bylines</th>\n",
       "      <th>id</th>\n",
       "      <th>spend_lo</th>\n",
       "      <th>spend_hi</th>\n",
       "      <th>impressions_lo</th>\n",
       "      <th>impressions_hi</th>\n",
       "    </tr>\n",
       "  </thead>\n",
       "  <tbody>\n",
       "    <tr>\n",
       "      <th>16</th>\n",
       "      <td>2019-05-06</td>\n",
       "      <td>President Trump’s Administration is working to...</td>\n",
       "      <td>49.5</td>\n",
       "      <td>499.5</td>\n",
       "      <td>NaN</td>\n",
       "      <td>NaN</td>\n",
       "      <td>283932788322459</td>\n",
       "      <td>Pete Aguilar for Congress</td>\n",
       "      <td>Pete Aguilar for Congress</td>\n",
       "      <td>289746411935769</td>\n",
       "      <td>0</td>\n",
       "      <td>99</td>\n",
       "      <td>0</td>\n",
       "      <td>999</td>\n",
       "    </tr>\n",
       "  </tbody>\n",
       "</table>\n",
       "</div>"
      ],
      "text/plain": [
       "   ad_creation_time                                   ad_creative_body  spend  \\\n",
       "16       2019-05-06  President Trump’s Administration is working to...   49.5   \n",
       "\n",
       "    impressions delivery_by_region demographic_distribution          page_id  \\\n",
       "16        499.5                NaN                      NaN  283932788322459   \n",
       "\n",
       "                    page_name                    bylines               id  \\\n",
       "16  Pete Aguilar for Congress  Pete Aguilar for Congress  289746411935769   \n",
       "\n",
       "    spend_lo  spend_hi  impressions_lo  impressions_hi  \n",
       "16         0        99               0             999  "
      ]
     },
     "execution_count": 5,
     "metadata": {},
     "output_type": "execute_result"
    }
   ],
   "source": [
    "NaNs = df[df['demographic_distribution'].isna() == True]\n",
    "print(\"Amount of NaNs values in the demographic_distribution field:\", len(NaNs))\n",
    "NaNs.head(1)\n"
   ]
  },
  {
   "cell_type": "code",
   "execution_count": 6,
   "metadata": {},
   "outputs": [
    {
     "name": "stdout",
     "output_type": "stream",
     "text": [
      "602663\n",
      "Are there nans?: page_name                   False\n",
      "demographic_distribution    False\n",
      "impressions_hi              False\n",
      "dtype: bool\n",
      "463519\n"
     ]
    },
    {
     "data": {
      "text/html": [
       "<div>\n",
       "<style scoped>\n",
       "    .dataframe tbody tr th:only-of-type {\n",
       "        vertical-align: middle;\n",
       "    }\n",
       "\n",
       "    .dataframe tbody tr th {\n",
       "        vertical-align: top;\n",
       "    }\n",
       "\n",
       "    .dataframe thead th {\n",
       "        text-align: right;\n",
       "    }\n",
       "</style>\n",
       "<table border=\"1\" class=\"dataframe\">\n",
       "  <thead>\n",
       "    <tr style=\"text-align: right;\">\n",
       "      <th></th>\n",
       "      <th>page_name</th>\n",
       "      <th>demographic_distribution</th>\n",
       "      <th>impressions_hi</th>\n",
       "      <th>13-17</th>\n",
       "      <th>18-24</th>\n",
       "      <th>25-34</th>\n",
       "      <th>35-44</th>\n",
       "      <th>45-54</th>\n",
       "      <th>55-64</th>\n",
       "      <th>65+</th>\n",
       "      <th>unknown</th>\n",
       "    </tr>\n",
       "  </thead>\n",
       "  <tbody>\n",
       "    <tr>\n",
       "      <th>0</th>\n",
       "      <td>Pete Aguilar for Congress</td>\n",
       "      <td>[{'percentage': '0.000476', 'age': '35-44', 'g...</td>\n",
       "      <td>3999</td>\n",
       "      <td>0.0</td>\n",
       "      <td>0.0</td>\n",
       "      <td>0.0</td>\n",
       "      <td>0.0</td>\n",
       "      <td>0.0</td>\n",
       "      <td>0.0</td>\n",
       "      <td>0.0</td>\n",
       "      <td>0.0</td>\n",
       "    </tr>\n",
       "  </tbody>\n",
       "</table>\n",
       "</div>"
      ],
      "text/plain": [
       "                   page_name  \\\n",
       "0  Pete Aguilar for Congress   \n",
       "\n",
       "                            demographic_distribution  impressions_hi  13-17  \\\n",
       "0  [{'percentage': '0.000476', 'age': '35-44', 'g...            3999    0.0   \n",
       "\n",
       "   18-24  25-34  35-44  45-54  55-64  65+  unknown  \n",
       "0    0.0    0.0    0.0    0.0    0.0  0.0      0.0  "
      ]
     },
     "execution_count": 6,
     "metadata": {},
     "output_type": "execute_result"
    }
   ],
   "source": [
    "demographics = df[['page_name', 'demographic_distribution', 'impressions_hi']].reset_index().drop(columns='index')\n",
    "print(len(demographics))\n",
    "demographics = demographics.dropna()\n",
    "print(\"Are there nans?:\", demographics.isna().any())\n",
    "\n",
    "#Creating the Columns\n",
    "age_dist_lst = ['13-17', '18-24', '25-34', '35-44', '45-54', '55-64', '65+', 'unknown']\n",
    "for i in age_dist_lst:\n",
    "     demographics[i] = 0.0\n",
    "\n",
    "print(len(demographics))\n",
    "\n",
    "demographics.head(1)"
   ]
  },
  {
   "cell_type": "code",
   "execution_count": 7,
   "metadata": {},
   "outputs": [],
   "source": [
    "demographics[['13-17', '18-24', '25-34', '35-44', '45-54', '55-64', '65+', 'unknown']] = demographics.apply(get_age_distribution, axis=1)"
   ]
  },
  {
   "cell_type": "code",
   "execution_count": 8,
   "metadata": {},
   "outputs": [],
   "source": [
    "from matplotlib import pyplot as plt"
   ]
  },
  {
   "cell_type": "code",
   "execution_count": 9,
   "metadata": {},
   "outputs": [
    {
     "data": {
      "text/html": [
       "<div>\n",
       "<style scoped>\n",
       "    .dataframe tbody tr th:only-of-type {\n",
       "        vertical-align: middle;\n",
       "    }\n",
       "\n",
       "    .dataframe tbody tr th {\n",
       "        vertical-align: top;\n",
       "    }\n",
       "\n",
       "    .dataframe thead th {\n",
       "        text-align: right;\n",
       "    }\n",
       "</style>\n",
       "<table border=\"1\" class=\"dataframe\">\n",
       "  <thead>\n",
       "    <tr style=\"text-align: right;\">\n",
       "      <th></th>\n",
       "      <th>13-17</th>\n",
       "      <th>18-24</th>\n",
       "      <th>25-34</th>\n",
       "      <th>35-44</th>\n",
       "      <th>45-54</th>\n",
       "      <th>55-64</th>\n",
       "      <th>65+</th>\n",
       "      <th>unknown</th>\n",
       "    </tr>\n",
       "    <tr>\n",
       "      <th>page_name</th>\n",
       "      <th></th>\n",
       "      <th></th>\n",
       "      <th></th>\n",
       "      <th></th>\n",
       "      <th></th>\n",
       "      <th></th>\n",
       "      <th></th>\n",
       "      <th></th>\n",
       "    </tr>\n",
       "  </thead>\n",
       "  <tbody>\n",
       "    <tr>\n",
       "      <th>A. Donald McEachin</th>\n",
       "      <td>12.999935</td>\n",
       "      <td>1.987147e+05</td>\n",
       "      <td>3.988703e+05</td>\n",
       "      <td>2.118494e+05</td>\n",
       "      <td>1.362902e+05</td>\n",
       "      <td>9.105370e+04</td>\n",
       "      <td>5.818320e+04</td>\n",
       "      <td>0.00000</td>\n",
       "    </tr>\n",
       "    <tr>\n",
       "      <th>Abigail Spanberger</th>\n",
       "      <td>70.453216</td>\n",
       "      <td>3.972810e+06</td>\n",
       "      <td>6.951378e+06</td>\n",
       "      <td>4.820296e+06</td>\n",
       "      <td>3.564626e+06</td>\n",
       "      <td>3.149299e+06</td>\n",
       "      <td>3.341212e+06</td>\n",
       "      <td>0.00000</td>\n",
       "    </tr>\n",
       "    <tr>\n",
       "      <th>Adam Kinzinger</th>\n",
       "      <td>2.659335</td>\n",
       "      <td>8.424296e+05</td>\n",
       "      <td>1.207032e+06</td>\n",
       "      <td>1.166298e+06</td>\n",
       "      <td>1.300354e+06</td>\n",
       "      <td>1.475320e+06</td>\n",
       "      <td>1.371468e+06</td>\n",
       "      <td>0.00000</td>\n",
       "    </tr>\n",
       "    <tr>\n",
       "      <th>Adam Schiff</th>\n",
       "      <td>26.803657</td>\n",
       "      <td>8.751732e+05</td>\n",
       "      <td>3.364393e+06</td>\n",
       "      <td>5.971962e+06</td>\n",
       "      <td>1.167246e+07</td>\n",
       "      <td>2.373207e+07</td>\n",
       "      <td>3.943303e+07</td>\n",
       "      <td>0.00000</td>\n",
       "    </tr>\n",
       "    <tr>\n",
       "      <th>Adam Smith for Congress</th>\n",
       "      <td>0.000000</td>\n",
       "      <td>4.268917e+05</td>\n",
       "      <td>7.101623e+05</td>\n",
       "      <td>4.539755e+05</td>\n",
       "      <td>3.126374e+05</td>\n",
       "      <td>2.687389e+05</td>\n",
       "      <td>4.084751e+05</td>\n",
       "      <td>0.00000</td>\n",
       "    </tr>\n",
       "    <tr>\n",
       "      <th>...</th>\n",
       "      <td>...</td>\n",
       "      <td>...</td>\n",
       "      <td>...</td>\n",
       "      <td>...</td>\n",
       "      <td>...</td>\n",
       "      <td>...</td>\n",
       "      <td>...</td>\n",
       "      <td>...</td>\n",
       "    </tr>\n",
       "    <tr>\n",
       "      <th>Yarmuth for Congress</th>\n",
       "      <td>21.128316</td>\n",
       "      <td>3.323943e+04</td>\n",
       "      <td>8.126106e+04</td>\n",
       "      <td>6.225779e+04</td>\n",
       "      <td>3.965351e+04</td>\n",
       "      <td>5.640109e+04</td>\n",
       "      <td>5.114610e+04</td>\n",
       "      <td>0.00000</td>\n",
       "    </tr>\n",
       "    <tr>\n",
       "      <th>Young Kim</th>\n",
       "      <td>25.354315</td>\n",
       "      <td>1.070108e+06</td>\n",
       "      <td>3.949871e+06</td>\n",
       "      <td>4.049847e+06</td>\n",
       "      <td>5.406011e+06</td>\n",
       "      <td>8.461406e+06</td>\n",
       "      <td>1.065555e+07</td>\n",
       "      <td>6.07942</td>\n",
       "    </tr>\n",
       "    <tr>\n",
       "      <th>Yvette D. Clarke</th>\n",
       "      <td>0.000000</td>\n",
       "      <td>7.919466e+04</td>\n",
       "      <td>2.434399e+05</td>\n",
       "      <td>1.871632e+05</td>\n",
       "      <td>1.259955e+05</td>\n",
       "      <td>8.883845e+04</td>\n",
       "      <td>6.535229e+04</td>\n",
       "      <td>0.00000</td>\n",
       "    </tr>\n",
       "    <tr>\n",
       "      <th>Yvette Herrell: Out for Herself</th>\n",
       "      <td>0.000000</td>\n",
       "      <td>7.266615e+05</td>\n",
       "      <td>1.030936e+06</td>\n",
       "      <td>7.395526e+05</td>\n",
       "      <td>4.767041e+05</td>\n",
       "      <td>3.703599e+05</td>\n",
       "      <td>2.677033e+05</td>\n",
       "      <td>0.00000</td>\n",
       "    </tr>\n",
       "    <tr>\n",
       "      <th>Zoe Lofgren</th>\n",
       "      <td>1.154923</td>\n",
       "      <td>5.020108e+04</td>\n",
       "      <td>1.378806e+05</td>\n",
       "      <td>1.045328e+05</td>\n",
       "      <td>6.448670e+04</td>\n",
       "      <td>3.862750e+04</td>\n",
       "      <td>3.019007e+04</td>\n",
       "      <td>0.00000</td>\n",
       "    </tr>\n",
       "  </tbody>\n",
       "</table>\n",
       "<p>559 rows × 8 columns</p>\n",
       "</div>"
      ],
      "text/plain": [
       "                                     13-17         18-24         25-34  \\\n",
       "page_name                                                                \n",
       "A. Donald McEachin               12.999935  1.987147e+05  3.988703e+05   \n",
       "Abigail Spanberger               70.453216  3.972810e+06  6.951378e+06   \n",
       "Adam Kinzinger                    2.659335  8.424296e+05  1.207032e+06   \n",
       "Adam Schiff                      26.803657  8.751732e+05  3.364393e+06   \n",
       "Adam Smith for Congress           0.000000  4.268917e+05  7.101623e+05   \n",
       "...                                    ...           ...           ...   \n",
       "Yarmuth for Congress             21.128316  3.323943e+04  8.126106e+04   \n",
       "Young Kim                        25.354315  1.070108e+06  3.949871e+06   \n",
       "Yvette D. Clarke                  0.000000  7.919466e+04  2.434399e+05   \n",
       "Yvette Herrell: Out for Herself   0.000000  7.266615e+05  1.030936e+06   \n",
       "Zoe Lofgren                       1.154923  5.020108e+04  1.378806e+05   \n",
       "\n",
       "                                        35-44         45-54         55-64  \\\n",
       "page_name                                                                   \n",
       "A. Donald McEachin               2.118494e+05  1.362902e+05  9.105370e+04   \n",
       "Abigail Spanberger               4.820296e+06  3.564626e+06  3.149299e+06   \n",
       "Adam Kinzinger                   1.166298e+06  1.300354e+06  1.475320e+06   \n",
       "Adam Schiff                      5.971962e+06  1.167246e+07  2.373207e+07   \n",
       "Adam Smith for Congress          4.539755e+05  3.126374e+05  2.687389e+05   \n",
       "...                                       ...           ...           ...   \n",
       "Yarmuth for Congress             6.225779e+04  3.965351e+04  5.640109e+04   \n",
       "Young Kim                        4.049847e+06  5.406011e+06  8.461406e+06   \n",
       "Yvette D. Clarke                 1.871632e+05  1.259955e+05  8.883845e+04   \n",
       "Yvette Herrell: Out for Herself  7.395526e+05  4.767041e+05  3.703599e+05   \n",
       "Zoe Lofgren                      1.045328e+05  6.448670e+04  3.862750e+04   \n",
       "\n",
       "                                          65+  unknown  \n",
       "page_name                                               \n",
       "A. Donald McEachin               5.818320e+04  0.00000  \n",
       "Abigail Spanberger               3.341212e+06  0.00000  \n",
       "Adam Kinzinger                   1.371468e+06  0.00000  \n",
       "Adam Schiff                      3.943303e+07  0.00000  \n",
       "Adam Smith for Congress          4.084751e+05  0.00000  \n",
       "...                                       ...      ...  \n",
       "Yarmuth for Congress             5.114610e+04  0.00000  \n",
       "Young Kim                        1.065555e+07  6.07942  \n",
       "Yvette D. Clarke                 6.535229e+04  0.00000  \n",
       "Yvette Herrell: Out for Herself  2.677033e+05  0.00000  \n",
       "Zoe Lofgren                      3.019007e+04  0.00000  \n",
       "\n",
       "[559 rows x 8 columns]"
      ]
     },
     "execution_count": 9,
     "metadata": {},
     "output_type": "execute_result"
    }
   ],
   "source": [
    "demo_view = demographics.groupby('page_name').sum()\n",
    "#demo_view = demo_view.drop(columns='demographic_distribution')\n",
    "demo_view = demo_view.drop(columns='impressions_hi')\n",
    "\n",
    "\n",
    "demo_view"
   ]
  },
  {
   "cell_type": "code",
   "execution_count": 130,
   "metadata": {},
   "outputs": [
    {
     "data": {
      "text/plain": [
       "559"
      ]
     },
     "execution_count": 130,
     "metadata": {},
     "output_type": "execute_result"
    },
    {
     "data": {
      "image/png": "[encoded data removed]",
      "text/plain": [
       "<Figure size 432x288 with 1 Axes>"
      ]
     },
     "metadata": {
      "needs_background": "light"
     },
     "output_type": "display_data"
    }
   ],
   "source": [
    "demo_view.iloc[0].plot(kind='bar', y='Impressions', x='age', title=demo_view.index[0])\n",
    "\n",
    "len(demo_view)\n",
    "#https://queirozf.com/entries/pandas-dataframe-plot-examples-with-matplotlib-pyplot\n"
   ]
  },
  {
   "cell_type": "code",
   "execution_count": 11,
   "metadata": {},
   "outputs": [
    {
     "data": {
      "text/plain": [
       "[page_name                        Elizabeth Warren\n",
       " demographic_distribution    [{'percentage': '1'}]\n",
       " Name: 491726, dtype: object,\n",
       " page_name                        Elizabeth Warren\n",
       " demographic_distribution    [{'percentage': '1'}]\n",
       " Name: 491727, dtype: object,\n",
       " page_name                        Elizabeth Warren\n",
       " demographic_distribution    [{'percentage': '1'}]\n",
       " Name: 491736, dtype: object,\n",
       " page_name                        Elizabeth Warren\n",
       " demographic_distribution    [{'percentage': '1'}]\n",
       " Name: 491748, dtype: object,\n",
       " page_name                        Elizabeth Warren\n",
       " demographic_distribution    [{'percentage': '1'}]\n",
       " Name: 491770, dtype: object,\n",
       " page_name                        Elizabeth Warren\n",
       " demographic_distribution    [{'percentage': '1'}]\n",
       " Name: 491776, dtype: object]"
      ]
     },
     "execution_count": 11,
     "metadata": {},
     "output_type": "execute_result"
    }
   ],
   "source": [
    "#The one that didn't make it\n",
    "lst_of_failed"
   ]
  },
  {
   "cell_type": "markdown",
   "metadata": {},
   "source": [
    "# Age Distribtuion"
   ]
  },
  {
   "cell_type": "code",
   "execution_count": 30,
   "metadata": {},
   "outputs": [
    {
     "name": "stdout",
     "output_type": "stream",
     "text": [
      "0.9999980000000002\n"
     ]
    }
   ],
   "source": [
    "#Random sum check\n",
    "sum = 0\n",
    "for i in df.demographic_distribution[0]:\n",
    "    sum += float(i.get('percentage'))\n",
    "print(\"The sum of all the percentages given in the dictionary of diff values (yep they don't sum to 100\", sum)\n",
    "#So... they don't even sum up to a hundred\n",
    "\n"
   ]
  },
  {
   "cell_type": "code",
   "execution_count": 96,
   "metadata": {},
   "outputs": [],
   "source": [
    "list_of_failed_g = []\n",
    "\n",
    "def get_gender_distribution(row):\n",
    "    \n",
    "    #initializing percentages\n",
    "    percentage_male = 0.0\n",
    "    percentage_female = 0.0\n",
    "    percentage_unknown = 0.0\n",
    "\n",
    "    try:\n",
    "        for item in row.demographic_distribution:\n",
    "            if item['gender'] == 'male':\n",
    "                percentage_male += float(item['percentage'])\n",
    "            elif item['gender'] == 'female':\n",
    "                percentage_female += float(item['percentage'])\n",
    "            elif item['gender'] == 'Unknown':\n",
    "                percentage_unknown += float(item['percentage'])\n",
    "    except:\n",
    "        list_of_failed_g.append(lst)\n",
    "    \n",
    "    avg_imp = float(row['avg_impressions'])\n",
    "    lst_all_genders = [percentage_male, percentage_female, percentage_unknown]\n",
    "    for i in range(3):\n",
    "        lst_all_genders[i] = lst_all_genders[i]*avg_imp\n",
    "    \n",
    "    #Getting the avg impression to get the weight of the gender distribution\n",
    "    return pd.Series(lst_all_genders)\n"
   ]
  },
  {
   "cell_type": "code",
   "execution_count": 97,
   "metadata": {},
   "outputs": [],
   "source": [
    "#Making a Df representing the gender distribution:\n",
    "gender = df[['page_name','demographic_distribution', 'impressions_lo', 'impressions_hi']]\n",
    "\n",
    "#Dropping NaNs\n",
    "gender = gender.dropna()\n",
    "gender['avg_impressions'] = gender.apply(lambda x: ((x['impressions_lo'] + x['impressions_hi']) / 2), axis=1)\n",
    "\n"
   ]
  },
  {
   "cell_type": "code",
   "execution_count": 98,
   "metadata": {},
   "outputs": [
    {
     "data": {
      "text/html": [
       "<div>\n",
       "<style scoped>\n",
       "    .dataframe tbody tr th:only-of-type {\n",
       "        vertical-align: middle;\n",
       "    }\n",
       "\n",
       "    .dataframe tbody tr th {\n",
       "        vertical-align: top;\n",
       "    }\n",
       "\n",
       "    .dataframe thead th {\n",
       "        text-align: right;\n",
       "    }\n",
       "</style>\n",
       "<table border=\"1\" class=\"dataframe\">\n",
       "  <thead>\n",
       "    <tr style=\"text-align: right;\">\n",
       "      <th></th>\n",
       "      <th>page_name</th>\n",
       "      <th>demographic_distribution</th>\n",
       "      <th>impressions_lo</th>\n",
       "      <th>impressions_hi</th>\n",
       "      <th>avg_impressions</th>\n",
       "    </tr>\n",
       "  </thead>\n",
       "  <tbody>\n",
       "    <tr>\n",
       "      <th>0</th>\n",
       "      <td>Pete Aguilar for Congress</td>\n",
       "      <td>[{'percentage': '0.000476', 'age': '35-44', 'g...</td>\n",
       "      <td>3000</td>\n",
       "      <td>3999</td>\n",
       "      <td>3499.5</td>\n",
       "    </tr>\n",
       "  </tbody>\n",
       "</table>\n",
       "</div>"
      ],
      "text/plain": [
       "                   page_name  \\\n",
       "0  Pete Aguilar for Congress   \n",
       "\n",
       "                            demographic_distribution  impressions_lo  \\\n",
       "0  [{'percentage': '0.000476', 'age': '35-44', 'g...            3000   \n",
       "\n",
       "   impressions_hi  avg_impressions  \n",
       "0            3999           3499.5  "
      ]
     },
     "execution_count": 98,
     "metadata": {},
     "output_type": "execute_result"
    }
   ],
   "source": [
    "gender.head(1)\n"
   ]
  },
  {
   "cell_type": "code",
   "execution_count": 99,
   "metadata": {},
   "outputs": [],
   "source": [
    "gender[['male', 'female', 'unknown']] = gender.apply(get_gender_distribution, axis=1)\n"
   ]
  },
  {
   "cell_type": "code",
   "execution_count": 114,
   "metadata": {},
   "outputs": [],
   "source": [
    "gender_cleaned = gender.drop(['impressions_hi', 'impressions_lo', 'demographic_distribution', 'avg_impressions' ], axis=1)\n",
    "gender_cleaned = gender_cleaned.groupby('page_name').sum()"
   ]
  },
  {
   "cell_type": "code",
   "execution_count": 135,
   "metadata": {},
   "outputs": [
    {
     "data": {
      "text/plain": [
       "559"
      ]
     },
     "execution_count": 135,
     "metadata": {},
     "output_type": "execute_result"
    },
    {
     "data": {
      "image/png": "[encoded data removed]",
      "text/plain": [
       "<Figure size 432x288 with 1 Axes>"
      ]
     },
     "metadata": {
      "needs_background": "light"
     },
     "output_type": "display_data"
    }
   ],
   "source": [
    "index_of_pol = 536\n",
    "gender_cleaned.iloc[index_of_pol].plot(kind='bar', y='impressions', x='gender', title=demo_view.index[index_of_pol])\n",
    "\n",
    "len(gender_cleaned)\n",
    "\n"
   ]
  },
  {
   "cell_type": "code",
   "execution_count": 137,
   "metadata": {},
   "outputs": [
    {
     "name": "stderr",
     "output_type": "stream",
     "text": [
      "/home/gustavgyrst/.local/lib/python3.8/site-packages/IPython/core/interactiveshell.py:3441: DtypeWarning: Columns (3) have mixed types.Specify dtype option on import or set low_memory=False.\n",
      "  exec(code_obj, self.user_global_ns, self.user_ns)\n"
     ]
    },
    {
     "data": {
      "text/html": [
       "<div>\n",
       "<style scoped>\n",
       "    .dataframe tbody tr th:only-of-type {\n",
       "        vertical-align: middle;\n",
       "    }\n",
       "\n",
       "    .dataframe tbody tr th {\n",
       "        vertical-align: top;\n",
       "    }\n",
       "\n",
       "    .dataframe thead th {\n",
       "        text-align: right;\n",
       "    }\n",
       "</style>\n",
       "<table border=\"1\" class=\"dataframe\">\n",
       "  <thead>\n",
       "    <tr style=\"text-align: right;\">\n",
       "      <th></th>\n",
       "      <th>Page ID</th>\n",
       "      <th>Page Name</th>\n",
       "      <th>Disclaimer</th>\n",
       "      <th>Amount Spent (USD)</th>\n",
       "      <th>Number of Ads in Library</th>\n",
       "    </tr>\n",
       "  </thead>\n",
       "  <tbody>\n",
       "    <tr>\n",
       "      <th>13616</th>\n",
       "      <td>206690159663661</td>\n",
       "      <td>U.S. Congressman Vicente Gonzalez 2022</td>\n",
       "      <td>VICENTE GONZALEZ FOR CONGRESS</td>\n",
       "      <td>15688</td>\n",
       "      <td>292</td>\n",
       "    </tr>\n",
       "    <tr>\n",
       "      <th>30729</th>\n",
       "      <td>206690159663661</td>\n",
       "      <td>U.S. Congressman Vicente Gonzalez 2022</td>\n",
       "      <td>Vicente Gonzalez for Congress Committee</td>\n",
       "      <td>4030</td>\n",
       "      <td>173</td>\n",
       "    </tr>\n",
       "    <tr>\n",
       "      <th>168447</th>\n",
       "      <td>206690159663661</td>\n",
       "      <td>U.S. Congressman Vicente Gonzalez 2022</td>\n",
       "      <td>Vicente Gonzalez for U.S. Congress Committee</td>\n",
       "      <td>≤100</td>\n",
       "      <td>9</td>\n",
       "    </tr>\n",
       "    <tr>\n",
       "      <th>223284</th>\n",
       "      <td>206690159663661</td>\n",
       "      <td>U.S. Congressman Vicente Gonzalez 2022</td>\n",
       "      <td>These ads ran without a disclaimer</td>\n",
       "      <td>≤100</td>\n",
       "      <td>6</td>\n",
       "    </tr>\n",
       "  </tbody>\n",
       "</table>\n",
       "</div>"
      ],
      "text/plain": [
       "                Page ID                               Page Name  \\\n",
       "13616   206690159663661  U.S. Congressman Vicente Gonzalez 2022   \n",
       "30729   206690159663661  U.S. Congressman Vicente Gonzalez 2022   \n",
       "168447  206690159663661  U.S. Congressman Vicente Gonzalez 2022   \n",
       "223284  206690159663661  U.S. Congressman Vicente Gonzalez 2022   \n",
       "\n",
       "                                          Disclaimer Amount Spent (USD)  \\\n",
       "13616                  VICENTE GONZALEZ FOR CONGRESS              15688   \n",
       "30729        Vicente Gonzalez for Congress Committee               4030   \n",
       "168447  Vicente Gonzalez for U.S. Congress Committee               ≤100   \n",
       "223284            These ads ran without a disclaimer               ≤100   \n",
       "\n",
       "        Number of Ads in Library  \n",
       "13616                        292  \n",
       "30729                        173  \n",
       "168447                         9  \n",
       "223284                         6  "
      ]
     },
     "execution_count": 137,
     "metadata": {},
     "output_type": "execute_result"
    }
   ],
   "source": [
    "#Finding -- We have two campaign accounts for vincente gonzales (2020 and 2022)\n",
    "# on index 536 and 537...\n",
    "\n",
    "df_all_ad_pages = pd.read_csv('/home/gustavgyrst/Desktop/Research Project/political-ad-api/data/FacebookAdLibraryReport_2021-10-15_US_lifelong_advertisers.csv')\n",
    "df_all_ad_pages[df_all_ad_pages['Page Name'].str.contains('U.S. Congressman Vicente Gonzalez 2020', na=False)]\n",
    "#No result...."
   ]
  },
  {
   "cell_type": "markdown",
   "metadata": {},
   "source": [
    "# 2. Geographic Distribution"
   ]
  },
  {
   "cell_type": "code",
   "execution_count": null,
   "metadata": {},
   "outputs": [],
   "source": [
    "#https://datascience.stackexchange.com/questions/9616/how-to-create-us-state-choropleth-map\n",
    "#Convert the demographic data into a heat-map\n"
   ]
  }
 ],
 "metadata": {
  "interpreter": {
   "hash": "98296c6fab1f2542c3ee1b453fe7ed304d5710b367ab83c3e921b0c6632a7bad"
  },
  "kernelspec": {
   "display_name": "Python 3.8.8 64-bit ('base': conda)",
   "name": "python3"
  },
  "language_info": {
   "codemirror_mode": {
    "name": "ipython",
    "version": 3
   },
   "file_extension": ".py",
   "mimetype": "text/x-python",
   "name": "python",
   "nbconvert_exporter": "python",
   "pygments_lexer": "ipython3",
   "version": "3.8.8"
  },
  "orig_nbformat": 4
 },
 "nbformat": 4,
 "nbformat_minor": 2
}
