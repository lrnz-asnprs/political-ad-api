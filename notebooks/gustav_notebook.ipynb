{
 "cells": [
  {
   "cell_type": "markdown",
   "metadata": {},
   "source": [
    "# Basic setup for fetching data from the facebook api\n",
    "\n",
    "### Remember to add an active access token below and adjust the parameters and fields if necessary"
   ]
  },
  {
   "cell_type": "code",
   "execution_count": 8,
   "metadata": {},
   "outputs": [],
   "source": [
    "\n",
    "# must be specified to be able to use methods of package\n",
    "import sys\n",
    "sys.path.append('../src') \n",
    "# import packages\n",
    "from political_ads.helper import *\n",
    "import pandas as pd\n",
    "from political_ads.api_request import get_json_response\n",
    "\n"
   ]
  },
  {
   "cell_type": "code",
   "execution_count": 2,
   "metadata": {},
   "outputs": [],
   "source": [
    "\n",
    "# insert your access token here (expires every 2 hours)\n",
    "access_token = \"EAADqFZC76BDMBAKhvS0dJ4wGOkX0mF14FZCKfF9bYTzIImcuXAS1AWu4X0XIwx0oN5bDpusy7heDf5CbfZBhPCatpLoFtlpslHHFjiRVmF031tKz0QsrOvOhZBMVMbw5f36OTeDTZBHMJJkDkDgZC5Y2TAjLHNUvt4DZCBjnzSIJFrJCzi2Co8myZC30kFkfSf9KdFRAmfB0aOgAAZBwZBbj4h\"\n",
    "# get_new_access_token: https://developers.facebook.com/tools/explorer/\n",
    "\n",
    "\n",
    "# PARAMETERS NECESSARY\n",
    "ad_type = \"POLITICAL_AND_ISSUE_ADS\"\n",
    "ad_reached_countries = ['US'] # Facebook delivered the ads in these countries. Provided as ISO country codes.\n",
    "search_terms = \"climate change\" # The terms to search for in your query. We treat a blank space as a logical AND and search for both terms and no other operators. The limit of your string is 100 characters or less.\n",
    "limit = 1700\n",
    "start_date = \"2020-08-00\"\n",
    "end_date = \"2020-11-03\"\n",
    "\n",
    "\n",
    "# FIELDS to specify your results\n",
    "fields = [\"id\", \"page_name\", \"ad_creative_body\", \"impressions\", \"delivery_by_region\", \"demographic_distribution\", \"ad_delivery_start_time\", \"bylines\", \"spend\"]\n",
    "\n",
    "# see here for more parameters and fields: https://www.facebook.com/ads/library/api/?source=archive-landing-page \n",
    "\n",
    "\n",
    "\n",
    "input_url = f\"https://graph.facebook.com/v12.0/ads_archive?search_terms={search_terms}&ad_type={ad_type}&ad_reached_countries={ad_reached_countries}&fields={fields}&limit={limit}&ad_delivery_date_min={start_date}&ad_delivery_date_max={end_date}\"\n",
    "\n",
    "response = get_json_response(input_url, access_token)\n",
    "\n",
    "data = pd.DataFrame(response[\"data\"])\n"
   ]
  },
  {
   "cell_type": "code",
   "execution_count": 3,
   "metadata": {},
   "outputs": [],
   "source": [
    "import time \n",
    "\n",
    "#https://developers.facebook.com/docs/graph-api/results\n",
    "\n",
    "def larger_data_import(iterations, sleep_time):\n",
    "    counter = 0\n",
    "    for i in range(iterations):\n",
    "\n",
    "        paging = response[\"paging\"][\"next\"]\n",
    "        next_response = get_json_response(paging, access_token)\n",
    "\n",
    "        new_page = pd.DataFrame(next_response['data'])\n",
    "        data = data.append(new_page, ignore_index=True)\n",
    "        time.sleep(sleep_time)\n",
    "        counter+=1\n",
    "        print(counter)\n",
    "\n",
    "#larger_data_import(10, 10)\n"
   ]
  },
  {
   "cell_type": "markdown",
   "metadata": {},
   "source": []
  },
  {
   "cell_type": "code",
   "execution_count": 4,
   "metadata": {},
   "outputs": [],
   "source": [
    "#Write to CSV\n",
    "#data.to_csv('test.csv')\n"
   ]
  },
  {
   "cell_type": "code",
   "execution_count": 5,
   "metadata": {},
   "outputs": [],
   "source": [
    "#Cleaning the Data // Dropping missing values\n",
    "data.dropna(inplace=True)"
   ]
  },
  {
   "cell_type": "code",
   "execution_count": 10,
   "metadata": {},
   "outputs": [],
   "source": [
    "data.drop(['age_distribution', 'gender'], axis=1)\n",
    "\n",
    "data['age_distribution'] = data['demographic_distribution'].apply(lambda x: get_age_distribution(x, all_ages=True))\n",
    "\n",
    "data['gender'] = data['demographic_distribution'].apply(lambda x: get_gender_distribution(x))\n",
    "\n",
    "data['impressions'] = data.impressions.apply(lambda x: transform_range(x))\n"
   ]
  },
  {
   "cell_type": "code",
   "execution_count": 7,
   "metadata": {},
   "outputs": [],
   "source": [
    "\n",
    "\n",
    "#https://datascience.stackexchange.com/questions/9616/how-to-create-us-state-choropleth-map\n",
    "#Convert the demographic data into a heat-map\n"
   ]
  }
 ],
 "metadata": {
  "interpreter": {
   "hash": "98296c6fab1f2542c3ee1b453fe7ed304d5710b367ab83c3e921b0c6632a7bad"
  },
  "kernelspec": {
   "display_name": "Python 3.8.8 64-bit ('base': conda)",
   "name": "python3"
  },
  "language_info": {
   "codemirror_mode": {
    "name": "ipython",
    "version": 3
   },
   "file_extension": ".py",
   "mimetype": "text/x-python",
   "name": "python",
   "nbconvert_exporter": "python",
   "pygments_lexer": "ipython3",
   "version": "3.8.8"
  },
  "orig_nbformat": 4
 },
 "nbformat": 4,
 "nbformat_minor": 2
}
