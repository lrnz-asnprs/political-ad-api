{
 "cells": [
  {
   "cell_type": "code",
   "execution_count": 2,
   "metadata": {},
   "outputs": [],
   "source": [
    "# must be specified to be able to use methods of package\n",
    "import sys\n",
    "sys.path.append('../src') \n",
    "# import packages\n",
    "import pandas as pd\n",
    "from political_ads.Preprocessor import *\n",
    "from political_ads.helper import *\n",
    "from political_ads.keyword_filter import *"
   ]
  },
  {
   "cell_type": "code",
   "execution_count": 3,
   "metadata": {},
   "outputs": [
    {
     "data": {
      "text/html": [
       "<div>\n",
       "<style scoped>\n",
       "    .dataframe tbody tr th:only-of-type {\n",
       "        vertical-align: middle;\n",
       "    }\n",
       "\n",
       "    .dataframe tbody tr th {\n",
       "        vertical-align: top;\n",
       "    }\n",
       "\n",
       "    .dataframe thead th {\n",
       "        text-align: right;\n",
       "    }\n",
       "</style>\n",
       "<table border=\"1\" class=\"dataframe\">\n",
       "  <thead>\n",
       "    <tr style=\"text-align: right;\">\n",
       "      <th></th>\n",
       "      <th>ad_creation_time</th>\n",
       "      <th>ad_creative_body</th>\n",
       "      <th>spend</th>\n",
       "      <th>impressions</th>\n",
       "      <th>delivery_by_region</th>\n",
       "      <th>demographic_distribution</th>\n",
       "      <th>page_id</th>\n",
       "      <th>page_name</th>\n",
       "      <th>bylines</th>\n",
       "      <th>id</th>\n",
       "      <th>spend_lo</th>\n",
       "      <th>spend_hi</th>\n",
       "      <th>impressions_lo</th>\n",
       "      <th>impressions_hi</th>\n",
       "    </tr>\n",
       "  </thead>\n",
       "  <tbody>\n",
       "    <tr>\n",
       "      <th>0</th>\n",
       "      <td>2019-05-20</td>\n",
       "      <td>CONFIRMATION NEEDED: Do you want to save Socia...</td>\n",
       "      <td>149.5</td>\n",
       "      <td>3499.5</td>\n",
       "      <td>[{'percentage': '0.002362', 'region': 'Mississ...</td>\n",
       "      <td>[{'percentage': '0.000476', 'age': '35-44', 'g...</td>\n",
       "      <td>283932788322459</td>\n",
       "      <td>Pete Aguilar for Congress</td>\n",
       "      <td>Pete Aguilar for Congress</td>\n",
       "      <td>186686335555403</td>\n",
       "      <td>100</td>\n",
       "      <td>199</td>\n",
       "      <td>3000</td>\n",
       "      <td>3999</td>\n",
       "    </tr>\n",
       "    <tr>\n",
       "      <th>1</th>\n",
       "      <td>2019-05-20</td>\n",
       "      <td>CALLING ALL DEMOCRATS! Congressman Pete Aguila...</td>\n",
       "      <td>49.5</td>\n",
       "      <td>499.5</td>\n",
       "      <td>[{'percentage': '0.008929', 'region': 'Marylan...</td>\n",
       "      <td>[{'percentage': '0.008929', 'age': '25-34', 'g...</td>\n",
       "      <td>283932788322459</td>\n",
       "      <td>Pete Aguilar for Congress</td>\n",
       "      <td>Pete Aguilar for Congress</td>\n",
       "      <td>291841175036406</td>\n",
       "      <td>0</td>\n",
       "      <td>99</td>\n",
       "      <td>0</td>\n",
       "      <td>999</td>\n",
       "    </tr>\n",
       "    <tr>\n",
       "      <th>2</th>\n",
       "      <td>2019-05-20</td>\n",
       "      <td>CALLING ALL DEMOCRATS! Congressman Pete Aguila...</td>\n",
       "      <td>49.5</td>\n",
       "      <td>499.5</td>\n",
       "      <td>[{'percentage': '0.009346', 'region': 'New Mex...</td>\n",
       "      <td>[{'percentage': '0.476636', 'age': '65+', 'gen...</td>\n",
       "      <td>283932788322459</td>\n",
       "      <td>Pete Aguilar for Congress</td>\n",
       "      <td>Pete Aguilar for Congress</td>\n",
       "      <td>297843221168257</td>\n",
       "      <td>0</td>\n",
       "      <td>99</td>\n",
       "      <td>0</td>\n",
       "      <td>999</td>\n",
       "    </tr>\n",
       "  </tbody>\n",
       "</table>\n",
       "</div>"
      ],
      "text/plain": [
       "  ad_creation_time                                   ad_creative_body  spend  \\\n",
       "0       2019-05-20  CONFIRMATION NEEDED: Do you want to save Socia...  149.5   \n",
       "1       2019-05-20  CALLING ALL DEMOCRATS! Congressman Pete Aguila...   49.5   \n",
       "2       2019-05-20  CALLING ALL DEMOCRATS! Congressman Pete Aguila...   49.5   \n",
       "\n",
       "   impressions                                 delivery_by_region  \\\n",
       "0       3499.5  [{'percentage': '0.002362', 'region': 'Mississ...   \n",
       "1        499.5  [{'percentage': '0.008929', 'region': 'Marylan...   \n",
       "2        499.5  [{'percentage': '0.009346', 'region': 'New Mex...   \n",
       "\n",
       "                            demographic_distribution          page_id  \\\n",
       "0  [{'percentage': '0.000476', 'age': '35-44', 'g...  283932788322459   \n",
       "1  [{'percentage': '0.008929', 'age': '25-34', 'g...  283932788322459   \n",
       "2  [{'percentage': '0.476636', 'age': '65+', 'gen...  283932788322459   \n",
       "\n",
       "                   page_name                    bylines               id  \\\n",
       "0  Pete Aguilar for Congress  Pete Aguilar for Congress  186686335555403   \n",
       "1  Pete Aguilar for Congress  Pete Aguilar for Congress  291841175036406   \n",
       "2  Pete Aguilar for Congress  Pete Aguilar for Congress  297843221168257   \n",
       "\n",
       "   spend_lo  spend_hi  impressions_lo  impressions_hi  \n",
       "0       100       199            3000            3999  \n",
       "1         0        99               0             999  \n",
       "2         0        99               0             999  "
      ]
     },
     "execution_count": 3,
     "metadata": {},
     "output_type": "execute_result"
    }
   ],
   "source": [
    "#Code to read from our full dataset:\n",
    "preprocess = Preprocessor()\n",
    "df = preprocess.file_to_df('/home/gustavgyrst/Desktop/Research Project/political-ad-api/data/all_politicians_aggregated.txt')\n",
    "df.head(3)\n"
   ]
  },
  {
   "cell_type": "code",
   "execution_count": 33,
   "metadata": {},
   "outputs": [],
   "source": [
    "#If representation for climate ads is wanted:\n",
    "c_filter = Filter()\n",
    "df_climate = c_filter.get_climate_ads(df)"
   ]
  },
  {
   "cell_type": "code",
   "execution_count": 3,
   "metadata": {},
   "outputs": [
    {
     "name": "stdout",
     "output_type": "stream",
     "text": [
      "There are 605 ads with spending of $1,000,000 or above in the data-set\n",
      "602663 ads in total\n",
      "There are 463519 ads after dropping the nan values in the demographic data\n"
     ]
    }
   ],
   "source": [
    "#General stats\n",
    "print(\"There are\", len(df[df.impressions_lo == 1000000]), \"ads with spending of $1,000,000 or above in the data-set\")\n",
    "print(len(df), \"ads in total\")\n",
    "print(\"There are\", len(df.dropna(subset=['demographic_distribution'])), \"ads after dropping the nan values in the demographic data\")\n"
   ]
  },
  {
   "cell_type": "code",
   "execution_count": 4,
   "metadata": {},
   "outputs": [
    {
     "data": {
      "text/plain": [
       "[{'percentage': '0.000476', 'age': '35-44', 'gender': 'unknown'},\n",
       " {'percentage': '0.000476', 'age': '18-24', 'gender': 'male'},\n",
       " {'percentage': '0.001427', 'age': '25-34', 'gender': 'female'},\n",
       " {'percentage': '0.007612', 'age': '65+', 'gender': 'unknown'},\n",
       " {'percentage': '0.191246', 'age': '65+', 'gender': 'male'},\n",
       " {'percentage': '0.55138', 'age': '65+', 'gender': 'female'},\n",
       " {'percentage': '0.139391', 'age': '55-64', 'gender': 'female'},\n",
       " {'percentage': '0.065176', 'age': '55-64', 'gender': 'male'},\n",
       " {'percentage': '0.000951', 'age': '25-34', 'gender': 'male'},\n",
       " {'percentage': '0.016175', 'age': '45-54', 'gender': 'female'},\n",
       " {'percentage': '0.004757', 'age': '35-44', 'gender': 'female'},\n",
       " {'percentage': '0.011893', 'age': '45-54', 'gender': 'male'},\n",
       " {'percentage': '0.000951', 'age': '45-54', 'gender': 'unknown'},\n",
       " {'percentage': '0.005233', 'age': '35-44', 'gender': 'male'},\n",
       " {'percentage': '0.000951', 'age': '55-64', 'gender': 'unknown'},\n",
       " {'percentage': '0.001903', 'age': '18-24', 'gender': 'female'}]"
      ]
     },
     "execution_count": 4,
     "metadata": {},
     "output_type": "execute_result"
    }
   ],
   "source": [
    "df['demographic_distribution'][0]"
   ]
  },
  {
   "cell_type": "markdown",
   "metadata": {},
   "source": [
    "# 1. Demographic Distribution\n"
   ]
  },
  {
   "cell_type": "code",
   "execution_count": 78,
   "metadata": {},
   "outputs": [],
   "source": [
    "#lst of failed attempts\n",
    "lst_of_failed = []\n",
    "#The list that will be returned\n",
    "lst  = []\n",
    "\n",
    "#Get age distribution\n",
    "def get_age_distribution(row, gender):\n",
    "    #The list that will be returned\n",
    "    lst  = []\n",
    "\n",
    "    #The map of age_dist\n",
    "    age_dist = {'13-17': 0.0, '18-24': 0.0, '25-34':0.0, '35-44':0.0, '45-54':0.0, '55-64':0.0, '65+':0.0, 'Unknown': 0.0} #important that Unknown is with capital U\n",
    "    \n",
    "    for item in row.demographic_distribution:\n",
    "        \n",
    "            try:\n",
    "                if item['gender'] == gender:\n",
    "                    age = item['age']\n",
    "                    percentage = float(item['percentage'])\n",
    "                    age_dist[age] = age_dist.get(age) + percentage\n",
    "                else: \n",
    "                    pass\n",
    "            except:\n",
    "                lst_of_failed.append(row[['page_name', 'demographic_distribution']])\n",
    "                pass  \n",
    "    \n",
    "    for key, value in age_dist.items():\n",
    "        lst.append(value*row['impressions_hi']) # CHANGED SOMETHING HERE NOT TESTED\n",
    "\n",
    "    return pd.Series(lst)"
   ]
  },
  {
   "cell_type": "code",
   "execution_count": 6,
   "metadata": {},
   "outputs": [
    {
     "name": "stdout",
     "output_type": "stream",
     "text": [
      "Amount of NaNs values in the demographic_distribution field: 139144\n",
      "0.2308819356754936\n"
     ]
    }
   ],
   "source": [
    "NaNs = df[df['demographic_distribution'].isna() == True]\n",
    "print(\"Amount of NaNs values in the demographic_distribution field:\", len(NaNs))\n",
    "NaNs.head(1)\n",
    "\n",
    "print(len(NaNs) / len(df))"
   ]
  },
  {
   "cell_type": "code",
   "execution_count": 75,
   "metadata": {},
   "outputs": [
    {
     "name": "stdout",
     "output_type": "stream",
     "text": [
      "19176\n",
      "Are there nans?: page_name                   False\n",
      "demographic_distribution    False\n",
      "impressions_hi              False\n",
      "dtype: bool\n"
     ]
    },
    {
     "data": {
      "text/html": [
       "<div>\n",
       "<style scoped>\n",
       "    .dataframe tbody tr th:only-of-type {\n",
       "        vertical-align: middle;\n",
       "    }\n",
       "\n",
       "    .dataframe tbody tr th {\n",
       "        vertical-align: top;\n",
       "    }\n",
       "\n",
       "    .dataframe thead th {\n",
       "        text-align: right;\n",
       "    }\n",
       "</style>\n",
       "<table border=\"1\" class=\"dataframe\">\n",
       "  <thead>\n",
       "    <tr style=\"text-align: right;\">\n",
       "      <th></th>\n",
       "      <th>page_name</th>\n",
       "      <th>demographic_distribution</th>\n",
       "      <th>impressions_hi</th>\n",
       "      <th>13-17</th>\n",
       "      <th>18-24</th>\n",
       "      <th>25-34</th>\n",
       "      <th>35-44</th>\n",
       "      <th>45-54</th>\n",
       "      <th>55-64</th>\n",
       "      <th>65+</th>\n",
       "      <th>unknown</th>\n",
       "    </tr>\n",
       "  </thead>\n",
       "  <tbody>\n",
       "    <tr>\n",
       "      <th>0</th>\n",
       "      <td>Adam Smith for Congress</td>\n",
       "      <td>[{'percentage': '0.001887', 'age': '25-34', 'g...</td>\n",
       "      <td>999</td>\n",
       "      <td>0.0</td>\n",
       "      <td>0.0</td>\n",
       "      <td>0.0</td>\n",
       "      <td>0.0</td>\n",
       "      <td>0.0</td>\n",
       "      <td>0.0</td>\n",
       "      <td>0.0</td>\n",
       "      <td>0.0</td>\n",
       "    </tr>\n",
       "  </tbody>\n",
       "</table>\n",
       "</div>"
      ],
      "text/plain": [
       "                 page_name                           demographic_distribution  \\\n",
       "0  Adam Smith for Congress  [{'percentage': '0.001887', 'age': '25-34', 'g...   \n",
       "\n",
       "   impressions_hi  13-17  18-24  25-34  35-44  45-54  55-64  65+  unknown  \n",
       "0             999    0.0    0.0    0.0    0.0    0.0    0.0  0.0      0.0  "
      ]
     },
     "execution_count": 75,
     "metadata": {},
     "output_type": "execute_result"
    }
   ],
   "source": [
    "def create_demographic_df(df:DataFrame):\n",
    "     demographics = df[['page_name', 'demographic_distribution', 'impressions_hi']].reset_index().drop(columns='index')\n",
    "     print(len(demographics))\n",
    "     demographics = demographics.dropna()\n",
    "     print(\"Are there nans?:\", demographics.isna().any())\n",
    "     \n",
    "     #Creating the Columns\n",
    "     age_dist_lst = ['13-17', '18-24', '25-34', '35-44', '45-54', '55-64', '65+', 'unknown']\n",
    "     for i in age_dist_lst:\n",
    "          demographics[i] = 0.0\n",
    "\n",
    "     return demographics\n",
    "\n",
    "\n",
    "\n",
    "demographics = create_demographic_df(df_climate)\n",
    "\n",
    "demographics.head(1)\n"
   ]
  },
  {
   "cell_type": "code",
   "execution_count": 79,
   "metadata": {},
   "outputs": [],
   "source": [
    "demographics_male = demographics.copy()\n",
    "demographics_female = demographics.copy()\n",
    "demographics_unknown = demographics.copy()"
   ]
  },
  {
   "cell_type": "code",
   "execution_count": 80,
   "metadata": {},
   "outputs": [],
   "source": [
    "#Running for male\n",
    "demographics_male[['13-17', '18-24', '25-34', '35-44', '45-54', '55-64', '65+', 'unknown']] = demographics.apply(lambda x: get_age_distribution(row=x, gender='male'), axis=1)"
   ]
  },
  {
   "cell_type": "code",
   "execution_count": 81,
   "metadata": {},
   "outputs": [],
   "source": [
    "#Running for male\n",
    "demographics_female[['13-17', '18-24', '25-34', '35-44', '45-54', '55-64', '65+', 'unknown']] = demographics.apply(lambda x: get_age_distribution(row = x, gender='female'), axis=1)"
   ]
  },
  {
   "cell_type": "code",
   "execution_count": 82,
   "metadata": {},
   "outputs": [],
   "source": [
    "demographics_unknown[['13-17', '18-24', '25-34', '35-44', '45-54', '55-64', '65+', 'unknown']] = demographics.apply(lambda x: get_age_distribution(row = x, gender='unknown'), axis=1)"
   ]
  },
  {
   "cell_type": "code",
   "execution_count": 83,
   "metadata": {},
   "outputs": [],
   "source": [
    "demographics_male['gender'] = 'male'\n",
    "demographics_female['gender'] = 'female'\n",
    "demographics_unknown['gender'] = 'unknown'"
   ]
  },
  {
   "cell_type": "code",
   "execution_count": 84,
   "metadata": {},
   "outputs": [],
   "source": [
    "demographics_male_g = demographics_male.groupby('page_name').sum()\n",
    "demographics_female_g = demographics_female.groupby('page_name').sum()\n",
    "demographics_unknown_g = demographics_unknown.groupby('page_name').sum()\n",
    "\n",
    "\n",
    "\n",
    "demographics_male_g['gender'] = 'male'\n",
    "demographics_female_g['gender'] = 'female'\n",
    "demographics_unknown_g['gender'] = 'unknown'\n"
   ]
  },
  {
   "cell_type": "code",
   "execution_count": 85,
   "metadata": {},
   "outputs": [],
   "source": [
    "frames = [demographics_female_g,demographics_male_g,demographics_unknown_g]\n",
    "total = pd.concat(frames)\n"
   ]
  },
  {
   "cell_type": "code",
   "execution_count": 86,
   "metadata": {},
   "outputs": [],
   "source": [
    "test = total.groupby('gender').sum()"
   ]
  },
  {
   "cell_type": "code",
   "execution_count": 87,
   "metadata": {},
   "outputs": [
    {
     "data": {
      "text/html": [
       "<div>\n",
       "<style scoped>\n",
       "    .dataframe tbody tr th:only-of-type {\n",
       "        vertical-align: middle;\n",
       "    }\n",
       "\n",
       "    .dataframe tbody tr th {\n",
       "        vertical-align: top;\n",
       "    }\n",
       "\n",
       "    .dataframe thead th {\n",
       "        text-align: right;\n",
       "    }\n",
       "</style>\n",
       "<table border=\"1\" class=\"dataframe\">\n",
       "  <thead>\n",
       "    <tr style=\"text-align: right;\">\n",
       "      <th></th>\n",
       "      <th>gender</th>\n",
       "      <th>impressions_hi</th>\n",
       "      <th>13-17</th>\n",
       "      <th>18-24</th>\n",
       "      <th>25-34</th>\n",
       "      <th>35-44</th>\n",
       "      <th>45-54</th>\n",
       "      <th>55-64</th>\n",
       "      <th>65+</th>\n",
       "      <th>unknown</th>\n",
       "    </tr>\n",
       "  </thead>\n",
       "  <tbody>\n",
       "    <tr>\n",
       "      <th>0</th>\n",
       "      <td>female</td>\n",
       "      <td>124043542</td>\n",
       "      <td>24112.395678</td>\n",
       "      <td>9.969416e+06</td>\n",
       "      <td>1.476539e+07</td>\n",
       "      <td>1.204703e+07</td>\n",
       "      <td>1.017166e+07</td>\n",
       "      <td>1.213529e+07</td>\n",
       "      <td>1.524924e+07</td>\n",
       "      <td>0.000000</td>\n",
       "    </tr>\n",
       "    <tr>\n",
       "      <th>1</th>\n",
       "      <td>male</td>\n",
       "      <td>124043542</td>\n",
       "      <td>16043.932623</td>\n",
       "      <td>5.875263e+06</td>\n",
       "      <td>1.168603e+07</td>\n",
       "      <td>8.362113e+06</td>\n",
       "      <td>6.763811e+06</td>\n",
       "      <td>7.064451e+06</td>\n",
       "      <td>8.230505e+06</td>\n",
       "      <td>0.000000</td>\n",
       "    </tr>\n",
       "    <tr>\n",
       "      <th>2</th>\n",
       "      <td>unknown</td>\n",
       "      <td>124043542</td>\n",
       "      <td>900.273454</td>\n",
       "      <td>2.381870e+05</td>\n",
       "      <td>3.929163e+05</td>\n",
       "      <td>3.048581e+05</td>\n",
       "      <td>2.101015e+05</td>\n",
       "      <td>2.237900e+05</td>\n",
       "      <td>3.113589e+05</td>\n",
       "      <td>1061.791707</td>\n",
       "    </tr>\n",
       "  </tbody>\n",
       "</table>\n",
       "</div>"
      ],
      "text/plain": [
       "    gender  impressions_hi         13-17         18-24         25-34  \\\n",
       "0   female       124043542  24112.395678  9.969416e+06  1.476539e+07   \n",
       "1     male       124043542  16043.932623  5.875263e+06  1.168603e+07   \n",
       "2  unknown       124043542    900.273454  2.381870e+05  3.929163e+05   \n",
       "\n",
       "          35-44         45-54         55-64           65+      unknown  \n",
       "0  1.204703e+07  1.017166e+07  1.213529e+07  1.524924e+07     0.000000  \n",
       "1  8.362113e+06  6.763811e+06  7.064451e+06  8.230505e+06     0.000000  \n",
       "2  3.048581e+05  2.101015e+05  2.237900e+05  3.113589e+05  1061.791707  "
      ]
     },
     "execution_count": 87,
     "metadata": {},
     "output_type": "execute_result"
    }
   ],
   "source": [
    "test.reset_index(inplace=True)\n",
    "test"
   ]
  },
  {
   "cell_type": "code",
   "execution_count": 88,
   "metadata": {},
   "outputs": [],
   "source": [
    "test.set_index('gender', inplace=True)\n"
   ]
  },
  {
   "cell_type": "code",
   "execution_count": 89,
   "metadata": {},
   "outputs": [],
   "source": [
    "#dropping some columns\n",
    "test.drop(columns='impressions_hi', inplace=True)\n",
    "test.drop(columns='13-17', inplace=True)\n",
    "test.drop(columns='unknown', inplace=True)"
   ]
  },
  {
   "cell_type": "code",
   "execution_count": 90,
   "metadata": {},
   "outputs": [
    {
     "data": {
      "text/plain": [
       "<AxesSubplot:>"
      ]
     },
     "execution_count": 90,
     "metadata": {},
     "output_type": "execute_result"
    },
    {
     "data": {
      "image/png": "[encoded data removed]",
      "text/plain": [
       "<Figure size 432x288 with 1 Axes>"
      ]
     },
     "metadata": {
      "needs_background": "light"
     },
     "output_type": "display_data"
    }
   ],
   "source": [
    "#Overall distribution for all politicians\n",
    "test.T.plot(kind='bar', style='spring')"
   ]
  },
  {
   "cell_type": "markdown",
   "metadata": {},
   "source": [
    "# Democrats vs. Republicans"
   ]
  },
  {
   "cell_type": "code",
   "execution_count": 91,
   "metadata": {},
   "outputs": [],
   "source": [
    "congress = pd.read_csv('/home/gustavgyrst/Desktop/Research Project/political-ad-api/src/data_sets/legislators_fb_info_final.csv')"
   ]
  },
  {
   "cell_type": "code",
   "execution_count": 125,
   "metadata": {},
   "outputs": [],
   "source": [
    "party = 'Democrat'\n",
    "\n",
    "party_members = congress[congress[\"party\"] == party]  # get all page id's that match the given party\n",
    "\n",
    "#Male\n",
    "demographics_democrats_male = demographics_male[demographics_male.page_name.isin(party_members.page_name)] # get all the ads where page id matches with the party page id's\n",
    "\n",
    "#Female\n",
    "demographics_democrats_female = demographics_female[demographics_female.page_name.isin(party_members.page_name)] # get all the ads where page id matches with the party page id's\n",
    "\n",
    "#Unknown\n",
    "demographics_democrats_unknown = demographics_unknown[demographics_unknown.page_name.isin(party_members.page_name)]\n"
   ]
  },
  {
   "cell_type": "code",
   "execution_count": 126,
   "metadata": {},
   "outputs": [],
   "source": [
    "demographics_democrats_male_g = demographics_democrats_male.groupby('page_name').sum()\n",
    "demographics_democrats_female_g = demographics_democrats_female.groupby('page_name').sum()\n",
    "demographics_democrats_unknown_g = demographics_democrats_unknown.groupby('page_name').sum()\n",
    "\n",
    "demographics_democrats_male_g['gender'] = 'male'\n",
    "demographics_democrats_female_g['gender'] = 'female'\n",
    "demographics_democrats_unknown_g['gender'] = 'unknown'\n"
   ]
  },
  {
   "cell_type": "code",
   "execution_count": 127,
   "metadata": {},
   "outputs": [],
   "source": [
    "#concatenating the frames\n",
    "frames_democrats = [demographics_democrats_female_g,demographics_democrats_male_g,demographics_democrats_unknown_g]\n",
    "total_democrats = pd.concat(frames_democrats)\n"
   ]
  },
  {
   "cell_type": "code",
   "execution_count": 128,
   "metadata": {},
   "outputs": [],
   "source": [
    "democrats = total_democrats.groupby('gender').sum()\n"
   ]
  },
  {
   "cell_type": "code",
   "execution_count": 129,
   "metadata": {},
   "outputs": [
    {
     "data": {
      "text/html": [
       "<div>\n",
       "<style scoped>\n",
       "    .dataframe tbody tr th:only-of-type {\n",
       "        vertical-align: middle;\n",
       "    }\n",
       "\n",
       "    .dataframe tbody tr th {\n",
       "        vertical-align: top;\n",
       "    }\n",
       "\n",
       "    .dataframe thead th {\n",
       "        text-align: right;\n",
       "    }\n",
       "</style>\n",
       "<table border=\"1\" class=\"dataframe\">\n",
       "  <thead>\n",
       "    <tr style=\"text-align: right;\">\n",
       "      <th></th>\n",
       "      <th>impressions_hi</th>\n",
       "      <th>13-17</th>\n",
       "      <th>18-24</th>\n",
       "      <th>25-34</th>\n",
       "      <th>35-44</th>\n",
       "      <th>45-54</th>\n",
       "      <th>55-64</th>\n",
       "      <th>65+</th>\n",
       "      <th>unknown</th>\n",
       "    </tr>\n",
       "    <tr>\n",
       "      <th>gender</th>\n",
       "      <th></th>\n",
       "      <th></th>\n",
       "      <th></th>\n",
       "      <th></th>\n",
       "      <th></th>\n",
       "      <th></th>\n",
       "      <th></th>\n",
       "      <th></th>\n",
       "      <th></th>\n",
       "    </tr>\n",
       "  </thead>\n",
       "  <tbody>\n",
       "    <tr>\n",
       "      <th>female</th>\n",
       "      <td>4941377</td>\n",
       "      <td>2983.987324</td>\n",
       "      <td>654106.296234</td>\n",
       "      <td>565083.336282</td>\n",
       "      <td>357843.166363</td>\n",
       "      <td>325664.583156</td>\n",
       "      <td>481962.946132</td>\n",
       "      <td>664977.276021</td>\n",
       "      <td>0.0</td>\n",
       "    </tr>\n",
       "    <tr>\n",
       "      <th>male</th>\n",
       "      <td>4941377</td>\n",
       "      <td>1746.189841</td>\n",
       "      <td>351741.161947</td>\n",
       "      <td>440480.429685</td>\n",
       "      <td>272906.666751</td>\n",
       "      <td>230084.980641</td>\n",
       "      <td>254038.891516</td>\n",
       "      <td>280488.334937</td>\n",
       "      <td>0.0</td>\n",
       "    </tr>\n",
       "    <tr>\n",
       "      <th>unknown</th>\n",
       "      <td>4941377</td>\n",
       "      <td>85.617863</td>\n",
       "      <td>13015.127184</td>\n",
       "      <td>13246.204275</td>\n",
       "      <td>8414.465813</td>\n",
       "      <td>5789.084754</td>\n",
       "      <td>6810.252709</td>\n",
       "      <td>9907.587566</td>\n",
       "      <td>0.0</td>\n",
       "    </tr>\n",
       "  </tbody>\n",
       "</table>\n",
       "</div>"
      ],
      "text/plain": [
       "         impressions_hi        13-17          18-24          25-34  \\\n",
       "gender                                                               \n",
       "female          4941377  2983.987324  654106.296234  565083.336282   \n",
       "male            4941377  1746.189841  351741.161947  440480.429685   \n",
       "unknown         4941377    85.617863   13015.127184   13246.204275   \n",
       "\n",
       "                 35-44          45-54          55-64            65+  unknown  \n",
       "gender                                                                        \n",
       "female   357843.166363  325664.583156  481962.946132  664977.276021      0.0  \n",
       "male     272906.666751  230084.980641  254038.891516  280488.334937      0.0  \n",
       "unknown    8414.465813    5789.084754    6810.252709    9907.587566      0.0  "
      ]
     },
     "execution_count": 129,
     "metadata": {},
     "output_type": "execute_result"
    }
   ],
   "source": [
    "democrats"
   ]
  },
  {
   "cell_type": "code",
   "execution_count": 130,
   "metadata": {},
   "outputs": [],
   "source": [
    "democrats.reset_index(inplace=True)\n"
   ]
  },
  {
   "cell_type": "code",
   "execution_count": 131,
   "metadata": {},
   "outputs": [],
   "source": [
    "democrats.set_index('gender', inplace=True)\n",
    "\n"
   ]
  },
  {
   "cell_type": "code",
   "execution_count": 132,
   "metadata": {},
   "outputs": [],
   "source": [
    "democrats.drop(columns=['impressions_hi', '13-17', 'unknown'], inplace=True)"
   ]
  },
  {
   "cell_type": "code",
   "execution_count": 135,
   "metadata": {},
   "outputs": [
    {
     "data": {
      "text/plain": [
       "<AxesSubplot:>"
      ]
     },
     "execution_count": 135,
     "metadata": {},
     "output_type": "execute_result"
    },
    {
     "data": {
      "image/png": "[encoded data removed]",
      "text/plain": [
       "<Figure size 432x288 with 1 Axes>"
      ]
     },
     "metadata": {
      "needs_background": "light"
     },
     "output_type": "display_data"
    }
   ],
   "source": [
    "#Overall distribution for all politicians\n",
    "\n",
    "democrats.T.plot(kind='bar', style='spring')"
   ]
  },
  {
   "cell_type": "markdown",
   "metadata": {},
   "source": [
    "# Older Code:"
   ]
  },
  {
   "cell_type": "code",
   "execution_count": 134,
   "metadata": {},
   "outputs": [
    {
     "ename": "NameError",
     "evalue": "name 'demographics_republicans' is not defined",
     "output_type": "error",
     "traceback": [
      "\u001b[0;31m---------------------------------------------------------------------------\u001b[0m",
      "\u001b[0;31mNameError\u001b[0m                                 Traceback (most recent call last)",
      "\u001b[0;32m/tmp/ipykernel_27726/1352711157.py\u001b[0m in \u001b[0;36m<module>\u001b[0;34m\u001b[0m\n\u001b[0;32m----> 1\u001b[0;31m \u001b[0mdemographics_republicans\u001b[0m\u001b[0;34m.\u001b[0m\u001b[0mdrop\u001b[0m\u001b[0;34m(\u001b[0m\u001b[0mcolumns\u001b[0m\u001b[0;34m=\u001b[0m\u001b[0;34m'impressions_hi'\u001b[0m\u001b[0;34m,\u001b[0m \u001b[0minplace\u001b[0m\u001b[0;34m=\u001b[0m\u001b[0;32mTrue\u001b[0m\u001b[0;34m)\u001b[0m\u001b[0;34m\u001b[0m\u001b[0;34m\u001b[0m\u001b[0m\n\u001b[0m\u001b[1;32m      2\u001b[0m \u001b[0;34m\u001b[0m\u001b[0m\n\u001b[1;32m      3\u001b[0m \u001b[0mr_view\u001b[0m \u001b[0;34m=\u001b[0m \u001b[0mdemographics_republicans\u001b[0m\u001b[0;34m.\u001b[0m\u001b[0mgroupby\u001b[0m\u001b[0;34m(\u001b[0m\u001b[0;34m'party'\u001b[0m\u001b[0;34m)\u001b[0m\u001b[0;34m.\u001b[0m\u001b[0msum\u001b[0m\u001b[0;34m(\u001b[0m\u001b[0;34m)\u001b[0m\u001b[0;34m\u001b[0m\u001b[0;34m\u001b[0m\u001b[0m\n\u001b[1;32m      4\u001b[0m \u001b[0;34m\u001b[0m\u001b[0m\n\u001b[1;32m      5\u001b[0m \u001b[0mr_view\u001b[0m\u001b[0;34m.\u001b[0m\u001b[0miloc\u001b[0m\u001b[0;34m[\u001b[0m\u001b[0;36m0\u001b[0m\u001b[0;34m]\u001b[0m\u001b[0;34m.\u001b[0m\u001b[0mplot\u001b[0m\u001b[0;34m(\u001b[0m\u001b[0mkind\u001b[0m\u001b[0;34m=\u001b[0m\u001b[0;34m'bar'\u001b[0m\u001b[0;34m,\u001b[0m \u001b[0mtitle\u001b[0m\u001b[0;34m=\u001b[0m\u001b[0;34m\"republicans\"\u001b[0m\u001b[0;34m)\u001b[0m\u001b[0;34m\u001b[0m\u001b[0;34m\u001b[0m\u001b[0m\n",
      "\u001b[0;31mNameError\u001b[0m: name 'demographics_republicans' is not defined"
     ]
    }
   ],
   "source": [
    "\n",
    "demographics_republicans.drop(columns='impressions_hi', inplace=True)\n",
    "\n",
    "r_view = demographics_republicans.groupby('party').sum()\n",
    "\n",
    "r_view.iloc[0].plot(kind='bar', title=\"republicans\")\n"
   ]
  },
  {
   "cell_type": "code",
   "execution_count": null,
   "metadata": {},
   "outputs": [
    {
     "name": "stderr",
     "output_type": "stream",
     "text": [
      "/tmp/ipykernel_28043/3402324449.py:7: SettingWithCopyWarning: \n",
      "A value is trying to be set on a copy of a slice from a DataFrame.\n",
      "Try using .loc[row_indexer,col_indexer] = value instead\n",
      "\n",
      "See the caveats in the documentation: https://pandas.pydata.org/pandas-docs/stable/user_guide/indexing.html#returning-a-view-versus-a-copy\n",
      "  demographics_republicans['party'] = 'republican'\n"
     ]
    }
   ],
   "source": [
    "party_r = 'Republican'\n",
    "\n",
    "party_members = congress[congress[\"party\"] == party_r]  # get all page id's that match the given party\n",
    "\n",
    "demographics_republicans = demographics[demographics.page_name.isin(party_members.page_name)] # get all the ads where page id matches with the party page id's\n",
    "\n",
    "demographics_republicans['party'] = 'republican'\n"
   ]
  },
  {
   "cell_type": "markdown",
   "metadata": {},
   "source": [
    "# Gender Distribution (Alone)"
   ]
  },
  {
   "cell_type": "code",
   "execution_count": null,
   "metadata": {},
   "outputs": [
    {
     "name": "stdout",
     "output_type": "stream",
     "text": [
      "The sum of all the percentages given in the dictionary of diff values (yep they don't sum to 100 0.9999980000000002\n"
     ]
    }
   ],
   "source": [
    "#Random sum check\n",
    "sum = 0\n",
    "for i in df.demographic_distribution[0]:\n",
    "    sum += float(i.get('percentage'))\n",
    "print(\"The sum of all the percentages given in the dictionary of diff values (yep they don't sum to 100\", sum)\n",
    "#So... they don't even sum up to a hundred\n",
    "\n"
   ]
  },
  {
   "cell_type": "code",
   "execution_count": null,
   "metadata": {},
   "outputs": [],
   "source": [
    "list_of_failed_g = []\n",
    "count_unknown =0\n",
    "def get_gender_distribution(row):\n",
    "    \n",
    "    #initializing percentages\n",
    "    percentage_male = 0.0\n",
    "    percentage_female = 0.0\n",
    "    percentage_unknown = 0.0\n",
    "\n",
    "    try:\n",
    "        for item in row.demographic_distribution:\n",
    "            if item['gender'] == 'male':\n",
    "                percentage_male += float(item['percentage'])\n",
    "            elif item['gender'] == 'female':\n",
    "                percentage_female += float(item['percentage'])\n",
    "            elif item['gender'] == 'unknown':\n",
    "                percentage_unknown += float(item['percentage'])\n",
    "                count_unknown+=1\n",
    "    except:\n",
    "        list_of_failed_g.append(lst)\n",
    "    \n",
    "    avg_imp = float(row['avg_impressions'])\n",
    "    lst_all_genders = [percentage_male, percentage_female, percentage_unknown]\n",
    "    for i in range(3):\n",
    "        lst_all_genders[i] = lst_all_genders[i]*avg_imp\n",
    "    \n",
    "    #Getting the avg impression to get the weight of the gender distribution\n",
    "    return pd.Series(lst_all_genders)"
   ]
  }
 ],
 "metadata": {
  "interpreter": {
   "hash": "98296c6fab1f2542c3ee1b453fe7ed304d5710b367ab83c3e921b0c6632a7bad"
  },
  "kernelspec": {
   "display_name": "Python 3.8.8 64-bit ('base': conda)",
   "name": "python3"
  },
  "language_info": {
   "codemirror_mode": {
    "name": "ipython",
    "version": 3
   },
   "file_extension": ".py",
   "mimetype": "text/x-python",
   "name": "python",
   "nbconvert_exporter": "python",
   "pygments_lexer": "ipython3",
   "version": "3.8.8"
  },
  "orig_nbformat": 4
 },
 "nbformat": 4,
 "nbformat_minor": 2
}
