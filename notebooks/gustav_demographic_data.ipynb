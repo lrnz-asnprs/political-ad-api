{
 "cells": [
  {
   "cell_type": "code",
   "execution_count": 2,
   "metadata": {},
   "outputs": [],
   "source": [
    "# must be specified to be able to use methods of package\n",
    "import sys\n",
    "sys.path.append('../src') \n",
    "# import packages\n",
    "import pandas as pd\n",
    "from political_ads.Preprocessor import *\n",
    "from political_ads.helper import *\n",
    "from political_ads.keyword_filter import *\n",
    "import matplotlib.pyplot as plt"
   ]
  },
  {
   "cell_type": "code",
   "execution_count": 3,
   "metadata": {},
   "outputs": [
    {
     "data": {
      "text/html": [
       "<div>\n",
       "<style scoped>\n",
       "    .dataframe tbody tr th:only-of-type {\n",
       "        vertical-align: middle;\n",
       "    }\n",
       "\n",
       "    .dataframe tbody tr th {\n",
       "        vertical-align: top;\n",
       "    }\n",
       "\n",
       "    .dataframe thead th {\n",
       "        text-align: right;\n",
       "    }\n",
       "</style>\n",
       "<table border=\"1\" class=\"dataframe\">\n",
       "  <thead>\n",
       "    <tr style=\"text-align: right;\">\n",
       "      <th></th>\n",
       "      <th>ad_creation_time</th>\n",
       "      <th>ad_creative_body</th>\n",
       "      <th>spend</th>\n",
       "      <th>impressions</th>\n",
       "      <th>delivery_by_region</th>\n",
       "      <th>demographic_distribution</th>\n",
       "      <th>page_id</th>\n",
       "      <th>page_name</th>\n",
       "      <th>bylines</th>\n",
       "      <th>id</th>\n",
       "      <th>spend_lo</th>\n",
       "      <th>spend_hi</th>\n",
       "      <th>impressions_lo</th>\n",
       "      <th>impressions_hi</th>\n",
       "    </tr>\n",
       "  </thead>\n",
       "  <tbody>\n",
       "    <tr>\n",
       "      <th>0</th>\n",
       "      <td>2021-10-14</td>\n",
       "      <td>To show that you're part of our fight to prote...</td>\n",
       "      <td>1749.5</td>\n",
       "      <td>74999.5</td>\n",
       "      <td>[{'percentage': '0.004793', 'region': 'Alabama...</td>\n",
       "      <td>[{'percentage': '0.010689', 'age': '18-24', 'g...</td>\n",
       "      <td>38471053686</td>\n",
       "      <td>Elizabeth Warren</td>\n",
       "      <td>WARREN DEMOCRATS, INC.</td>\n",
       "      <td>195916456012328</td>\n",
       "      <td>1500</td>\n",
       "      <td>1999</td>\n",
       "      <td>70000</td>\n",
       "      <td>79999</td>\n",
       "    </tr>\n",
       "    <tr>\n",
       "      <th>1</th>\n",
       "      <td>2021-10-14</td>\n",
       "      <td>Nothing is spookier than the ongoing assault o...</td>\n",
       "      <td>149.5</td>\n",
       "      <td>27499.5</td>\n",
       "      <td>[{'percentage': '0.005051', 'region': 'Alabama...</td>\n",
       "      <td>[{'percentage': '0.000629', 'age': '18-24', 'g...</td>\n",
       "      <td>38471053686</td>\n",
       "      <td>Elizabeth Warren</td>\n",
       "      <td>WARREN DEMOCRATS, INC.</td>\n",
       "      <td>197833945796073</td>\n",
       "      <td>100</td>\n",
       "      <td>199</td>\n",
       "      <td>25000</td>\n",
       "      <td>29999</td>\n",
       "    </tr>\n",
       "    <tr>\n",
       "      <th>2</th>\n",
       "      <td>2021-10-14</td>\n",
       "      <td>To show that you're part of our fight to prote...</td>\n",
       "      <td>1749.5</td>\n",
       "      <td>162499.5</td>\n",
       "      <td>[{'percentage': '0.004873', 'region': 'Alabama...</td>\n",
       "      <td>[{'percentage': '0.005081', 'age': '18-24', 'g...</td>\n",
       "      <td>38471053686</td>\n",
       "      <td>Elizabeth Warren</td>\n",
       "      <td>WARREN DEMOCRATS, INC.</td>\n",
       "      <td>396978045241497</td>\n",
       "      <td>1500</td>\n",
       "      <td>1999</td>\n",
       "      <td>150000</td>\n",
       "      <td>174999</td>\n",
       "    </tr>\n",
       "  </tbody>\n",
       "</table>\n",
       "</div>"
      ],
      "text/plain": [
       "  ad_creation_time                                   ad_creative_body   spend  \\\n",
       "0       2021-10-14  To show that you're part of our fight to prote...  1749.5   \n",
       "1       2021-10-14  Nothing is spookier than the ongoing assault o...   149.5   \n",
       "2       2021-10-14  To show that you're part of our fight to prote...  1749.5   \n",
       "\n",
       "   impressions                                 delivery_by_region  \\\n",
       "0      74999.5  [{'percentage': '0.004793', 'region': 'Alabama...   \n",
       "1      27499.5  [{'percentage': '0.005051', 'region': 'Alabama...   \n",
       "2     162499.5  [{'percentage': '0.004873', 'region': 'Alabama...   \n",
       "\n",
       "                            demographic_distribution      page_id  \\\n",
       "0  [{'percentage': '0.010689', 'age': '18-24', 'g...  38471053686   \n",
       "1  [{'percentage': '0.000629', 'age': '18-24', 'g...  38471053686   \n",
       "2  [{'percentage': '0.005081', 'age': '18-24', 'g...  38471053686   \n",
       "\n",
       "          page_name                 bylines               id  spend_lo  \\\n",
       "0  Elizabeth Warren  WARREN DEMOCRATS, INC.  195916456012328      1500   \n",
       "1  Elizabeth Warren  WARREN DEMOCRATS, INC.  197833945796073       100   \n",
       "2  Elizabeth Warren  WARREN DEMOCRATS, INC.  396978045241497      1500   \n",
       "\n",
       "   spend_hi  impressions_lo  impressions_hi  \n",
       "0      1999           70000           79999  \n",
       "1       199           25000           29999  \n",
       "2      1999          150000          174999  "
      ]
     },
     "execution_count": 3,
     "metadata": {},
     "output_type": "execute_result"
    }
   ],
   "source": [
    "#Code to read from our full dataset:\n",
    "preprocess = Preprocessor()\n",
    "df = preprocess.file_to_df('/home/gustavgyrst/Desktop/research_project/political-ad-api/data/all_politicians_aggregated.txt')\n",
    "df.head(3)\n"
   ]
  },
  {
   "cell_type": "code",
   "execution_count": 4,
   "metadata": {},
   "outputs": [],
   "source": [
    "#If representation for climate ads is wanted:\n",
    "c_filter = Filter()\n",
    "df_climate = c_filter.get_climate_ads(df)"
   ]
  },
  {
   "cell_type": "code",
   "execution_count": 5,
   "metadata": {},
   "outputs": [
    {
     "name": "stdout",
     "output_type": "stream",
     "text": [
      "There are 600 ads with spending of $1,000,000 or above in the data-set\n",
      "602546 ads in total\n",
      "There are 463403 ads after dropping the nan values in the demographic data\n"
     ]
    }
   ],
   "source": [
    "#General stats\n",
    "print(\"There are\", len(df[df.impressions_lo == 1000000]), \"ads with spending of $1,000,000 or above in the data-set\")\n",
    "print(len(df), \"ads in total\")\n",
    "print(\"There are\", len(df.dropna(subset=['demographic_distribution'])), \"ads after dropping the nan values in the demographic data\")"
   ]
  },
  {
   "cell_type": "code",
   "execution_count": 6,
   "metadata": {},
   "outputs": [
    {
     "data": {
      "text/plain": [
       "[{'percentage': '0.010689', 'age': '18-24', 'gender': 'female'},\n",
       " {'percentage': '0.175559', 'age': '35-44', 'gender': 'female'},\n",
       " {'percentage': '0.003656', 'age': '55-64', 'gender': 'unknown'},\n",
       " {'percentage': '0.009856', 'age': '18-24', 'gender': 'male'},\n",
       " {'percentage': '0.004535', 'age': '45-54', 'gender': 'unknown'},\n",
       " {'percentage': '0.006802', 'age': '35-44', 'gender': 'unknown'},\n",
       " {'percentage': '0.0478', 'age': '25-34', 'gender': 'male'},\n",
       " {'percentage': '0.035584', 'age': '45-54', 'gender': 'male'},\n",
       " {'percentage': '0.175327', 'age': '45-54', 'gender': 'female'},\n",
       " {'percentage': '0.004072', 'age': '25-34', 'gender': 'unknown'},\n",
       " {'percentage': '0.03216', 'age': '55-64', 'gender': 'male'},\n",
       " {'percentage': '0.162325', 'age': '55-64', 'gender': 'female'},\n",
       " {'percentage': '0.003933', 'age': '65+', 'gender': 'unknown'},\n",
       " {'percentage': '0.042062', 'age': '35-44', 'gender': 'male'},\n",
       " {'percentage': '0.037481', 'age': '65+', 'gender': 'male'},\n",
       " {'percentage': '0.161075', 'age': '65+', 'gender': 'female'},\n",
       " {'percentage': '0.08653', 'age': '25-34', 'gender': 'female'},\n",
       " {'percentage': '0.000555', 'age': '18-24', 'gender': 'unknown'}]"
      ]
     },
     "execution_count": 6,
     "metadata": {},
     "output_type": "execute_result"
    }
   ],
   "source": [
    "df['demographic_distribution'][0]"
   ]
  },
  {
   "cell_type": "markdown",
   "metadata": {},
   "source": [
    "# 1. Demographic Distribution\n"
   ]
  },
  {
   "cell_type": "code",
   "execution_count": 7,
   "metadata": {},
   "outputs": [],
   "source": [
    "#lst of failed attempts\n",
    "lst_of_failed = []\n",
    "#The list that will be returned\n",
    "lst  = []\n",
    "\n",
    "#Get age distribution\n",
    "def get_age_distribution(row, gender):\n",
    "    #The list that will be returned\n",
    "    lst  = []\n",
    "\n",
    "    #The map of age_dist\n",
    "    age_dist = {'13-17': 0.0, '18-24': 0.0, '25-34':0.0, '35-44':0.0, '45-54':0.0, '55-64':0.0, '65+':0.0, 'Unknown': 0.0} #important that Unknown is with capital U\n",
    "    \n",
    "    for item in row.demographic_distribution:\n",
    "        \n",
    "            try:\n",
    "                if item['gender'] == gender:\n",
    "                    age = item['age']\n",
    "                    percentage = float(item['percentage'])\n",
    "                    age_dist[age] = age_dist.get(age) + percentage\n",
    "                else: \n",
    "                    pass\n",
    "            except:\n",
    "                lst_of_failed.append(row[['page_name', 'demographic_distribution']])\n",
    "                pass  \n",
    "    \n",
    "    for key, value in age_dist.items():\n",
    "        lst.append(value*row['impressions_hi']) # CHANGED SOMETHING HERE NOT TESTED\n",
    "\n",
    "    return pd.Series(lst)"
   ]
  },
  {
   "cell_type": "code",
   "execution_count": 8,
   "metadata": {},
   "outputs": [
    {
     "name": "stdout",
     "output_type": "stream",
     "text": [
      "Amount of NaNs values in the demographic_distribution field: 139143\n",
      "0.23092510779260006\n"
     ]
    }
   ],
   "source": [
    "NaNs = df[df['demographic_distribution'].isna() == True]\n",
    "print(\"Amount of NaNs values in the demographic_distribution field:\", len(NaNs))\n",
    "NaNs.head(1)\n",
    "\n",
    "print(len(NaNs) / len(df))"
   ]
  },
  {
   "cell_type": "code",
   "execution_count": 9,
   "metadata": {},
   "outputs": [
    {
     "name": "stdout",
     "output_type": "stream",
     "text": [
      "19176\n",
      "Are there nans?: page_id                     False\n",
      "page_name                   False\n",
      "demographic_distribution    False\n",
      "impressions_hi              False\n",
      "dtype: bool\n"
     ]
    },
    {
     "data": {
      "text/html": [
       "<div>\n",
       "<style scoped>\n",
       "    .dataframe tbody tr th:only-of-type {\n",
       "        vertical-align: middle;\n",
       "    }\n",
       "\n",
       "    .dataframe tbody tr th {\n",
       "        vertical-align: top;\n",
       "    }\n",
       "\n",
       "    .dataframe thead th {\n",
       "        text-align: right;\n",
       "    }\n",
       "</style>\n",
       "<table border=\"1\" class=\"dataframe\">\n",
       "  <thead>\n",
       "    <tr style=\"text-align: right;\">\n",
       "      <th></th>\n",
       "      <th>page_id</th>\n",
       "      <th>page_name</th>\n",
       "      <th>demographic_distribution</th>\n",
       "      <th>impressions_hi</th>\n",
       "      <th>13-17</th>\n",
       "      <th>18-24</th>\n",
       "      <th>25-34</th>\n",
       "      <th>35-44</th>\n",
       "      <th>45-54</th>\n",
       "      <th>55-64</th>\n",
       "      <th>65+</th>\n",
       "      <th>unknown</th>\n",
       "    </tr>\n",
       "  </thead>\n",
       "  <tbody>\n",
       "    <tr>\n",
       "      <th>0</th>\n",
       "      <td>38471053686</td>\n",
       "      <td>Elizabeth Warren</td>\n",
       "      <td>[{'percentage': '0.003529', 'age': '25-34', 'g...</td>\n",
       "      <td>999</td>\n",
       "      <td>0.0</td>\n",
       "      <td>0.0</td>\n",
       "      <td>0.0</td>\n",
       "      <td>0.0</td>\n",
       "      <td>0.0</td>\n",
       "      <td>0.0</td>\n",
       "      <td>0.0</td>\n",
       "      <td>0.0</td>\n",
       "    </tr>\n",
       "  </tbody>\n",
       "</table>\n",
       "</div>"
      ],
      "text/plain": [
       "       page_id         page_name  \\\n",
       "0  38471053686  Elizabeth Warren   \n",
       "\n",
       "                            demographic_distribution  impressions_hi  13-17  \\\n",
       "0  [{'percentage': '0.003529', 'age': '25-34', 'g...             999    0.0   \n",
       "\n",
       "   18-24  25-34  35-44  45-54  55-64  65+  unknown  \n",
       "0    0.0    0.0    0.0    0.0    0.0  0.0      0.0  "
      ]
     },
     "execution_count": 9,
     "metadata": {},
     "output_type": "execute_result"
    }
   ],
   "source": [
    "#For filtering for NaN values and preparing the dataframe to have the different values i.e., age-groupings \n",
    "def create_demographic_df(df:DataFrame):\n",
    "     demographics = df[['page_id', 'page_name', 'demographic_distribution', 'impressions_hi']].reset_index().drop(columns='index')\n",
    "     print(len(demographics))\n",
    "     demographics = demographics.dropna()\n",
    "     print(\"Are there nans?:\", demographics.isna().any())\n",
    "     \n",
    "     #Creating the Columns\n",
    "     age_dist_lst = ['13-17', '18-24', '25-34', '35-44', '45-54', '55-64', '65+', 'unknown']\n",
    "     for i in age_dist_lst:\n",
    "          demographics[i] = 0.0\n",
    "\n",
    "     return demographics\n",
    "\n",
    "\n",
    "\n",
    "demographics = create_demographic_df(df_climate)\n",
    "\n",
    "demographics.head(1)\n"
   ]
  },
  {
   "cell_type": "code",
   "execution_count": 10,
   "metadata": {},
   "outputs": [],
   "source": [
    "demographics_male = demographics.copy()\n",
    "demographics_female = demographics.copy()\n",
    "demographics_unknown = demographics.copy()"
   ]
  },
  {
   "cell_type": "code",
   "execution_count": 11,
   "metadata": {},
   "outputs": [],
   "source": [
    "#Running for male\n",
    "demographics_male[['13-17', '18-24', '25-34', '35-44', '45-54', '55-64', '65+', 'unknown']] = demographics.apply(lambda x: get_age_distribution(row=x, gender='male'), axis=1)"
   ]
  },
  {
   "cell_type": "code",
   "execution_count": 12,
   "metadata": {},
   "outputs": [],
   "source": [
    "#Running for male\n",
    "demographics_female[['13-17', '18-24', '25-34', '35-44', '45-54', '55-64', '65+', 'unknown']] = demographics.apply(lambda x: get_age_distribution(row = x, gender='female'), axis=1)"
   ]
  },
  {
   "cell_type": "code",
   "execution_count": 13,
   "metadata": {},
   "outputs": [],
   "source": [
    "demographics_unknown[['13-17', '18-24', '25-34', '35-44', '45-54', '55-64', '65+', 'unknown']] = demographics.apply(lambda x: get_age_distribution(row = x, gender='unknown'), axis=1)"
   ]
  },
  {
   "cell_type": "code",
   "execution_count": 14,
   "metadata": {},
   "outputs": [],
   "source": [
    "demographics_male['gender'] = 'male'\n",
    "demographics_female['gender'] = 'female'\n",
    "demographics_unknown['gender'] = 'unknown'"
   ]
  },
  {
   "cell_type": "code",
   "execution_count": 15,
   "metadata": {},
   "outputs": [],
   "source": [
    "demographics_male_g = demographics_male.groupby('page_name').sum()\n",
    "demographics_female_g = demographics_female.groupby('page_name').sum()\n",
    "demographics_unknown_g = demographics_unknown.groupby('page_name').sum()\n",
    "\n",
    "\n",
    "\n",
    "demographics_male_g['gender'] = 'male'\n",
    "demographics_female_g['gender'] = 'female'\n",
    "demographics_unknown_g['gender'] = 'unknown'\n"
   ]
  },
  {
   "cell_type": "code",
   "execution_count": 16,
   "metadata": {},
   "outputs": [],
   "source": [
    "frames = [demographics_female_g,demographics_male_g,demographics_unknown_g]\n",
    "total = pd.concat(frames)\n"
   ]
  },
  {
   "cell_type": "code",
   "execution_count": 17,
   "metadata": {},
   "outputs": [],
   "source": [
    "test = total.groupby('gender').sum()"
   ]
  },
  {
   "cell_type": "code",
   "execution_count": 18,
   "metadata": {},
   "outputs": [
    {
     "data": {
      "text/html": [
       "<div>\n",
       "<style scoped>\n",
       "    .dataframe tbody tr th:only-of-type {\n",
       "        vertical-align: middle;\n",
       "    }\n",
       "\n",
       "    .dataframe tbody tr th {\n",
       "        vertical-align: top;\n",
       "    }\n",
       "\n",
       "    .dataframe thead th {\n",
       "        text-align: right;\n",
       "    }\n",
       "</style>\n",
       "<table border=\"1\" class=\"dataframe\">\n",
       "  <thead>\n",
       "    <tr style=\"text-align: right;\">\n",
       "      <th></th>\n",
       "      <th>gender</th>\n",
       "      <th>impressions_hi</th>\n",
       "      <th>13-17</th>\n",
       "      <th>18-24</th>\n",
       "      <th>25-34</th>\n",
       "      <th>35-44</th>\n",
       "      <th>45-54</th>\n",
       "      <th>55-64</th>\n",
       "      <th>65+</th>\n",
       "      <th>unknown</th>\n",
       "    </tr>\n",
       "  </thead>\n",
       "  <tbody>\n",
       "    <tr>\n",
       "      <th>0</th>\n",
       "      <td>female</td>\n",
       "      <td>124043542</td>\n",
       "      <td>24112.395678</td>\n",
       "      <td>9.969416e+06</td>\n",
       "      <td>1.476539e+07</td>\n",
       "      <td>1.204703e+07</td>\n",
       "      <td>1.017166e+07</td>\n",
       "      <td>1.213529e+07</td>\n",
       "      <td>1.524924e+07</td>\n",
       "      <td>0.000000</td>\n",
       "    </tr>\n",
       "    <tr>\n",
       "      <th>1</th>\n",
       "      <td>male</td>\n",
       "      <td>124043542</td>\n",
       "      <td>16043.932623</td>\n",
       "      <td>5.875263e+06</td>\n",
       "      <td>1.168603e+07</td>\n",
       "      <td>8.362113e+06</td>\n",
       "      <td>6.763811e+06</td>\n",
       "      <td>7.064451e+06</td>\n",
       "      <td>8.230505e+06</td>\n",
       "      <td>0.000000</td>\n",
       "    </tr>\n",
       "    <tr>\n",
       "      <th>2</th>\n",
       "      <td>unknown</td>\n",
       "      <td>124043542</td>\n",
       "      <td>900.273454</td>\n",
       "      <td>2.381870e+05</td>\n",
       "      <td>3.929163e+05</td>\n",
       "      <td>3.048581e+05</td>\n",
       "      <td>2.101015e+05</td>\n",
       "      <td>2.237900e+05</td>\n",
       "      <td>3.113589e+05</td>\n",
       "      <td>1061.791707</td>\n",
       "    </tr>\n",
       "  </tbody>\n",
       "</table>\n",
       "</div>"
      ],
      "text/plain": [
       "    gender  impressions_hi         13-17         18-24         25-34  \\\n",
       "0   female       124043542  24112.395678  9.969416e+06  1.476539e+07   \n",
       "1     male       124043542  16043.932623  5.875263e+06  1.168603e+07   \n",
       "2  unknown       124043542    900.273454  2.381870e+05  3.929163e+05   \n",
       "\n",
       "          35-44         45-54         55-64           65+      unknown  \n",
       "0  1.204703e+07  1.017166e+07  1.213529e+07  1.524924e+07     0.000000  \n",
       "1  8.362113e+06  6.763811e+06  7.064451e+06  8.230505e+06     0.000000  \n",
       "2  3.048581e+05  2.101015e+05  2.237900e+05  3.113589e+05  1061.791707  "
      ]
     },
     "execution_count": 18,
     "metadata": {},
     "output_type": "execute_result"
    }
   ],
   "source": [
    "test.reset_index(inplace=True)\n",
    "test"
   ]
  },
  {
   "cell_type": "code",
   "execution_count": 19,
   "metadata": {},
   "outputs": [],
   "source": [
    "test.set_index('gender', inplace=True)\n"
   ]
  },
  {
   "cell_type": "code",
   "execution_count": 20,
   "metadata": {},
   "outputs": [],
   "source": [
    "#dropping some columns\n",
    "test.drop(columns='impressions_hi', inplace=True)\n",
    "test.drop(columns='13-17', inplace=True)\n",
    "test.drop(columns='unknown', inplace=True)"
   ]
  },
  {
   "cell_type": "code",
   "execution_count": 21,
   "metadata": {},
   "outputs": [
    {
     "data": {
      "text/plain": [
       "<AxesSubplot:>"
      ]
     },
     "execution_count": 21,
     "metadata": {},
     "output_type": "execute_result"
    },
    {
     "data": {
      "image/png": "[encoded data removed]",
      "text/plain": [
       "<Figure size 432x288 with 1 Axes>"
      ]
     },
     "metadata": {
      "needs_background": "light"
     },
     "output_type": "display_data"
    }
   ],
   "source": [
    "#Overall distribution for all politicians\n",
    "test.T.plot(kind='bar', style='Spring')\n"
   ]
  },
  {
   "cell_type": "code",
   "execution_count": 22,
   "metadata": {},
   "outputs": [],
   "source": [
    "test_2 = test.T.drop(columns='unknown')\n",
    "test_2 = test_2.reset_index()\n"
   ]
  },
  {
   "cell_type": "code",
   "execution_count": 23,
   "metadata": {},
   "outputs": [],
   "source": [
    "test_2['male'] = test_2['male'].apply(lambda x: x*(-1))\n"
   ]
  },
  {
   "cell_type": "code",
   "execution_count": 24,
   "metadata": {},
   "outputs": [
    {
     "data": {
      "text/html": [
       "<div>\n",
       "<style scoped>\n",
       "    .dataframe tbody tr th:only-of-type {\n",
       "        vertical-align: middle;\n",
       "    }\n",
       "\n",
       "    .dataframe tbody tr th {\n",
       "        vertical-align: top;\n",
       "    }\n",
       "\n",
       "    .dataframe thead th {\n",
       "        text-align: right;\n",
       "    }\n",
       "</style>\n",
       "<table border=\"1\" class=\"dataframe\">\n",
       "  <thead>\n",
       "    <tr style=\"text-align: right;\">\n",
       "      <th>gender</th>\n",
       "      <th>index</th>\n",
       "      <th>female</th>\n",
       "      <th>male</th>\n",
       "    </tr>\n",
       "  </thead>\n",
       "  <tbody>\n",
       "    <tr>\n",
       "      <th>0</th>\n",
       "      <td>18-24</td>\n",
       "      <td>9.969416e+06</td>\n",
       "      <td>-5.875263e+06</td>\n",
       "    </tr>\n",
       "    <tr>\n",
       "      <th>1</th>\n",
       "      <td>25-34</td>\n",
       "      <td>1.476539e+07</td>\n",
       "      <td>-1.168603e+07</td>\n",
       "    </tr>\n",
       "    <tr>\n",
       "      <th>2</th>\n",
       "      <td>35-44</td>\n",
       "      <td>1.204703e+07</td>\n",
       "      <td>-8.362113e+06</td>\n",
       "    </tr>\n",
       "    <tr>\n",
       "      <th>3</th>\n",
       "      <td>45-54</td>\n",
       "      <td>1.017166e+07</td>\n",
       "      <td>-6.763811e+06</td>\n",
       "    </tr>\n",
       "    <tr>\n",
       "      <th>4</th>\n",
       "      <td>55-64</td>\n",
       "      <td>1.213529e+07</td>\n",
       "      <td>-7.064451e+06</td>\n",
       "    </tr>\n",
       "    <tr>\n",
       "      <th>5</th>\n",
       "      <td>65+</td>\n",
       "      <td>1.524924e+07</td>\n",
       "      <td>-8.230505e+06</td>\n",
       "    </tr>\n",
       "  </tbody>\n",
       "</table>\n",
       "</div>"
      ],
      "text/plain": [
       "gender  index        female          male\n",
       "0       18-24  9.969416e+06 -5.875263e+06\n",
       "1       25-34  1.476539e+07 -1.168603e+07\n",
       "2       35-44  1.204703e+07 -8.362113e+06\n",
       "3       45-54  1.017166e+07 -6.763811e+06\n",
       "4       55-64  1.213529e+07 -7.064451e+06\n",
       "5         65+  1.524924e+07 -8.230505e+06"
      ]
     },
     "execution_count": 24,
     "metadata": {},
     "output_type": "execute_result"
    }
   ],
   "source": [
    "test_2"
   ]
  },
  {
   "cell_type": "code",
   "execution_count": 25,
   "metadata": {},
   "outputs": [
    {
     "data": {
      "text/plain": [
       "[Text(0.5, 0, 'Population (hundreds of millions)'),\n",
       " Text(0, 0.5, 'Age-Group'),\n",
       " Text(0.5, 1.0, 'Total population distribution')]"
      ]
     },
     "execution_count": 25,
     "metadata": {},
     "output_type": "execute_result"
    },
    {
     "data": {
      "image/png": "[encoded data removed]",
      "text/plain": [
       "<Figure size 432x288 with 1 Axes>"
      ]
     },
     "metadata": {
      "needs_background": "light"
     },
     "output_type": "display_data"
    }
   ],
   "source": [
    "import seaborn as sns\n",
    "\n",
    "sns.color_palette(\"Blues\", as_cmap=True)\n",
    "\n",
    "\n",
    "age_class = ['18-24', '25-34', '35-44', '45-54', '55-64', '65+']\n",
    "\n",
    "pyramid = sns.barplot(x='male', y='index', data=test_2, order=age_class, color=\"green\", saturation=0.3)\n",
    "pyramid = sns.barplot(x='female', y='index', data=test_2, order=age_class, color=\"green\", saturation=0.75)\n",
    "\n",
    "pyramid.set(xlabel=\"Population (hundreds of millions)\", ylabel=\"Age-Group\", title = \"Total population distribution\")\n"
   ]
  },
  {
   "cell_type": "code",
   "execution_count": 26,
   "metadata": {},
   "outputs": [
    {
     "data": {
      "text/html": [
       "<div>\n",
       "<style scoped>\n",
       "    .dataframe tbody tr th:only-of-type {\n",
       "        vertical-align: middle;\n",
       "    }\n",
       "\n",
       "    .dataframe tbody tr th {\n",
       "        vertical-align: top;\n",
       "    }\n",
       "\n",
       "    .dataframe thead th {\n",
       "        text-align: right;\n",
       "    }\n",
       "</style>\n",
       "<table border=\"1\" class=\"dataframe\">\n",
       "  <thead>\n",
       "    <tr style=\"text-align: right;\">\n",
       "      <th></th>\n",
       "      <th>18-24</th>\n",
       "      <th>25-34</th>\n",
       "      <th>35-44</th>\n",
       "      <th>45-54</th>\n",
       "      <th>55-64</th>\n",
       "      <th>65+</th>\n",
       "    </tr>\n",
       "    <tr>\n",
       "      <th>gender</th>\n",
       "      <th></th>\n",
       "      <th></th>\n",
       "      <th></th>\n",
       "      <th></th>\n",
       "      <th></th>\n",
       "      <th></th>\n",
       "    </tr>\n",
       "  </thead>\n",
       "  <tbody>\n",
       "    <tr>\n",
       "      <th>female</th>\n",
       "      <td>9.969416e+06</td>\n",
       "      <td>1.476539e+07</td>\n",
       "      <td>1.204703e+07</td>\n",
       "      <td>1.017166e+07</td>\n",
       "      <td>1.213529e+07</td>\n",
       "      <td>1.524924e+07</td>\n",
       "    </tr>\n",
       "    <tr>\n",
       "      <th>male</th>\n",
       "      <td>5.875263e+06</td>\n",
       "      <td>1.168603e+07</td>\n",
       "      <td>8.362113e+06</td>\n",
       "      <td>6.763811e+06</td>\n",
       "      <td>7.064451e+06</td>\n",
       "      <td>8.230505e+06</td>\n",
       "    </tr>\n",
       "    <tr>\n",
       "      <th>unknown</th>\n",
       "      <td>2.381870e+05</td>\n",
       "      <td>3.929163e+05</td>\n",
       "      <td>3.048581e+05</td>\n",
       "      <td>2.101015e+05</td>\n",
       "      <td>2.237900e+05</td>\n",
       "      <td>3.113589e+05</td>\n",
       "    </tr>\n",
       "  </tbody>\n",
       "</table>\n",
       "</div>"
      ],
      "text/plain": [
       "                18-24         25-34         35-44         45-54         55-64  \\\n",
       "gender                                                                          \n",
       "female   9.969416e+06  1.476539e+07  1.204703e+07  1.017166e+07  1.213529e+07   \n",
       "male     5.875263e+06  1.168603e+07  8.362113e+06  6.763811e+06  7.064451e+06   \n",
       "unknown  2.381870e+05  3.929163e+05  3.048581e+05  2.101015e+05  2.237900e+05   \n",
       "\n",
       "                  65+  \n",
       "gender                 \n",
       "female   1.524924e+07  \n",
       "male     8.230505e+06  \n",
       "unknown  3.113589e+05  "
      ]
     },
     "execution_count": 26,
     "metadata": {},
     "output_type": "execute_result"
    }
   ],
   "source": [
    "test"
   ]
  },
  {
   "cell_type": "markdown",
   "metadata": {},
   "source": [
    "# Democrats vs. Republicans"
   ]
  },
  {
   "cell_type": "code",
   "execution_count": 27,
   "metadata": {},
   "outputs": [],
   "source": [
    "congress = pd.read_csv('/home/gustavgyrst/Desktop/research_project/political-ad-api/src/data_sets/legislators_fb_info_final.csv')\n"
   ]
  },
  {
   "cell_type": "code",
   "execution_count": 28,
   "metadata": {},
   "outputs": [
    {
     "data": {
      "text/html": [
       "<div>\n",
       "<style scoped>\n",
       "    .dataframe tbody tr th:only-of-type {\n",
       "        vertical-align: middle;\n",
       "    }\n",
       "\n",
       "    .dataframe tbody tr th {\n",
       "        vertical-align: top;\n",
       "    }\n",
       "\n",
       "    .dataframe thead th {\n",
       "        text-align: right;\n",
       "    }\n",
       "</style>\n",
       "<table border=\"1\" class=\"dataframe\">\n",
       "  <thead>\n",
       "    <tr style=\"text-align: right;\">\n",
       "      <th></th>\n",
       "      <th>Unnamed: 0</th>\n",
       "      <th>Unnamed: 0.1</th>\n",
       "      <th>first_name</th>\n",
       "      <th>last_name</th>\n",
       "      <th>full_name</th>\n",
       "      <th>type</th>\n",
       "      <th>state</th>\n",
       "      <th>district</th>\n",
       "      <th>party</th>\n",
       "      <th>facebook</th>\n",
       "      <th>page_name</th>\n",
       "      <th>identifier</th>\n",
       "      <th>page_id</th>\n",
       "    </tr>\n",
       "  </thead>\n",
       "  <tbody>\n",
       "    <tr>\n",
       "      <th>0</th>\n",
       "      <td>0</td>\n",
       "      <td>0</td>\n",
       "      <td>Sherrod</td>\n",
       "      <td>Brown</td>\n",
       "      <td>Sherrod Brown</td>\n",
       "      <td>sen</td>\n",
       "      <td>OH</td>\n",
       "      <td>NaN</td>\n",
       "      <td>Democrat</td>\n",
       "      <td>SenatorSherrodBrown</td>\n",
       "      <td>NaN</td>\n",
       "      <td>0</td>\n",
       "      <td>6266829799</td>\n",
       "    </tr>\n",
       "    <tr>\n",
       "      <th>1</th>\n",
       "      <td>1</td>\n",
       "      <td>1</td>\n",
       "      <td>Maria</td>\n",
       "      <td>Cantwell</td>\n",
       "      <td>Maria Cantwell</td>\n",
       "      <td>sen</td>\n",
       "      <td>WA</td>\n",
       "      <td>NaN</td>\n",
       "      <td>Democrat</td>\n",
       "      <td>senatorcantwell</td>\n",
       "      <td>Senator Maria Cantwell</td>\n",
       "      <td>100044609161538</td>\n",
       "      <td>9351652533</td>\n",
       "    </tr>\n",
       "    <tr>\n",
       "      <th>2</th>\n",
       "      <td>2</td>\n",
       "      <td>2</td>\n",
       "      <td>Benjamin</td>\n",
       "      <td>Cardin</td>\n",
       "      <td>Benjamin L. Cardin</td>\n",
       "      <td>sen</td>\n",
       "      <td>MD</td>\n",
       "      <td>NaN</td>\n",
       "      <td>Democrat</td>\n",
       "      <td>senatorbencardin</td>\n",
       "      <td>Senator Ben Cardin</td>\n",
       "      <td>100044326544838</td>\n",
       "      <td>no match</td>\n",
       "    </tr>\n",
       "    <tr>\n",
       "      <th>3</th>\n",
       "      <td>3</td>\n",
       "      <td>3</td>\n",
       "      <td>Thomas</td>\n",
       "      <td>Carper</td>\n",
       "      <td>Thomas R. Carper</td>\n",
       "      <td>sen</td>\n",
       "      <td>DE</td>\n",
       "      <td>NaN</td>\n",
       "      <td>Democrat</td>\n",
       "      <td>tomcarper</td>\n",
       "      <td>Senator Tom Carper</td>\n",
       "      <td>100044593172202</td>\n",
       "      <td>165571920202215</td>\n",
       "    </tr>\n",
       "    <tr>\n",
       "      <th>4</th>\n",
       "      <td>4</td>\n",
       "      <td>4</td>\n",
       "      <td>Robert</td>\n",
       "      <td>Casey</td>\n",
       "      <td>Robert P. Casey, Jr.</td>\n",
       "      <td>sen</td>\n",
       "      <td>PA</td>\n",
       "      <td>NaN</td>\n",
       "      <td>Democrat</td>\n",
       "      <td>SenatorBobCasey</td>\n",
       "      <td>U.S. Senator Bob Casey</td>\n",
       "      <td>100044143479624</td>\n",
       "      <td>6781166087</td>\n",
       "    </tr>\n",
       "    <tr>\n",
       "      <th>...</th>\n",
       "      <td>...</td>\n",
       "      <td>...</td>\n",
       "      <td>...</td>\n",
       "      <td>...</td>\n",
       "      <td>...</td>\n",
       "      <td>...</td>\n",
       "      <td>...</td>\n",
       "      <td>...</td>\n",
       "      <td>...</td>\n",
       "      <td>...</td>\n",
       "      <td>...</td>\n",
       "      <td>...</td>\n",
       "      <td>...</td>\n",
       "    </tr>\n",
       "    <tr>\n",
       "      <th>533</th>\n",
       "      <td>533</td>\n",
       "      <td>533</td>\n",
       "      <td>Claudia</td>\n",
       "      <td>Tenney</td>\n",
       "      <td>Claudia Tenney</td>\n",
       "      <td>rep</td>\n",
       "      <td>NY</td>\n",
       "      <td>22.0</td>\n",
       "      <td>Republican</td>\n",
       "      <td>NaN</td>\n",
       "      <td>NaN</td>\n",
       "      <td>0</td>\n",
       "      <td>183020072173458</td>\n",
       "    </tr>\n",
       "    <tr>\n",
       "      <th>534</th>\n",
       "      <td>534</td>\n",
       "      <td>534</td>\n",
       "      <td>Julia</td>\n",
       "      <td>Letlow</td>\n",
       "      <td>Julia Letlow</td>\n",
       "      <td>rep</td>\n",
       "      <td>LA</td>\n",
       "      <td>5.0</td>\n",
       "      <td>Republican</td>\n",
       "      <td>NaN</td>\n",
       "      <td>NaN</td>\n",
       "      <td>0</td>\n",
       "      <td>101501768597429</td>\n",
       "    </tr>\n",
       "    <tr>\n",
       "      <th>535</th>\n",
       "      <td>535</td>\n",
       "      <td>535</td>\n",
       "      <td>Troy</td>\n",
       "      <td>Carter</td>\n",
       "      <td>Troy A. Carter</td>\n",
       "      <td>rep</td>\n",
       "      <td>LA</td>\n",
       "      <td>2.0</td>\n",
       "      <td>Democrat</td>\n",
       "      <td>NaN</td>\n",
       "      <td>NaN</td>\n",
       "      <td>0</td>\n",
       "      <td>876319055750124</td>\n",
       "    </tr>\n",
       "    <tr>\n",
       "      <th>536</th>\n",
       "      <td>536</td>\n",
       "      <td>536</td>\n",
       "      <td>Melanie</td>\n",
       "      <td>Stansbury</td>\n",
       "      <td>Melanie A. Stansbury</td>\n",
       "      <td>rep</td>\n",
       "      <td>NM</td>\n",
       "      <td>1.0</td>\n",
       "      <td>Democrat</td>\n",
       "      <td>NaN</td>\n",
       "      <td>NaN</td>\n",
       "      <td>0</td>\n",
       "      <td>128551641258085</td>\n",
       "    </tr>\n",
       "    <tr>\n",
       "      <th>537</th>\n",
       "      <td>537</td>\n",
       "      <td>537</td>\n",
       "      <td>Jake</td>\n",
       "      <td>Ellzey</td>\n",
       "      <td>Jake Ellzey</td>\n",
       "      <td>rep</td>\n",
       "      <td>TX</td>\n",
       "      <td>6.0</td>\n",
       "      <td>Republican</td>\n",
       "      <td>NaN</td>\n",
       "      <td>NaN</td>\n",
       "      <td>0</td>\n",
       "      <td>512954815727434</td>\n",
       "    </tr>\n",
       "  </tbody>\n",
       "</table>\n",
       "<p>538 rows × 13 columns</p>\n",
       "</div>"
      ],
      "text/plain": [
       "     Unnamed: 0  Unnamed: 0.1 first_name  last_name             full_name  \\\n",
       "0             0             0    Sherrod      Brown         Sherrod Brown   \n",
       "1             1             1      Maria   Cantwell        Maria Cantwell   \n",
       "2             2             2   Benjamin     Cardin    Benjamin L. Cardin   \n",
       "3             3             3     Thomas     Carper      Thomas R. Carper   \n",
       "4             4             4     Robert      Casey  Robert P. Casey, Jr.   \n",
       "..          ...           ...        ...        ...                   ...   \n",
       "533         533           533    Claudia     Tenney        Claudia Tenney   \n",
       "534         534           534      Julia     Letlow          Julia Letlow   \n",
       "535         535           535       Troy     Carter        Troy A. Carter   \n",
       "536         536           536    Melanie  Stansbury  Melanie A. Stansbury   \n",
       "537         537           537       Jake     Ellzey           Jake Ellzey   \n",
       "\n",
       "    type state  district       party             facebook  \\\n",
       "0    sen    OH       NaN    Democrat  SenatorSherrodBrown   \n",
       "1    sen    WA       NaN    Democrat      senatorcantwell   \n",
       "2    sen    MD       NaN    Democrat     senatorbencardin   \n",
       "3    sen    DE       NaN    Democrat            tomcarper   \n",
       "4    sen    PA       NaN    Democrat      SenatorBobCasey   \n",
       "..   ...   ...       ...         ...                  ...   \n",
       "533  rep    NY      22.0  Republican                  NaN   \n",
       "534  rep    LA       5.0  Republican                  NaN   \n",
       "535  rep    LA       2.0    Democrat                  NaN   \n",
       "536  rep    NM       1.0    Democrat                  NaN   \n",
       "537  rep    TX       6.0  Republican                  NaN   \n",
       "\n",
       "                  page_name       identifier          page_id  \n",
       "0                       NaN                0       6266829799  \n",
       "1    Senator Maria Cantwell  100044609161538       9351652533  \n",
       "2        Senator Ben Cardin  100044326544838         no match  \n",
       "3        Senator Tom Carper  100044593172202  165571920202215  \n",
       "4    U.S. Senator Bob Casey  100044143479624       6781166087  \n",
       "..                      ...              ...              ...  \n",
       "533                     NaN                0  183020072173458  \n",
       "534                     NaN                0  101501768597429  \n",
       "535                     NaN                0  876319055750124  \n",
       "536                     NaN                0  128551641258085  \n",
       "537                     NaN                0  512954815727434  \n",
       "\n",
       "[538 rows x 13 columns]"
      ]
     },
     "execution_count": 28,
     "metadata": {},
     "output_type": "execute_result"
    }
   ],
   "source": [
    "congress"
   ]
  },
  {
   "cell_type": "code",
   "execution_count": 29,
   "metadata": {},
   "outputs": [],
   "source": [
    "party = 'Republican'\n",
    "\n",
    "party_members = congress[congress[\"party\"] == party]  # get all page id's that match the given party\n",
    "\n",
    "#Male\n",
    "demographics_democrats_male = demographics_male[demographics_male.page_id.isin(party_members.page_id)] # get all the ads where page id matches with the party page id's\n",
    "\n",
    "#Female\n",
    "demographics_democrats_female = demographics_female[demographics_female.page_id.isin(party_members.page_id)] # get all the ads where page id matches with the party page id's\n",
    "\n",
    "#Unknown\n",
    "demographics_democrats_unknown = demographics_unknown[demographics_unknown.page_id.isin(party_members.page_id)]\n"
   ]
  },
  {
   "cell_type": "code",
   "execution_count": 30,
   "metadata": {},
   "outputs": [],
   "source": [
    "demographics_democrats_male_g = demographics_democrats_male.groupby('page_id').sum()\n",
    "demographics_democrats_female_g = demographics_democrats_female.groupby('page_id').sum()\n",
    "demographics_democrats_unknown_g = demographics_democrats_unknown.groupby('page_id').sum()\n",
    "\n",
    "demographics_democrats_male_g['gender'] = 'male'\n",
    "demographics_democrats_female_g['gender'] = 'female'\n",
    "demographics_democrats_unknown_g['gender'] = 'unknown'\n"
   ]
  },
  {
   "cell_type": "code",
   "execution_count": 31,
   "metadata": {},
   "outputs": [],
   "source": [
    "#concatenating the frames\n",
    "frames_democrats = [demographics_democrats_female_g,demographics_democrats_male_g,demographics_democrats_unknown_g]\n",
    "total_democrats = pd.concat(frames_democrats)\n"
   ]
  },
  {
   "cell_type": "code",
   "execution_count": 32,
   "metadata": {},
   "outputs": [],
   "source": [
    "democrats = total_democrats.groupby('gender').sum()\n"
   ]
  },
  {
   "cell_type": "code",
   "execution_count": 33,
   "metadata": {},
   "outputs": [
    {
     "data": {
      "text/html": [
       "<div>\n",
       "<style scoped>\n",
       "    .dataframe tbody tr th:only-of-type {\n",
       "        vertical-align: middle;\n",
       "    }\n",
       "\n",
       "    .dataframe tbody tr th {\n",
       "        vertical-align: top;\n",
       "    }\n",
       "\n",
       "    .dataframe thead th {\n",
       "        text-align: right;\n",
       "    }\n",
       "</style>\n",
       "<table border=\"1\" class=\"dataframe\">\n",
       "  <thead>\n",
       "    <tr style=\"text-align: right;\">\n",
       "      <th></th>\n",
       "      <th>impressions_hi</th>\n",
       "      <th>13-17</th>\n",
       "      <th>18-24</th>\n",
       "      <th>25-34</th>\n",
       "      <th>35-44</th>\n",
       "      <th>45-54</th>\n",
       "      <th>55-64</th>\n",
       "      <th>65+</th>\n",
       "      <th>unknown</th>\n",
       "    </tr>\n",
       "    <tr>\n",
       "      <th>gender</th>\n",
       "      <th></th>\n",
       "      <th></th>\n",
       "      <th></th>\n",
       "      <th></th>\n",
       "      <th></th>\n",
       "      <th></th>\n",
       "      <th></th>\n",
       "      <th></th>\n",
       "      <th></th>\n",
       "    </tr>\n",
       "  </thead>\n",
       "  <tbody>\n",
       "    <tr>\n",
       "      <th>female</th>\n",
       "      <td>1286935</td>\n",
       "      <td>0.0</td>\n",
       "      <td>18173.380571</td>\n",
       "      <td>108245.273021</td>\n",
       "      <td>147312.167424</td>\n",
       "      <td>117743.190428</td>\n",
       "      <td>140124.703236</td>\n",
       "      <td>217771.088098</td>\n",
       "      <td>0.0</td>\n",
       "    </tr>\n",
       "    <tr>\n",
       "      <th>male</th>\n",
       "      <td>1286935</td>\n",
       "      <td>0.0</td>\n",
       "      <td>29717.857937</td>\n",
       "      <td>55796.279061</td>\n",
       "      <td>50546.114583</td>\n",
       "      <td>77463.555560</td>\n",
       "      <td>139377.755077</td>\n",
       "      <td>179935.128706</td>\n",
       "      <td>0.0</td>\n",
       "    </tr>\n",
       "    <tr>\n",
       "      <th>unknown</th>\n",
       "      <td>1286935</td>\n",
       "      <td>0.0</td>\n",
       "      <td>152.526977</td>\n",
       "      <td>403.176853</td>\n",
       "      <td>603.341067</td>\n",
       "      <td>729.292416</td>\n",
       "      <td>1106.548973</td>\n",
       "      <td>1733.903014</td>\n",
       "      <td>0.0</td>\n",
       "    </tr>\n",
       "  </tbody>\n",
       "</table>\n",
       "</div>"
      ],
      "text/plain": [
       "         impressions_hi  13-17         18-24          25-34          35-44  \\\n",
       "gender                                                                       \n",
       "female          1286935    0.0  18173.380571  108245.273021  147312.167424   \n",
       "male            1286935    0.0  29717.857937   55796.279061   50546.114583   \n",
       "unknown         1286935    0.0    152.526977     403.176853     603.341067   \n",
       "\n",
       "                 45-54          55-64            65+  unknown  \n",
       "gender                                                         \n",
       "female   117743.190428  140124.703236  217771.088098      0.0  \n",
       "male      77463.555560  139377.755077  179935.128706      0.0  \n",
       "unknown     729.292416    1106.548973    1733.903014      0.0  "
      ]
     },
     "execution_count": 33,
     "metadata": {},
     "output_type": "execute_result"
    }
   ],
   "source": [
    "democrats"
   ]
  },
  {
   "cell_type": "code",
   "execution_count": 34,
   "metadata": {},
   "outputs": [],
   "source": [
    "democrats.reset_index(inplace=True)\n",
    "\n"
   ]
  },
  {
   "cell_type": "code",
   "execution_count": 35,
   "metadata": {},
   "outputs": [
    {
     "data": {
      "text/html": [
       "<div>\n",
       "<style scoped>\n",
       "    .dataframe tbody tr th:only-of-type {\n",
       "        vertical-align: middle;\n",
       "    }\n",
       "\n",
       "    .dataframe tbody tr th {\n",
       "        vertical-align: top;\n",
       "    }\n",
       "\n",
       "    .dataframe thead th {\n",
       "        text-align: right;\n",
       "    }\n",
       "</style>\n",
       "<table border=\"1\" class=\"dataframe\">\n",
       "  <thead>\n",
       "    <tr style=\"text-align: right;\">\n",
       "      <th></th>\n",
       "      <th>gender</th>\n",
       "      <th>impressions_hi</th>\n",
       "      <th>13-17</th>\n",
       "      <th>18-24</th>\n",
       "      <th>25-34</th>\n",
       "      <th>35-44</th>\n",
       "      <th>45-54</th>\n",
       "      <th>55-64</th>\n",
       "      <th>65+</th>\n",
       "      <th>unknown</th>\n",
       "    </tr>\n",
       "  </thead>\n",
       "  <tbody>\n",
       "    <tr>\n",
       "      <th>0</th>\n",
       "      <td>female</td>\n",
       "      <td>1286935</td>\n",
       "      <td>0.0</td>\n",
       "      <td>18173.380571</td>\n",
       "      <td>108245.273021</td>\n",
       "      <td>147312.167424</td>\n",
       "      <td>117743.190428</td>\n",
       "      <td>140124.703236</td>\n",
       "      <td>217771.088098</td>\n",
       "      <td>0.0</td>\n",
       "    </tr>\n",
       "    <tr>\n",
       "      <th>1</th>\n",
       "      <td>male</td>\n",
       "      <td>1286935</td>\n",
       "      <td>0.0</td>\n",
       "      <td>29717.857937</td>\n",
       "      <td>55796.279061</td>\n",
       "      <td>50546.114583</td>\n",
       "      <td>77463.555560</td>\n",
       "      <td>139377.755077</td>\n",
       "      <td>179935.128706</td>\n",
       "      <td>0.0</td>\n",
       "    </tr>\n",
       "    <tr>\n",
       "      <th>2</th>\n",
       "      <td>unknown</td>\n",
       "      <td>1286935</td>\n",
       "      <td>0.0</td>\n",
       "      <td>152.526977</td>\n",
       "      <td>403.176853</td>\n",
       "      <td>603.341067</td>\n",
       "      <td>729.292416</td>\n",
       "      <td>1106.548973</td>\n",
       "      <td>1733.903014</td>\n",
       "      <td>0.0</td>\n",
       "    </tr>\n",
       "  </tbody>\n",
       "</table>\n",
       "</div>"
      ],
      "text/plain": [
       "    gender  impressions_hi  13-17         18-24          25-34          35-44  \\\n",
       "0   female         1286935    0.0  18173.380571  108245.273021  147312.167424   \n",
       "1     male         1286935    0.0  29717.857937   55796.279061   50546.114583   \n",
       "2  unknown         1286935    0.0    152.526977     403.176853     603.341067   \n",
       "\n",
       "           45-54          55-64            65+  unknown  \n",
       "0  117743.190428  140124.703236  217771.088098      0.0  \n",
       "1   77463.555560  139377.755077  179935.128706      0.0  \n",
       "2     729.292416    1106.548973    1733.903014      0.0  "
      ]
     },
     "execution_count": 35,
     "metadata": {},
     "output_type": "execute_result"
    }
   ],
   "source": [
    "democrats"
   ]
  },
  {
   "cell_type": "code",
   "execution_count": 36,
   "metadata": {},
   "outputs": [],
   "source": [
    "democrats2 = democrats.drop(democrats.index[2])"
   ]
  },
  {
   "cell_type": "code",
   "execution_count": 37,
   "metadata": {},
   "outputs": [
    {
     "data": {
      "text/html": [
       "<div>\n",
       "<style scoped>\n",
       "    .dataframe tbody tr th:only-of-type {\n",
       "        vertical-align: middle;\n",
       "    }\n",
       "\n",
       "    .dataframe tbody tr th {\n",
       "        vertical-align: top;\n",
       "    }\n",
       "\n",
       "    .dataframe thead th {\n",
       "        text-align: right;\n",
       "    }\n",
       "</style>\n",
       "<table border=\"1\" class=\"dataframe\">\n",
       "  <thead>\n",
       "    <tr style=\"text-align: right;\">\n",
       "      <th></th>\n",
       "      <th>gender</th>\n",
       "      <th>impressions_hi</th>\n",
       "      <th>13-17</th>\n",
       "      <th>18-24</th>\n",
       "      <th>25-34</th>\n",
       "      <th>35-44</th>\n",
       "      <th>45-54</th>\n",
       "      <th>55-64</th>\n",
       "      <th>65+</th>\n",
       "      <th>unknown</th>\n",
       "    </tr>\n",
       "  </thead>\n",
       "  <tbody>\n",
       "    <tr>\n",
       "      <th>0</th>\n",
       "      <td>female</td>\n",
       "      <td>1286935</td>\n",
       "      <td>0.0</td>\n",
       "      <td>18173.380571</td>\n",
       "      <td>108245.273021</td>\n",
       "      <td>147312.167424</td>\n",
       "      <td>117743.190428</td>\n",
       "      <td>140124.703236</td>\n",
       "      <td>217771.088098</td>\n",
       "      <td>0.0</td>\n",
       "    </tr>\n",
       "    <tr>\n",
       "      <th>1</th>\n",
       "      <td>male</td>\n",
       "      <td>1286935</td>\n",
       "      <td>0.0</td>\n",
       "      <td>29717.857937</td>\n",
       "      <td>55796.279061</td>\n",
       "      <td>50546.114583</td>\n",
       "      <td>77463.555560</td>\n",
       "      <td>139377.755077</td>\n",
       "      <td>179935.128706</td>\n",
       "      <td>0.0</td>\n",
       "    </tr>\n",
       "  </tbody>\n",
       "</table>\n",
       "</div>"
      ],
      "text/plain": [
       "   gender  impressions_hi  13-17         18-24          25-34          35-44  \\\n",
       "0  female         1286935    0.0  18173.380571  108245.273021  147312.167424   \n",
       "1    male         1286935    0.0  29717.857937   55796.279061   50546.114583   \n",
       "\n",
       "           45-54          55-64            65+  unknown  \n",
       "0  117743.190428  140124.703236  217771.088098      0.0  \n",
       "1   77463.555560  139377.755077  179935.128706      0.0  "
      ]
     },
     "execution_count": 37,
     "metadata": {},
     "output_type": "execute_result"
    }
   ],
   "source": [
    "democrats2"
   ]
  },
  {
   "cell_type": "code",
   "execution_count": 38,
   "metadata": {},
   "outputs": [],
   "source": [
    "democrats.set_index('gender', inplace=True)\n"
   ]
  },
  {
   "cell_type": "code",
   "execution_count": 39,
   "metadata": {},
   "outputs": [],
   "source": [
    "democrats.drop(columns=['impressions_hi', '13-17', 'unknown'], inplace=True)\n",
    "democrats2.drop(columns=['impressions_hi', '13-17', 'unknown'], inplace=True)"
   ]
  },
  {
   "cell_type": "code",
   "execution_count": 40,
   "metadata": {},
   "outputs": [],
   "source": [
    "democrats2 = democrats2.set_index('gender')\n"
   ]
  },
  {
   "cell_type": "code",
   "execution_count": 41,
   "metadata": {},
   "outputs": [
    {
     "data": {
      "image/png": "[encoded data removed]",
      "text/plain": [
       "<Figure size 432x288 with 1 Axes>"
      ]
     },
     "metadata": {
      "needs_background": "light"
     },
     "output_type": "display_data"
    }
   ],
   "source": [
    "title = \"Climate Ads\" + \" (\" + party + \"s)\"\n",
    "plot = democrats.T.plot(kind='bar', style='blues' , title=title, ylabel='impressions', xlabel='age')\n",
    "\n",
    "fig = plot.get_figure()\n",
    "fig.savefig(\"Republicans_with_unknown_demographic_dist_climate_ads.pdf\")\n"
   ]
  },
  {
   "cell_type": "code",
   "execution_count": 42,
   "metadata": {},
   "outputs": [
    {
     "data": {
      "text/html": [
       "<div>\n",
       "<style scoped>\n",
       "    .dataframe tbody tr th:only-of-type {\n",
       "        vertical-align: middle;\n",
       "    }\n",
       "\n",
       "    .dataframe tbody tr th {\n",
       "        vertical-align: top;\n",
       "    }\n",
       "\n",
       "    .dataframe thead th {\n",
       "        text-align: right;\n",
       "    }\n",
       "</style>\n",
       "<table border=\"1\" class=\"dataframe\">\n",
       "  <thead>\n",
       "    <tr style=\"text-align: right;\">\n",
       "      <th>gender</th>\n",
       "      <th>female</th>\n",
       "      <th>male</th>\n",
       "    </tr>\n",
       "  </thead>\n",
       "  <tbody>\n",
       "    <tr>\n",
       "      <th>18-24</th>\n",
       "      <td>18173.380571</td>\n",
       "      <td>29717.857937</td>\n",
       "    </tr>\n",
       "    <tr>\n",
       "      <th>25-34</th>\n",
       "      <td>108245.273021</td>\n",
       "      <td>55796.279061</td>\n",
       "    </tr>\n",
       "    <tr>\n",
       "      <th>35-44</th>\n",
       "      <td>147312.167424</td>\n",
       "      <td>50546.114583</td>\n",
       "    </tr>\n",
       "    <tr>\n",
       "      <th>45-54</th>\n",
       "      <td>117743.190428</td>\n",
       "      <td>77463.555560</td>\n",
       "    </tr>\n",
       "    <tr>\n",
       "      <th>55-64</th>\n",
       "      <td>140124.703236</td>\n",
       "      <td>139377.755077</td>\n",
       "    </tr>\n",
       "    <tr>\n",
       "      <th>65+</th>\n",
       "      <td>217771.088098</td>\n",
       "      <td>179935.128706</td>\n",
       "    </tr>\n",
       "  </tbody>\n",
       "</table>\n",
       "</div>"
      ],
      "text/plain": [
       "gender         female           male\n",
       "18-24    18173.380571   29717.857937\n",
       "25-34   108245.273021   55796.279061\n",
       "35-44   147312.167424   50546.114583\n",
       "45-54   117743.190428   77463.555560\n",
       "55-64   140124.703236  139377.755077\n",
       "65+     217771.088098  179935.128706"
      ]
     },
     "execution_count": 42,
     "metadata": {},
     "output_type": "execute_result"
    }
   ],
   "source": [
    "democrats2.T"
   ]
  },
  {
   "cell_type": "code",
   "execution_count": 43,
   "metadata": {},
   "outputs": [
    {
     "data": {
      "image/png": "[encoded data removed]",
      "text/plain": [
       "<Figure size 432x288 with 1 Axes>"
      ]
     },
     "metadata": {
      "needs_background": "light"
     },
     "output_type": "display_data"
    }
   ],
   "source": [
    "\n",
    "plot_without_unknowns = democrats2.T.plot(kind='bar', style='spring', title=title, ylabel='impressions', xlabel='age')\n",
    "fig = plot.get_figure()\n",
    "fig.savefig(\"Republicans_demographic_dist_climate_ads.pdf\")\n"
   ]
  },
  {
   "cell_type": "code",
   "execution_count": 44,
   "metadata": {},
   "outputs": [],
   "source": [
    "democrats2_modified = democrats2.T.reset_index()\n"
   ]
  },
  {
   "cell_type": "code",
   "execution_count": 45,
   "metadata": {},
   "outputs": [],
   "source": [
    "democrats2_modified\n",
    "democrats2_modified['male'] = democrats2_modified['male'].apply(lambda x: x*(-1))"
   ]
  },
  {
   "cell_type": "code",
   "execution_count": 57,
   "metadata": {},
   "outputs": [
    {
     "data": {
      "text/plain": [
       "<matplotlib.legend.Legend at 0x7f2694e0e6d0>"
      ]
     },
     "execution_count": 57,
     "metadata": {},
     "output_type": "execute_result"
    },
    {
     "data": {
      "image/png": "[encoded data removed]",
      "text/plain": [
       "<Figure size 432x288 with 1 Axes>"
      ]
     },
     "metadata": {
      "needs_background": "light"
     },
     "output_type": "display_data"
    }
   ],
   "source": [
    "age_class = ['18-24', '25-34', '35-44', '45-54', '55-64', '65+']\n",
    "\n",
    "pyramid_byparty = sns.barplot(x='male', y='index', data=democrats2_modified, order=age_class, color=\"blue\", saturation=0.3)\n",
    "pyramid_byparty = sns.barplot(x='female', y='index', data=democrats2_modified, order=age_class, color=\"blue\", saturation=0.75)\n",
    "\n",
    "pyramid_byparty.set(xlabel=\"Population\", ylabel=\"Age-Group\", title = \"Total population distribution\")\n",
    "\n",
    "plt.xticks(rotation=45)\n",
    "plt.legend(\"male\")\n"
   ]
  },
  {
   "cell_type": "markdown",
   "metadata": {},
   "source": [
    "# Older Code:"
   ]
  },
  {
   "cell_type": "markdown",
   "metadata": {},
   "source": [
    "# Gender Distribution (Alone)"
   ]
  },
  {
   "cell_type": "code",
   "execution_count": 47,
   "metadata": {},
   "outputs": [
    {
     "name": "stdout",
     "output_type": "stream",
     "text": [
      "The sum of all the percentages given in the dictionary of diff values (yep they don't sum to 100 1.0000010000000001\n"
     ]
    }
   ],
   "source": [
    "#Random sum check\n",
    "sum = 0\n",
    "for i in df.demographic_distribution[0]:\n",
    "    sum += float(i.get('percentage'))\n",
    "print(\"The sum of all the percentages given in the dictionary of diff values (yep they don't sum to 100\", sum)\n",
    "#So... they don't even sum up to a hundred\n",
    "\n"
   ]
  },
  {
   "cell_type": "code",
   "execution_count": 48,
   "metadata": {},
   "outputs": [],
   "source": [
    "list_of_failed_g = []\n",
    "count_unknown =0\n",
    "def get_gender_distribution(row):\n",
    "    \n",
    "    #initializing percentages\n",
    "    percentage_male = 0.0\n",
    "    percentage_female = 0.0\n",
    "    percentage_unknown = 0.0\n",
    "\n",
    "    try:\n",
    "        for item in row.demographic_distribution:\n",
    "            if item['gender'] == 'male':\n",
    "                percentage_male += float(item['percentage'])\n",
    "            elif item['gender'] == 'female':\n",
    "                percentage_female += float(item['percentage'])\n",
    "            elif item['gender'] == 'unknown':\n",
    "                percentage_unknown += float(item['percentage'])\n",
    "                count_unknown+=1\n",
    "    except:\n",
    "        list_of_failed_g.append(lst)\n",
    "    \n",
    "    avg_imp = float(row['avg_impressions'])\n",
    "    lst_all_genders = [percentage_male, percentage_female, percentage_unknown]\n",
    "    for i in range(3):\n",
    "        lst_all_genders[i] = lst_all_genders[i]*avg_imp\n",
    "    \n",
    "    #Getting the avg impression to get the weight of the gender distribution\n",
    "    return pd.Series(lst_all_genders)"
   ]
  }
 ],
 "metadata": {
  "interpreter": {
   "hash": "98296c6fab1f2542c3ee1b453fe7ed304d5710b367ab83c3e921b0c6632a7bad"
  },
  "kernelspec": {
   "display_name": "Python 3.8.8 64-bit ('base': conda)",
   "name": "python3"
  },
  "language_info": {
   "codemirror_mode": {
    "name": "ipython",
    "version": 3
   },
   "file_extension": ".py",
   "mimetype": "text/x-python",
   "name": "python",
   "nbconvert_exporter": "python",
   "pygments_lexer": "ipython3",
   "version": "3.8.8"
  },
  "orig_nbformat": 4
 },
 "nbformat": 4,
 "nbformat_minor": 2
}
