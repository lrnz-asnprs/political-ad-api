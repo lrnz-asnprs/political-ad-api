{
 "cells": [
  {
   "cell_type": "code",
   "execution_count": 1,
   "metadata": {},
   "outputs": [],
   "source": [
    "import sys\n",
    "sys.path.append('../src') \n",
    "import pandas as pd\n",
    "import regex as re\n",
    "from src.political_ads.Preprocessor import *\n",
    "from src.political_ads.keyword_filter import *\n",
    "from src.political_ads.zeroshot_text_preprocessing import *"
   ]
  },
  {
   "cell_type": "code",
   "execution_count": 2,
   "metadata": {},
   "outputs": [],
   "source": [
    "#Code to read from our full dataset:\n",
    "preprocess = Preprocessor()\n",
    "df = preprocess.file_to_df('data/all_politicians_aggregated.txt')"
   ]
  },
  {
   "cell_type": "code",
   "execution_count": 45,
   "metadata": {},
   "outputs": [
    {
     "name": "stderr",
     "output_type": "stream",
     "text": [
      "/home/gugy/Documents/political-ad-api/src/political_ads/zeroshot_text_preprocessing.py:8: FutureWarning: The default value of regex will change from True to False in a future version.\n",
      "  dataframe['clean_text'] = dataframe['ad_creative_body'].str.replace('http[s]?://(?:[a-zA-Z]|[0-9]|[$-_@.&+]|[!*\\(\\),]|(?:%[0-9a-fA-F][0-9a-fA-F]))+', ' ')\n"
     ]
    }
   ],
   "source": [
    "#zeroshot sample\n",
    "zeroshot = pd.read_csv(\"unique_ads_preprocessed_labeled.csv\")\n",
    "\n",
    "# apply this to the dataframe\n",
    "clean_data(zeroshot)\n",
    "\n",
    "#apply it to df\n",
    "zeroshot_cleaned = zeroshot_preprocess(zeroshot)\n",
    "\n",
    "zeroshot_cleaned = zeroshot_cleaned[['zero_shot_label','clean_text']]"
   ]
  },
  {
   "cell_type": "code",
   "execution_count": null,
   "metadata": {},
   "outputs": [],
   "source": [
    "#zeroshot labels related to climate change:\n",
    "climate_zeroshot_labels = ['climate', 'environment',\n",
    "       'climate, economy', 'climate, immigration',\n",
    "       'environment, education', 'climate, education',\n",
    "       'climate, inequality',\n",
    "       'environment, economy']\n",
    "\n",
    "zeroshot_cleaned = zeroshot_cleaned[zeroshot_cleaned['zero_shot_label'].isin(climate_zeroshot_labels) == True]\n",
    "\n",
    "zeroshot_cleaned = zeroshot_cleaned[zeroshot_cleaned.clean_text.duplicated()==False]"
   ]
  },
  {
   "cell_type": "code",
   "execution_count": 29,
   "metadata": {},
   "outputs": [
    {
     "name": "stderr",
     "output_type": "stream",
     "text": [
      "/home/gugy/Documents/political-ad-api/src/political_ads/zeroshot_text_preprocessing.py:8: SettingWithCopyWarning: \n",
      "A value is trying to be set on a copy of a slice from a DataFrame.\n",
      "Try using .loc[row_indexer,col_indexer] = value instead\n",
      "\n",
      "See the caveats in the documentation: https://pandas.pydata.org/pandas-docs/stable/user_guide/indexing.html#returning-a-view-versus-a-copy\n",
      "  dataframe['clean_text'] = dataframe['ad_creative_body'].str.replace('http[s]?://(?:[a-zA-Z]|[0-9]|[$-_@.&+]|[!*\\(\\),]|(?:%[0-9a-fA-F][0-9a-fA-F]))+', ' ')\n"
     ]
    }
   ],
   "source": [
    "# Adding preprocessing steps to the dataset\n",
    "NaNFree = df[df.ad_creative_body.isna()==False]\n",
    "clean_data(NaNFree)\n",
    "full_set = zeroshot_preprocess(NaNFree)\n",
    "\n",
    "#Adding keyword climate labels\n",
    "c_filter = Filter()\n",
    "c_filter.add_climate_label(full_set)\n"
   ]
  },
  {
   "attachments": {},
   "cell_type": "markdown",
   "metadata": {},
   "source": [
    "Now to the analysis and comparison in performance of the two approaches...\n"
   ]
  },
  {
   "cell_type": "code",
   "execution_count": 93,
   "metadata": {},
   "outputs": [],
   "source": [
    "full = full_set.merge(zeroshot_cleaned, left_on='clean_text', right_on='clean_text', how='left')\n",
    "\n",
    "#full_test = full_set.merge(zeroshot_cleaned, left_on='clean_text', right_on='clean_text', how='right')"
   ]
  },
  {
   "cell_type": "code",
   "execution_count": 90,
   "metadata": {},
   "outputs": [
    {
     "data": {
      "text/html": [
       "<div>\n",
       "<style scoped>\n",
       "    .dataframe tbody tr th:only-of-type {\n",
       "        vertical-align: middle;\n",
       "    }\n",
       "\n",
       "    .dataframe tbody tr th {\n",
       "        vertical-align: top;\n",
       "    }\n",
       "\n",
       "    .dataframe thead th {\n",
       "        text-align: right;\n",
       "    }\n",
       "</style>\n",
       "<table border=\"1\" class=\"dataframe\">\n",
       "  <thead>\n",
       "    <tr style=\"text-align: right;\">\n",
       "      <th></th>\n",
       "      <th>ad_creation_time</th>\n",
       "      <th>ad_creative_body</th>\n",
       "      <th>spend</th>\n",
       "      <th>impressions</th>\n",
       "      <th>delivery_by_region</th>\n",
       "      <th>demographic_distribution</th>\n",
       "      <th>page_id</th>\n",
       "      <th>page_name</th>\n",
       "      <th>bylines</th>\n",
       "      <th>id</th>\n",
       "      <th>spend_lo</th>\n",
       "      <th>spend_hi</th>\n",
       "      <th>impressions_lo</th>\n",
       "      <th>impressions_hi</th>\n",
       "      <th>clean_text</th>\n",
       "      <th>keyword_label</th>\n",
       "      <th>zero_shot_label</th>\n",
       "    </tr>\n",
       "  </thead>\n",
       "  <tbody>\n",
       "  </tbody>\n",
       "</table>\n",
       "</div>"
      ],
      "text/plain": [
       "Empty DataFrame\n",
       "Columns: [ad_creation_time, ad_creative_body, spend, impressions, delivery_by_region, demographic_distribution, page_id, page_name, bylines, id, spend_lo, spend_hi, impressions_lo, impressions_hi, clean_text, keyword_label, zero_shot_label]\n",
       "Index: []"
      ]
     },
     "execution_count": 90,
     "metadata": {},
     "output_type": "execute_result"
    }
   ],
   "source": [
    "full[full.zero_shot_label.isna()==True]"
   ]
  },
  {
   "cell_type": "code",
   "execution_count": 68,
   "metadata": {},
   "outputs": [],
   "source": [
    "\n",
    "true_positives = full[(full.keyword_label=='Climate') & (full.zero_shot_label.isna()==False)]\n",
    "false_positives = full[(full.keyword_label=='Climate') & (full.zero_shot_label.isna()==True)]\n",
    "true_negatives = full[(full.keyword_label=='Non-climate') & (full.zero_shot_label.isna()==True)]\n",
    "false_negatives = full[(full.keyword_label=='Non-climate') & (full.zero_shot_label.isna()==False)]"
   ]
  },
  {
   "cell_type": "code",
   "execution_count": 85,
   "metadata": {},
   "outputs": [],
   "source": [
    "total_climate_zero = len(full[full.zero_shot_label.isna()==False])\n",
    "total_climate_keyword = len(full[full.keyword_label=='Climate'])"
   ]
  },
  {
   "cell_type": "code",
   "execution_count": 88,
   "metadata": {},
   "outputs": [
    {
     "name": "stdout",
     "output_type": "stream",
     "text": [
      "zeroshot climate 19331\n",
      "keyword climate 19176\n"
     ]
    }
   ],
   "source": [
    "print(\"zeroshot climate\", total_climate_zero)\n",
    "print(\"keyword climate\", total_climate_keyword)"
   ]
  },
  {
   "cell_type": "code",
   "execution_count": 78,
   "metadata": {},
   "outputs": [
    {
     "name": "stdout",
     "output_type": "stream",
     "text": [
      "True positives 18876 0.976462676529926\n",
      "False positives 300 0.01551911437587295\n",
      "True negatives 578428 0.9994816217635919\n",
      "False negatives 455 0.023537323470073975\n"
     ]
    }
   ],
   "source": [
    "#Benchmarked against the Zeroshot.\n",
    "print(\"True positives\", len(true_positives), len(true_positives)/len(full[full.zero_shot_label.isna()==False]))\n",
    "print(\"False positives\",len(false_positives), len(false_positives)/len(full[full.zero_shot_label.isna()==False]))\n",
    "print(\"True negatives\", len(true_negatives), len(true_negatives)/len(full[full.zero_shot_label.isna()==True]))\n",
    "print(\"False negatives\", len(false_negatives), len(false_negatives)/len(full[full.zero_shot_label.isna()==False]))"
   ]
  },
  {
   "cell_type": "code",
   "execution_count": 99,
   "metadata": {},
   "outputs": [
    {
     "data": {
      "text/html": [
       "<div>\n",
       "<style scoped>\n",
       "    .dataframe tbody tr th:only-of-type {\n",
       "        vertical-align: middle;\n",
       "    }\n",
       "\n",
       "    .dataframe tbody tr th {\n",
       "        vertical-align: top;\n",
       "    }\n",
       "\n",
       "    .dataframe thead th {\n",
       "        text-align: right;\n",
       "    }\n",
       "</style>\n",
       "<table border=\"1\" class=\"dataframe\">\n",
       "  <thead>\n",
       "    <tr style=\"text-align: right;\">\n",
       "      <th></th>\n",
       "      <th>ad_creation_time</th>\n",
       "      <th>ad_creative_body</th>\n",
       "      <th>spend</th>\n",
       "      <th>impressions</th>\n",
       "      <th>delivery_by_region</th>\n",
       "      <th>demographic_distribution</th>\n",
       "      <th>page_id</th>\n",
       "      <th>page_name</th>\n",
       "      <th>bylines</th>\n",
       "      <th>id</th>\n",
       "      <th>spend_lo</th>\n",
       "      <th>spend_hi</th>\n",
       "      <th>impressions_lo</th>\n",
       "      <th>impressions_hi</th>\n",
       "      <th>clean_text</th>\n",
       "      <th>keyword_label</th>\n",
       "    </tr>\n",
       "    <tr>\n",
       "      <th>zero_shot_label</th>\n",
       "      <th></th>\n",
       "      <th></th>\n",
       "      <th></th>\n",
       "      <th></th>\n",
       "      <th></th>\n",
       "      <th></th>\n",
       "      <th></th>\n",
       "      <th></th>\n",
       "      <th></th>\n",
       "      <th></th>\n",
       "      <th></th>\n",
       "      <th></th>\n",
       "      <th></th>\n",
       "      <th></th>\n",
       "      <th></th>\n",
       "      <th></th>\n",
       "    </tr>\n",
       "  </thead>\n",
       "  <tbody>\n",
       "    <tr>\n",
       "      <th>climate</th>\n",
       "      <td>16</td>\n",
       "      <td>16</td>\n",
       "      <td>16</td>\n",
       "      <td>16</td>\n",
       "      <td>15</td>\n",
       "      <td>15</td>\n",
       "      <td>16</td>\n",
       "      <td>16</td>\n",
       "      <td>16</td>\n",
       "      <td>16</td>\n",
       "      <td>16</td>\n",
       "      <td>16</td>\n",
       "      <td>16</td>\n",
       "      <td>16</td>\n",
       "      <td>16</td>\n",
       "      <td>16</td>\n",
       "    </tr>\n",
       "    <tr>\n",
       "      <th>climate, economy</th>\n",
       "      <td>1</td>\n",
       "      <td>1</td>\n",
       "      <td>1</td>\n",
       "      <td>1</td>\n",
       "      <td>1</td>\n",
       "      <td>1</td>\n",
       "      <td>1</td>\n",
       "      <td>1</td>\n",
       "      <td>1</td>\n",
       "      <td>1</td>\n",
       "      <td>1</td>\n",
       "      <td>1</td>\n",
       "      <td>1</td>\n",
       "      <td>1</td>\n",
       "      <td>1</td>\n",
       "      <td>1</td>\n",
       "    </tr>\n",
       "    <tr>\n",
       "      <th>environment</th>\n",
       "      <td>430</td>\n",
       "      <td>430</td>\n",
       "      <td>430</td>\n",
       "      <td>430</td>\n",
       "      <td>318</td>\n",
       "      <td>318</td>\n",
       "      <td>430</td>\n",
       "      <td>430</td>\n",
       "      <td>430</td>\n",
       "      <td>430</td>\n",
       "      <td>430</td>\n",
       "      <td>430</td>\n",
       "      <td>430</td>\n",
       "      <td>430</td>\n",
       "      <td>430</td>\n",
       "      <td>430</td>\n",
       "    </tr>\n",
       "    <tr>\n",
       "      <th>environment, economy</th>\n",
       "      <td>2</td>\n",
       "      <td>2</td>\n",
       "      <td>2</td>\n",
       "      <td>2</td>\n",
       "      <td>2</td>\n",
       "      <td>2</td>\n",
       "      <td>2</td>\n",
       "      <td>2</td>\n",
       "      <td>2</td>\n",
       "      <td>2</td>\n",
       "      <td>2</td>\n",
       "      <td>2</td>\n",
       "      <td>2</td>\n",
       "      <td>2</td>\n",
       "      <td>2</td>\n",
       "      <td>2</td>\n",
       "    </tr>\n",
       "    <tr>\n",
       "      <th>environment, education</th>\n",
       "      <td>6</td>\n",
       "      <td>6</td>\n",
       "      <td>6</td>\n",
       "      <td>6</td>\n",
       "      <td>6</td>\n",
       "      <td>6</td>\n",
       "      <td>6</td>\n",
       "      <td>6</td>\n",
       "      <td>6</td>\n",
       "      <td>6</td>\n",
       "      <td>6</td>\n",
       "      <td>6</td>\n",
       "      <td>6</td>\n",
       "      <td>6</td>\n",
       "      <td>6</td>\n",
       "      <td>6</td>\n",
       "    </tr>\n",
       "  </tbody>\n",
       "</table>\n",
       "</div>"
      ],
      "text/plain": [
       "                        ad_creation_time  ad_creative_body  spend  \\\n",
       "zero_shot_label                                                     \n",
       "climate                               16                16     16   \n",
       "climate, economy                       1                 1      1   \n",
       "environment                          430               430    430   \n",
       "environment, economy                   2                 2      2   \n",
       "environment, education                 6                 6      6   \n",
       "\n",
       "                        impressions  delivery_by_region  \\\n",
       "zero_shot_label                                           \n",
       "climate                          16                  15   \n",
       "climate, economy                  1                   1   \n",
       "environment                     430                 318   \n",
       "environment, economy              2                   2   \n",
       "environment, education            6                   6   \n",
       "\n",
       "                        demographic_distribution  page_id  page_name  bylines  \\\n",
       "zero_shot_label                                                                 \n",
       "climate                                       15       16         16       16   \n",
       "climate, economy                               1        1          1        1   \n",
       "environment                                  318      430        430      430   \n",
       "environment, economy                           2        2          2        2   \n",
       "environment, education                         6        6          6        6   \n",
       "\n",
       "                         id  spend_lo  spend_hi  impressions_lo  \\\n",
       "zero_shot_label                                                   \n",
       "climate                  16        16        16              16   \n",
       "climate, economy          1         1         1               1   \n",
       "environment             430       430       430             430   \n",
       "environment, economy      2         2         2               2   \n",
       "environment, education    6         6         6               6   \n",
       "\n",
       "                        impressions_hi  clean_text  keyword_label  \n",
       "zero_shot_label                                                    \n",
       "climate                             16          16             16  \n",
       "climate, economy                     1           1              1  \n",
       "environment                        430         430            430  \n",
       "environment, economy                 2           2              2  \n",
       "environment, education               6           6              6  "
      ]
     },
     "execution_count": 99,
     "metadata": {},
     "output_type": "execute_result"
    }
   ],
   "source": [
    "false_negatives.groupby(\"zero_shot_label\").count()"
   ]
  },
  {
   "attachments": {},
   "cell_type": "markdown",
   "metadata": {},
   "source": [
    "false negatives examples"
   ]
  },
  {
   "cell_type": "code",
   "execution_count": 103,
   "metadata": {},
   "outputs": [
    {
     "data": {
      "text/plain": [
       "'it was my honor to present coastal bend college with 14 million in federal funding these funds will directly help students by assisting with the cost of textbooks transportation and student debt it will also help the college itself make the upgrades it needs to maintain a safe comfortable environment it is always a priority for me to support students in their pursuit of higher education '"
      ]
     },
     "execution_count": 103,
     "metadata": {},
     "output_type": "execute_result"
    }
   ],
   "source": [
    "false_negatives.clean_text.drop_duplicates().iloc[2]"
   ]
  },
  {
   "cell_type": "code",
   "execution_count": 116,
   "metadata": {},
   "outputs": [],
   "source": [
    "unique_texts = false_negatives.clean_text.drop_duplicates()"
   ]
  },
  {
   "cell_type": "code",
   "execution_count": 117,
   "metadata": {},
   "outputs": [
    {
     "name": "stdout",
     "output_type": "stream",
     "text": [
      "(21697, ' i believe that farms particularly family farms independent farms here in iowa can be a big part of the solution warren said we should be investing in helping those farms make sure that they are a part of cleaning up and improving our environment ')\n",
      "(133492, 'the outdoors are important to our culture economy like my page stand for public lands ')\n",
      "(133986, 'it was my honor to present coastal bend college with 14 million in federal funding these funds will directly help students by assisting with the cost of textbooks transportation and student debt it will also help the college itself make the upgrades it needs to maintain a safe comfortable environment it is always a priority for me to support students in their pursuit of higher education ')\n",
      "(134103, 'governor abbott plans to ignore local communities and basic facts to waste tax dollars that should go to education and keep building an ineffective border wall i will defend our environment wildlife and property owners whose land will be taken away for this political stunt ')\n",
      "(137641, ' breaking toxic algae now at 50x hazard level may cause vomiting rashes liver disease neurological diseases after the systematic destruction of florida s environmental protections we just can t risk having rick scott represent us any longer ')\n",
      "(148316, 'no one who is experiencing or at risk of homelessness should have to face colorado s severe weather conditions the uncertainty of where they will sleep at night or the dangers of being unsheltered it s on us to make sure that all denver residents have access to the services that they need to live safe and fulfilling lives that s why i m working hard to secure federal funds to support non profit organizations addressing the homelessness crisis in denver ')\n",
      "(148344, 'echo colorado is embedding nature and wilderness opportunities into the childcare space because access to nature should be a right not a privilege read on ')\n",
      "(148540, 'diana is a leading voice on environmental issues in congress and is working to protect both colorado s public lands and our global environment when we as a nation fail to protect our environment it is often our poorest communities that suffer the most and diana is fighting against those that threaten the colorado way of life ')\n",
      "(186053, 'saturday is caucus day this is the most important election of our lives and we need your support now make a plan to caucus today ')\n",
      "(196660, 'i was proud to get the holy grail of conservation signed into law and to protect our public lands for generations to come ')\n",
      "(201055, 'catherine is a teacher and she knows that bob menendez is the best choice he s always fought for nj s educators schools and students plus in the wake of hurricane michael catherine is voting for bob because of his environmental record ')\n",
      "(206876, 'for decades special interests have been prioritized over the well being of our waterways and there has been a massive toll taken on our communities as well as our environment the treasure coast has been forced to live with the damaging consequences of lake o discharges and it s time for it to stop ')\n",
      "(210873, 'with the trump administration s constant threats to roll back critical protections it s our responsibility to step up and fight back for our most precious natural resources add your name to stand with gary peters and fight to protect our great lakes ')\n",
      "(211539, 'natural resources like the great lakes are central to michigan s economy and identity we must make it clear to the trump administration that we will not allow them to gut protections for our great lakes and water any longer gary peters is leading the fight add your name today to join him ')\n",
      "(260984, 'scott pruitt is doing the bidding of his polluter friends pruitt acts like the oil and gas industry are his clients undermining our clean air laws and shelving critical plans for environmental enforcement it s time for trump to fire pruitt and start protecting our environment ')\n",
      "(341211, 'mort and i go way back he s a staunch environmentalist a business owner and an all around great guy mort s right washington is a tough environment these days but i believe in bringing people together to solve the important issues facing our nation maine has always played a role in building bridges from george mitchell to bill cohen to olympia snowe and it s a tradition i am determined to continue thanks mort for your support ')\n",
      "(341221, 'maine has so much to offer from a beautiful environment to a culture of community and we can leverage our state s many strengths to attract new people with new ideas to move maine and the nation forward we have to keep working on putting all corners of our state on the digital map and building a 21st century economy with high speed internet access that s why i ll keep working with leaders like alan and i m humbled to have his support ')\n",
      "(341235, 'one of my favorite things about maine is how the people embrace the environment from agriculture to tourism to renewable energy our culture of sustainability and getting outside is a model for the nation i ll keep advocating for smart policies in washington so that the generations to come can enjoy the natural beauty we have today thanks john from hallowell for your support ')\n",
      "(341240, 'john and molly really are amazing people they live in vassalboro and john spent years leading maine s department of transportation a critical job to support many sectors of our state from farmers to fisherman tourists to the technology sector maine s economy depends upon our roads and infrastructure molly has also done it all a fierce advocate for education and the environment molly has worked to make maine a great place to live for the generations to come that is why their support means so much to me ')\n",
      "(341907, 'our fishing industry in massachusetts is essential for so many working families we must protect our environment and ensure our fisherman can succeed in the modern economy fight for environmental protections that protect our beautiful shores and our hard working fisherman ')\n",
      "(342508, 'texas came in on top as the state with the best business climate in business facilities 16th annual rankings report the strength of texas economy and conservative values will be a guiding force as america continues to reopen and rebuild ')\n",
      "(346021, ' even with the pandemic going on businesses are still open and projects to protect our wildlife and natural habitats are still ongoing it was helpful to hear directly from local leaders and my constituents about these projects and how the pandemic has affected them said schrier ')\n",
      "(351699, 'since coming to congress i ve fought to protect plum island securing house passage of my legislation to preserve it for conservation education and research four times on long island our waterways are our way of life and plum island is a critical part of our environment history and culture i will never stop fighting to preserve what makes long island home and i will work with anyone to protect our environment plum island and the greatest congressional district in the country ')\n",
      "(353047, 'the weather is getting colder but nothing will stop our team from getting out there to earn every vote we can today we spoke to voters at their doors all over topeka it is so encouraging to see the enthusiasm of voters and volunteers who are ready to keep this district red ')\n",
      "(354475, 'in 2016 i supported establishing the bears ears national monument then donald trump decreased bears ears by 85 in 2017 this month we undid this damage caused by the trump administration by restoring protections for the monument in honor of our tribes including the ute mountain ute tribe who consider this land sacred we need to protect our environment especially spaces that are sacred to our tribal communities but i can only do that if we can hold this senate seat and our majority can you donate any amount today to make sure that we can keep protecting our public lands ')\n",
      "(363176, 'the trump administration continues to threaten our public lands anyone from the west knows that protecting the places we love also means driving economic growth if you believe this too stand with me and support the colorado outdoor recreation and economy act ')\n",
      "(379296, 'the great american outdoors act will permanently fund the land and water conservation fund to protect our natural resources national parks and public lands i m proud to deliver this result for the north country ')\n",
      "(381662, 'debbie wasserman schultz knows the importance of protecting our natural treasures that s why she helped secure 3 3 billion to protect our wetlands and clean drinking water ')\n",
      "(387639, 'from the pristine clear waters to the unspoiled forests the bwca is an irreplaceable refuge for millions we have an obligation to protect it become a citizen co sponsor of the boundary waters wilderness protection and pollution prevention act today ')\n",
      "(388439, 'our nation is bountiful with natural resources and we owe it to future generations to preserve america s beauty and ecosystems i m proud to be leading the fight to keep america the beautiful learn more ')\n",
      "(397977, 'israel has been our strongest supporter and constant ally in the fight against terrorism as a trade defense and global partner israel has strengthened american interests on all fronts we can t turn our back on them now ')\n",
      "(408793, 'environmental experts isaac moriwake h k ao pellegrino and kehau springer will be joining us on the next episode of talk story with kai protecting hawai i s environment from mauka to makai on thursday september 17 at 6 00pm hst to discuss the current threats hawai i is facing and approaches to protect our natural environment and communities ')\n",
      "(409079, 'speaking at labor day barbecue with newton democratic city committee for democrats to be the national party of equal opportunity we must be the local party of affordable housing public transportation for democrats to be the national party of the environment we must be the local party of transit oriented development complete streets and municipal electricity aggregation it s not just about the white house think locally act locally vote locally ')\n",
      "(409747, 'as a small business owner and immigrant living the american dream young knows what it takes to create an environment where jobs can be created and workers can thrive ')\n",
      "(418305, 'once they re gone they re gone we can t place a dollar value on endangered species protecting them is critical to maintaining the biodiversity of our natural environment it s our responsibility to be stewards of our natural resources so that they can be around for generations to come and if we start nitpicking what gets protected and what doesn t species will disappear forever this is a senseless sellout for short term profits ')\n",
      "(429070, 'whether for livelihood or leisure lake erie and the natural resources of northern ohio play an integral role in our lives congresswoman marcy kaptur is committed to restoring and preserving our environment today and for generations to come like marcy s page to stay up to date on her efforts to protect our beloved lake erie and its wild habitats ')\n",
      "(432926, 'trump s supreme court nominee brett kavanaugh sides with industry and big polluters over protecting the environment he has struck down critical environmental protections during his career on everything from air quality to banning hydrofluorocarbons often citing cost as a primary motivator we cannot put a price tag on the environment sign the petition to protect the environment reject brett kavanaugh for the supreme court ')\n",
      "(432952, 'the farm bill is one of most crucial pieces of environmental legislation up for evaluation once every five years but instead of helping family farms the trump administration is giving corporate megafarms upwards of 60 percent of all farm bill subsidies tell congress we won t stand for this ')\n",
      "(433201, 'we are not powerless to stop this if we take action now we can mitigate these damages and make our planet more livable for ourselves and our children ')\n",
      "(451707, 'the endangered species act was signed into law by a republican president passed with bipartisan support and has brought countless animals back from the brink of extinction protecting the environment and endangered animals is nonpartisan but the trump administration is manipulating the endangered species act for political gain and corporate greed sign our petition and tell the trump administration stop attacking the endangered species act ')\n",
      "(452375, 'so happy to talk with with aura and luther earlier today about the history of the carmen pabon garden these green spaces are so important for our communities and everyone had a terrific time at les ii family day and thanks for posting those photos john m blasco and carlina rivera les lowereastside')\n",
      "(463050, 'it s always a real pleasure attending the rgv down syndrome association events i learn so much each time i will never give up the fight for providing our special needs citizens an environment where they can succeed thrive ')\n",
      "(501473, 'i ve been busy on the campaign trail meeting with new mexicans across our beautiful district fighting proposed mining and working with environmentalists to protect the lands we love with 29 years of experience i have a deep understanding of what our communities need donate any amount to send me to congress to protect what we love ')\n",
      "(502633, 'general milley has failed our country in more ways than one and i am calling for his termination immediately joe biden do your job and hold general milley accountable ')\n",
      "(535007, 'our nation s greatest natural resource is the great lakes with an abundance of fresh water on our shores in michigan we should expect that congress will protect our waters in congress i will be a strong supporter of the great lakes and our environment ')\n",
      "(535008, 'we are stewards of our natural inheritance in congress i will be a strong supporter of our great lakes and our environment so that we can pass down our heritage and way of life for generations to come ')\n",
      "(542686, 'for the last three and a half years sen mark warner worked diligently on his bi partisan great american outdoors act which was signed into law earlier this summer learn more about this investment in our national parks ')\n",
      "(546903, 'i started off the morning with legislator kevin mccaffrey helping to kick off a huge community cleanup thank you to save the great south bay and other local organizations for coming together to pick up litter and other debris from waterways and community areas throughout the village of lindenhurst together we can help preserve our environment ')\n",
      "(546917, 'yesterday i teamed up with michael durso for state assembly in massapequa park to talk with voters face to face what issues matter most to them leading up to election day i hear from residents time and time again support our law enforcement protect our environment and lower our taxes in congress i look forward to working with mike massapequa park mayor danny pearl trustee dana durso and all of our local elected officials to continue to deliver results for long island families just as congressman king has for so many years ')\n",
      "(546941, 'legislator tom cilmi and i have worked together for years on initiatives to protect our environment and the great south bay we recently got together at east islip marina park to talk about how we can make sure our beautiful oceans beaches and parks are around for our children and grandchildren to enjoy for generations to come ')\n",
      "(549302, 'northwest washington is home to the puget sound its connecting rivers and streams diverse wildlife and marine ecosystems including orcas and salmon a healthy environment is vital to washingtonians way of life and the regional economy outdoor recreation is critical to our economy fishermen hunters boaters hikers snowboarders and tourists spend billions of dollars here and create tens of thousands of jobs but trump is working to roll back environmental protections to fast track new construction regardless of the outcome it has on communities sign the petition and tell president trump stop rescinding environmental protections ')\n",
      "(549389, 'northwest washington is home to the puget sound its connecting rivers and streams diverse wildlife and marine ecosystems including orcas and salmon a healthy environment is vital to washingtonians way of life and the regional economy outdoor recreation is critical to our economy fishermen hunters boaters hikers snowboarders and tourists spend billions of dollars here and create 7 6 million jobs but trump is working to roll back environmental protections to fast track new construction regardless of the outcome it has on communities sign the petition and tell president trump stop rescinding environmental protections ')\n",
      "(549462, 'the endangered species act has brought countless animals back from the brink of extinction protecting the environment and our endangered animals should be nonpartisan but the trump administration is manipulating the endangered species act for political gain and corporate greed sign our petition and tell the trump administration stop attacking the endangered species act ')\n",
      "(550987, 'this month the great american outdoors act was signed into law it s a big deal this includes my priority of investing in the land and water conservation fund lwcf and driving much needed repairs at olympic national park and national parks across the country ')\n",
      "(551724, 'shouldn t we protect our national parks for the next generation time to reinvest in public lands ')\n",
      "(574873, 'a bombshell article from politico detailed how sketchy super pacs bankrolled by shadowy mega donors are using new tricks to hide their donors from the public like a group attacking jon tester right now this is what happens in a single digit election rosendale and his billionaire backers know there s a real chance they can defeat jon tester and they are leaving nothing to chance that s why your donation is so critical right now can you show jon you have his back today ')\n",
      "(595487, 'wild animals need to be just that wild the captivity of lions tigers bears and all other wild animals needs to stop it s bad for them it s bad for the environment we can do better sign my petition now if you agree ')\n",
      "(597358, 'since the people of colorado s 6th district elected jason crow to congress he hit the ground running taking action to make prescriptions more affordable protect our environment hold leaders accountable expand and protect equal rights and so much more help keep up the momentum by chipping in before our critical april 30th deadline now ')\n"
     ]
    }
   ],
   "source": [
    "for val in unique_texts.iteritems():\n",
    "    print(val)"
   ]
  }
 ],
 "metadata": {
  "kernelspec": {
   "display_name": "base",
   "language": "python",
   "name": "python3"
  },
  "language_info": {
   "codemirror_mode": {
    "name": "ipython",
    "version": 3
   },
   "file_extension": ".py",
   "mimetype": "text/x-python",
   "name": "python",
   "nbconvert_exporter": "python",
   "pygments_lexer": "ipython3",
   "version": "3.9.7"
  },
  "orig_nbformat": 4,
  "vscode": {
   "interpreter": {
    "hash": "36e2581dfb10b7e3de3547be529c2e8e9e4d59798f578734b808d68ebdb931d0"
   }
  }
 },
 "nbformat": 4,
 "nbformat_minor": 2
}
